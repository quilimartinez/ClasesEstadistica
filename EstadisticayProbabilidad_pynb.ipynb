{
  "cells": [
    {
      "cell_type": "markdown",
      "source": [
        "#**UNIDAD 1. HERRAMIENTAS DE ESTADÍSTICA Y PROBABILIDAD EN EL NEGOCIO BANACARIO**"
      ],
      "metadata": {
        "id": "WO3WNrE60ZN3"
      }
    },
    {
      "cell_type": "markdown",
      "source": [
        "# Base de datos"
      ],
      "metadata": {
        "id": "YFQ1CZCS0wWz"
      }
    },
    {
      "cell_type": "markdown",
      "source": [
        "Trabajaremos con la Base de datos Banco"
      ],
      "metadata": {
        "id": "XBO3ABuKYMGI"
      }
    },
    {
      "cell_type": "code",
      "source": [
        "#Importo las librerias que voy a necesitar\n",
        "import pandas as pd\n",
        "import numpy as np\n",
        "import matplotlib.pyplot as plt\n",
        "import seaborn as sn\n",
        "import statistics as stat\n",
        "import scipy.stats as st\n",
        "from statistics import stdev\n"
      ],
      "metadata": {
        "id": "uO1WggVo0-3V"
      },
      "execution_count": null,
      "outputs": []
    },
    {
      "cell_type": "code",
      "source": [
        "#Conecto con el Drive de donde voy a leer el archivo\n",
        "from google.colab import drive\n",
        "drive.mount('/content/drive')"
      ],
      "metadata": {
        "colab": {
          "base_uri": "https://localhost:8080/"
        },
        "id": "kI8MaUDTXZYd",
        "outputId": "5ec44e87-0c3b-45b4-c359-92be200c4778"
      },
      "execution_count": null,
      "outputs": [
        {
          "output_type": "stream",
          "name": "stdout",
          "text": [
            "Mounted at /content/drive\n"
          ]
        }
      ]
    },
    {
      "cell_type": "code",
      "source": [
        "data = pd.read_excel(\"/content/drive/MyDrive/Colab Notebooks/BaseParaTrayecto3.ipynb\")"
      ],
      "metadata": {
        "colab": {
          "base_uri": "https://localhost:8080/",
          "height": 165
        },
        "id": "g8guqjekK60s",
        "outputId": "b2b7969d-8c5d-4b79-f821-131dbb1f7859"
      },
      "execution_count": null,
      "outputs": [
        {
          "output_type": "error",
          "ename": "NameError",
          "evalue": "ignored",
          "traceback": [
            "\u001b[0;31m---------------------------------------------------------------------------\u001b[0m",
            "\u001b[0;31mNameError\u001b[0m                                 Traceback (most recent call last)",
            "\u001b[0;32m<ipython-input-1-78f6ad7026d8>\u001b[0m in \u001b[0;36m<module>\u001b[0;34m\u001b[0m\n\u001b[0;32m----> 1\u001b[0;31m \u001b[0mdata\u001b[0m \u001b[0;34m=\u001b[0m \u001b[0mpd\u001b[0m\u001b[0;34m.\u001b[0m\u001b[0mread_excel\u001b[0m\u001b[0;34m(\u001b[0m\u001b[0;34m\"/content/drive/MyDrive/Colab Notebooks/BaseParaTrayecto3.ipynb\"\u001b[0m\u001b[0;34m)\u001b[0m\u001b[0;34m\u001b[0m\u001b[0;34m\u001b[0m\u001b[0m\n\u001b[0m",
            "\u001b[0;31mNameError\u001b[0m: name 'pd' is not defined"
          ]
        }
      ]
    },
    {
      "cell_type": "code",
      "execution_count": null,
      "metadata": {
        "id": "mW-HOv57tR8L"
      },
      "outputs": [],
      "source": [
        "data.dtypes #filas, columnas"
      ]
    },
    {
      "cell_type": "markdown",
      "source": [
        "En python, los tipos de datos se sintetizan en:\n",
        "  \n",
        "\n",
        "1.   Numéricos\n",
        "\n",
        "*   float: numeros con decimales\n",
        "*   Integer: numeros enteros\n",
        "\n",
        "2.   Categóricos\n",
        "\n",
        "*   String: cadenas"
      ],
      "metadata": {
        "id": "GNrFqJVrLQL7"
      }
    },
    {
      "cell_type": "markdown",
      "source": [
        "# Organización y resumen de datos"
      ],
      "metadata": {
        "id": "S1l1ut_T0pQM"
      }
    },
    {
      "cell_type": "markdown",
      "source": [
        "**Tabla para datos categóricos**"
      ],
      "metadata": {
        "id": "gp1rtUp1XgpD"
      }
    },
    {
      "cell_type": "markdown",
      "source": [
        "Resumimos los datos de la variable Región mediante una tabla de distribución de frecuencias\n"
      ],
      "metadata": {
        "id": "3uvtAFbLin7m"
      }
    },
    {
      "cell_type": "code",
      "source": [
        "tabla_frec_region18=pd.value_counts(data.region18).to_frame().reset_index()\n",
        "tabla_frec_region18.columns= (\"Region\",\"fa\")\n",
        "tabla_frec_region18"
      ],
      "metadata": {
        "colab": {
          "base_uri": "https://localhost:8080/",
          "height": 143
        },
        "id": "QpqRJMkQho1j",
        "outputId": "f77b0c93-57d2-427a-e9b9-db6bc93002e0"
      },
      "execution_count": null,
      "outputs": [
        {
          "output_type": "execute_result",
          "data": {
            "text/plain": [
              "  Region   fa\n",
              "0      B  199\n",
              "1      C   31\n",
              "2      A   20"
            ],
            "text/html": [
              "\n",
              "  <div id=\"df-d8221d90-0781-4efd-b655-834288cb9088\">\n",
              "    <div class=\"colab-df-container\">\n",
              "      <div>\n",
              "<style scoped>\n",
              "    .dataframe tbody tr th:only-of-type {\n",
              "        vertical-align: middle;\n",
              "    }\n",
              "\n",
              "    .dataframe tbody tr th {\n",
              "        vertical-align: top;\n",
              "    }\n",
              "\n",
              "    .dataframe thead th {\n",
              "        text-align: right;\n",
              "    }\n",
              "</style>\n",
              "<table border=\"1\" class=\"dataframe\">\n",
              "  <thead>\n",
              "    <tr style=\"text-align: right;\">\n",
              "      <th></th>\n",
              "      <th>Region</th>\n",
              "      <th>fa</th>\n",
              "    </tr>\n",
              "  </thead>\n",
              "  <tbody>\n",
              "    <tr>\n",
              "      <th>0</th>\n",
              "      <td>B</td>\n",
              "      <td>199</td>\n",
              "    </tr>\n",
              "    <tr>\n",
              "      <th>1</th>\n",
              "      <td>C</td>\n",
              "      <td>31</td>\n",
              "    </tr>\n",
              "    <tr>\n",
              "      <th>2</th>\n",
              "      <td>A</td>\n",
              "      <td>20</td>\n",
              "    </tr>\n",
              "  </tbody>\n",
              "</table>\n",
              "</div>\n",
              "      <button class=\"colab-df-convert\" onclick=\"convertToInteractive('df-d8221d90-0781-4efd-b655-834288cb9088')\"\n",
              "              title=\"Convert this dataframe to an interactive table.\"\n",
              "              style=\"display:none;\">\n",
              "        \n",
              "  <svg xmlns=\"http://www.w3.org/2000/svg\" height=\"24px\"viewBox=\"0 0 24 24\"\n",
              "       width=\"24px\">\n",
              "    <path d=\"M0 0h24v24H0V0z\" fill=\"none\"/>\n",
              "    <path d=\"M18.56 5.44l.94 2.06.94-2.06 2.06-.94-2.06-.94-.94-2.06-.94 2.06-2.06.94zm-11 1L8.5 8.5l.94-2.06 2.06-.94-2.06-.94L8.5 2.5l-.94 2.06-2.06.94zm10 10l.94 2.06.94-2.06 2.06-.94-2.06-.94-.94-2.06-.94 2.06-2.06.94z\"/><path d=\"M17.41 7.96l-1.37-1.37c-.4-.4-.92-.59-1.43-.59-.52 0-1.04.2-1.43.59L10.3 9.45l-7.72 7.72c-.78.78-.78 2.05 0 2.83L4 21.41c.39.39.9.59 1.41.59.51 0 1.02-.2 1.41-.59l7.78-7.78 2.81-2.81c.8-.78.8-2.07 0-2.86zM5.41 20L4 18.59l7.72-7.72 1.47 1.35L5.41 20z\"/>\n",
              "  </svg>\n",
              "      </button>\n",
              "      \n",
              "  <style>\n",
              "    .colab-df-container {\n",
              "      display:flex;\n",
              "      flex-wrap:wrap;\n",
              "      gap: 12px;\n",
              "    }\n",
              "\n",
              "    .colab-df-convert {\n",
              "      background-color: #E8F0FE;\n",
              "      border: none;\n",
              "      border-radius: 50%;\n",
              "      cursor: pointer;\n",
              "      display: none;\n",
              "      fill: #1967D2;\n",
              "      height: 32px;\n",
              "      padding: 0 0 0 0;\n",
              "      width: 32px;\n",
              "    }\n",
              "\n",
              "    .colab-df-convert:hover {\n",
              "      background-color: #E2EBFA;\n",
              "      box-shadow: 0px 1px 2px rgba(60, 64, 67, 0.3), 0px 1px 3px 1px rgba(60, 64, 67, 0.15);\n",
              "      fill: #174EA6;\n",
              "    }\n",
              "\n",
              "    [theme=dark] .colab-df-convert {\n",
              "      background-color: #3B4455;\n",
              "      fill: #D2E3FC;\n",
              "    }\n",
              "\n",
              "    [theme=dark] .colab-df-convert:hover {\n",
              "      background-color: #434B5C;\n",
              "      box-shadow: 0px 1px 3px 1px rgba(0, 0, 0, 0.15);\n",
              "      filter: drop-shadow(0px 1px 2px rgba(0, 0, 0, 0.3));\n",
              "      fill: #FFFFFF;\n",
              "    }\n",
              "  </style>\n",
              "\n",
              "      <script>\n",
              "        const buttonEl =\n",
              "          document.querySelector('#df-d8221d90-0781-4efd-b655-834288cb9088 button.colab-df-convert');\n",
              "        buttonEl.style.display =\n",
              "          google.colab.kernel.accessAllowed ? 'block' : 'none';\n",
              "\n",
              "        async function convertToInteractive(key) {\n",
              "          const element = document.querySelector('#df-d8221d90-0781-4efd-b655-834288cb9088');\n",
              "          const dataTable =\n",
              "            await google.colab.kernel.invokeFunction('convertToInteractive',\n",
              "                                                     [key], {});\n",
              "          if (!dataTable) return;\n",
              "\n",
              "          const docLinkHtml = 'Like what you see? Visit the ' +\n",
              "            '<a target=\"_blank\" href=https://colab.research.google.com/notebooks/data_table.ipynb>data table notebook</a>'\n",
              "            + ' to learn more about interactive tables.';\n",
              "          element.innerHTML = '';\n",
              "          dataTable['output_type'] = 'display_data';\n",
              "          await google.colab.output.renderOutput(dataTable, element);\n",
              "          const docLink = document.createElement('div');\n",
              "          docLink.innerHTML = docLinkHtml;\n",
              "          element.appendChild(docLink);\n",
              "        }\n",
              "      </script>\n",
              "    </div>\n",
              "  </div>\n",
              "  "
            ]
          },
          "metadata": {},
          "execution_count": 31
        }
      ]
    },
    {
      "cell_type": "markdown",
      "source": [
        "Frecuencias absolutas: cantidad de veces que se repite cada valor de la variable."
      ],
      "metadata": {
        "id": "3QLfbH4Uj1xK"
      }
    },
    {
      "cell_type": "code",
      "source": [
        "fr=(data.region18.value_counts()/len(data.region18))*100\n",
        "lis=fr.values\n",
        "tabla_frec_region18[\"fr\"]=lis\n",
        "tabla_frec_region18"
      ],
      "metadata": {
        "colab": {
          "base_uri": "https://localhost:8080/",
          "height": 173
        },
        "id": "Zqs2dTObhOLl",
        "outputId": "a3d2acc9-16cf-4506-b600-8726828d92d3"
      },
      "execution_count": null,
      "outputs": [
        {
          "output_type": "execute_result",
          "data": {
            "text/plain": [
              "  Region   fa    fr\n",
              "0      B  199  79.6\n",
              "1      C   31  12.4\n",
              "2      A   20   8.0"
            ],
            "text/html": [
              "\n",
              "  <div id=\"df-db27b264-ee7a-48a8-a6c6-b7de3814b91c\">\n",
              "    <div class=\"colab-df-container\">\n",
              "      <div>\n",
              "<style scoped>\n",
              "    .dataframe tbody tr th:only-of-type {\n",
              "        vertical-align: middle;\n",
              "    }\n",
              "\n",
              "    .dataframe tbody tr th {\n",
              "        vertical-align: top;\n",
              "    }\n",
              "\n",
              "    .dataframe thead th {\n",
              "        text-align: right;\n",
              "    }\n",
              "</style>\n",
              "<table border=\"1\" class=\"dataframe\">\n",
              "  <thead>\n",
              "    <tr style=\"text-align: right;\">\n",
              "      <th></th>\n",
              "      <th>Region</th>\n",
              "      <th>fa</th>\n",
              "      <th>fr</th>\n",
              "    </tr>\n",
              "  </thead>\n",
              "  <tbody>\n",
              "    <tr>\n",
              "      <th>0</th>\n",
              "      <td>B</td>\n",
              "      <td>199</td>\n",
              "      <td>79.6</td>\n",
              "    </tr>\n",
              "    <tr>\n",
              "      <th>1</th>\n",
              "      <td>C</td>\n",
              "      <td>31</td>\n",
              "      <td>12.4</td>\n",
              "    </tr>\n",
              "    <tr>\n",
              "      <th>2</th>\n",
              "      <td>A</td>\n",
              "      <td>20</td>\n",
              "      <td>8.0</td>\n",
              "    </tr>\n",
              "  </tbody>\n",
              "</table>\n",
              "</div>\n",
              "      <button class=\"colab-df-convert\" onclick=\"convertToInteractive('df-db27b264-ee7a-48a8-a6c6-b7de3814b91c')\"\n",
              "              title=\"Convert this dataframe to an interactive table.\"\n",
              "              style=\"display:none;\">\n",
              "        \n",
              "  <svg xmlns=\"http://www.w3.org/2000/svg\" height=\"24px\"viewBox=\"0 0 24 24\"\n",
              "       width=\"24px\">\n",
              "    <path d=\"M0 0h24v24H0V0z\" fill=\"none\"/>\n",
              "    <path d=\"M18.56 5.44l.94 2.06.94-2.06 2.06-.94-2.06-.94-.94-2.06-.94 2.06-2.06.94zm-11 1L8.5 8.5l.94-2.06 2.06-.94-2.06-.94L8.5 2.5l-.94 2.06-2.06.94zm10 10l.94 2.06.94-2.06 2.06-.94-2.06-.94-.94-2.06-.94 2.06-2.06.94z\"/><path d=\"M17.41 7.96l-1.37-1.37c-.4-.4-.92-.59-1.43-.59-.52 0-1.04.2-1.43.59L10.3 9.45l-7.72 7.72c-.78.78-.78 2.05 0 2.83L4 21.41c.39.39.9.59 1.41.59.51 0 1.02-.2 1.41-.59l7.78-7.78 2.81-2.81c.8-.78.8-2.07 0-2.86zM5.41 20L4 18.59l7.72-7.72 1.47 1.35L5.41 20z\"/>\n",
              "  </svg>\n",
              "      </button>\n",
              "      \n",
              "  <style>\n",
              "    .colab-df-container {\n",
              "      display:flex;\n",
              "      flex-wrap:wrap;\n",
              "      gap: 12px;\n",
              "    }\n",
              "\n",
              "    .colab-df-convert {\n",
              "      background-color: #E8F0FE;\n",
              "      border: none;\n",
              "      border-radius: 50%;\n",
              "      cursor: pointer;\n",
              "      display: none;\n",
              "      fill: #1967D2;\n",
              "      height: 32px;\n",
              "      padding: 0 0 0 0;\n",
              "      width: 32px;\n",
              "    }\n",
              "\n",
              "    .colab-df-convert:hover {\n",
              "      background-color: #E2EBFA;\n",
              "      box-shadow: 0px 1px 2px rgba(60, 64, 67, 0.3), 0px 1px 3px 1px rgba(60, 64, 67, 0.15);\n",
              "      fill: #174EA6;\n",
              "    }\n",
              "\n",
              "    [theme=dark] .colab-df-convert {\n",
              "      background-color: #3B4455;\n",
              "      fill: #D2E3FC;\n",
              "    }\n",
              "\n",
              "    [theme=dark] .colab-df-convert:hover {\n",
              "      background-color: #434B5C;\n",
              "      box-shadow: 0px 1px 3px 1px rgba(0, 0, 0, 0.15);\n",
              "      filter: drop-shadow(0px 1px 2px rgba(0, 0, 0, 0.3));\n",
              "      fill: #FFFFFF;\n",
              "    }\n",
              "  </style>\n",
              "\n",
              "      <script>\n",
              "        const buttonEl =\n",
              "          document.querySelector('#df-db27b264-ee7a-48a8-a6c6-b7de3814b91c button.colab-df-convert');\n",
              "        buttonEl.style.display =\n",
              "          google.colab.kernel.accessAllowed ? 'block' : 'none';\n",
              "\n",
              "        async function convertToInteractive(key) {\n",
              "          const element = document.querySelector('#df-db27b264-ee7a-48a8-a6c6-b7de3814b91c');\n",
              "          const dataTable =\n",
              "            await google.colab.kernel.invokeFunction('convertToInteractive',\n",
              "                                                     [key], {});\n",
              "          if (!dataTable) return;\n",
              "\n",
              "          const docLinkHtml = 'Like what you see? Visit the ' +\n",
              "            '<a target=\"_blank\" href=https://colab.research.google.com/notebooks/data_table.ipynb>data table notebook</a>'\n",
              "            + ' to learn more about interactive tables.';\n",
              "          element.innerHTML = '';\n",
              "          dataTable['output_type'] = 'display_data';\n",
              "          await google.colab.output.renderOutput(dataTable, element);\n",
              "          const docLink = document.createElement('div');\n",
              "          docLink.innerHTML = docLinkHtml;\n",
              "          element.appendChild(docLink);\n",
              "        }\n",
              "      </script>\n",
              "    </div>\n",
              "  </div>\n",
              "  "
            ]
          },
          "metadata": {},
          "execution_count": 32
        }
      ]
    },
    {
      "cell_type": "markdown",
      "source": [
        "Frecuencias relativas: proporción de veces que se repite cada valor de la variable"
      ],
      "metadata": {
        "id": "KSLJRRAdj9qh"
      }
    },
    {
      "cell_type": "markdown",
      "source": [
        "La variable Región presenta categorias expresadas en escala nominal, por lo que no tiene sentido calcular frecuencias acumuladas.\n",
        "Cuando la escala es ordinal, las categorías indican un cierto orden en relación al nivel y se pueden obtener frecuencias aboslutas o relativas acumuladas, si lo que queremos saber es cantidad o proporción de elementos hasta cierta categoría en particular."
      ],
      "metadata": {
        "id": "rzHMfMDlkrBV"
      }
    },
    {
      "cell_type": "markdown",
      "source": [
        "**> Graficos para variables categoricas**\n",
        "\n"
      ],
      "metadata": {
        "id": "l3Ap0ct1denQ"
      }
    },
    {
      "cell_type": "markdown",
      "source": [
        "Diagrama circular: se representa en el círculo el 100% de los casos relevados y las porciones o divisiones se hacen en función a las frecuencias absolutas o relativas."
      ],
      "metadata": {
        "id": "UXoZ7XZ9vGuP"
      }
    },
    {
      "cell_type": "code",
      "source": [
        "#Usamos la libreria Matplotlib\n",
        "import matplotlib.pyplot as plt\n",
        "\n",
        "fr = [199,31,20]\n",
        "nombres = [\"B\",\"C\",\"A\"]\n",
        "plt.pie(fr, labels=nombres, autopct=\"%0.1f %%\")\n",
        "plt.axis(\"equal\")\n",
        "plt.show()\n"
      ],
      "metadata": {
        "colab": {
          "base_uri": "https://localhost:8080/",
          "height": 248
        },
        "id": "n7wx_dsEvL0j",
        "outputId": "06d1d126-39f3-408e-f4b8-b28a0a2b744d"
      },
      "execution_count": null,
      "outputs": [
        {
          "output_type": "display_data",
          "data": {
            "text/plain": [
              "<Figure size 432x288 with 1 Axes>"
            ],
            "image/png": "[encoded data removed]"
          },
          "metadata": {}
        }
      ]
    },
    {
      "cell_type": "markdown",
      "source": [
        "Gráfico de barras: cada una de ellas representa una categoría (en el ejemplo, una región) y la altura de cada barra la frecuencia correspondiente (absoluta o relativa)."
      ],
      "metadata": {
        "id": "jmj6CqG1xCnx"
      }
    },
    {
      "cell_type": "code",
      "source": [
        "plt.figure(figsize=(8,5)) # elijo el tamaño de mi gráfica\n",
        "sn.countplot(data=data, x='region18')\n",
        "plt.ylabel('cantidad',size=15)\n",
        "plt.xlabel('region18', size=15)\n",
        "plt.title('Cantidad de clientes por region', size=15)\n",
        "plt.legend()"
      ],
      "metadata": {
        "colab": {
          "base_uri": "https://localhost:8080/",
          "height": 392
        },
        "id": "HHn8Rch0xgtZ",
        "outputId": "5e93d3d1-5921-4477-e919-b81f49f77e92"
      },
      "execution_count": null,
      "outputs": [
        {
          "output_type": "stream",
          "name": "stderr",
          "text": [
            "No handles with labels found to put in legend.\n"
          ]
        },
        {
          "output_type": "execute_result",
          "data": {
            "text/plain": [
              "<matplotlib.legend.Legend at 0x7f8cd9ecc950>"
            ]
          },
          "metadata": {},
          "execution_count": 33
        },
        {
          "output_type": "display_data",
          "data": {
            "text/plain": [
              "<Figure size 576x360 with 1 Axes>"
            ],
            "image/png": "[encoded data removed]"
          },
          "metadata": {
            "needs_background": "light"
          }
        }
      ]
    },
    {
      "cell_type": "markdown",
      "source": [
        "**Tabla para datos numéricos  discretos**"
      ],
      "metadata": {
        "id": "MsNWtts6yUeD"
      }
    },
    {
      "cell_type": "markdown",
      "source": [
        "Resumiremos los datos de la variable Cantidad de productos que el cliente tiene contratados con el banco mediante una tabla de distribución de frecuencias."
      ],
      "metadata": {
        "id": "Aw07g8vNyT9n"
      }
    },
    {
      "cell_type": "code",
      "source": [
        "tabla_frec_cantprod=pd.value_counts(data.prod18).to_frame().reset_index()\n",
        "tabla_frec_cantprod.columns= (\"Cantidad de productos\",\"fa\")\n",
        "tabla_frec_cantprod"
      ],
      "metadata": {
        "colab": {
          "base_uri": "https://localhost:8080/",
          "height": 238
        },
        "id": "OXiMdd6syTzj",
        "outputId": "870410fe-9b04-4c3b-f98e-64f6668593f2"
      },
      "execution_count": null,
      "outputs": [
        {
          "output_type": "execute_result",
          "data": {
            "text/plain": [
              "   Cantidad de productos  fa\n",
              "0                      1  89\n",
              "1                      2  83\n",
              "2                      3  46\n",
              "3                      4  25\n",
              "4                      5   6\n",
              "5                      6   1"
            ],
            "text/html": [
              "\n",
              "  <div id=\"df-a2fef4bb-d082-4ff5-b2f3-1f73a984a604\">\n",
              "    <div class=\"colab-df-container\">\n",
              "      <div>\n",
              "<style scoped>\n",
              "    .dataframe tbody tr th:only-of-type {\n",
              "        vertical-align: middle;\n",
              "    }\n",
              "\n",
              "    .dataframe tbody tr th {\n",
              "        vertical-align: top;\n",
              "    }\n",
              "\n",
              "    .dataframe thead th {\n",
              "        text-align: right;\n",
              "    }\n",
              "</style>\n",
              "<table border=\"1\" class=\"dataframe\">\n",
              "  <thead>\n",
              "    <tr style=\"text-align: right;\">\n",
              "      <th></th>\n",
              "      <th>Cantidad de productos</th>\n",
              "      <th>fa</th>\n",
              "    </tr>\n",
              "  </thead>\n",
              "  <tbody>\n",
              "    <tr>\n",
              "      <th>0</th>\n",
              "      <td>1</td>\n",
              "      <td>89</td>\n",
              "    </tr>\n",
              "    <tr>\n",
              "      <th>1</th>\n",
              "      <td>2</td>\n",
              "      <td>83</td>\n",
              "    </tr>\n",
              "    <tr>\n",
              "      <th>2</th>\n",
              "      <td>3</td>\n",
              "      <td>46</td>\n",
              "    </tr>\n",
              "    <tr>\n",
              "      <th>3</th>\n",
              "      <td>4</td>\n",
              "      <td>25</td>\n",
              "    </tr>\n",
              "    <tr>\n",
              "      <th>4</th>\n",
              "      <td>5</td>\n",
              "      <td>6</td>\n",
              "    </tr>\n",
              "    <tr>\n",
              "      <th>5</th>\n",
              "      <td>6</td>\n",
              "      <td>1</td>\n",
              "    </tr>\n",
              "  </tbody>\n",
              "</table>\n",
              "</div>\n",
              "      <button class=\"colab-df-convert\" onclick=\"convertToInteractive('df-a2fef4bb-d082-4ff5-b2f3-1f73a984a604')\"\n",
              "              title=\"Convert this dataframe to an interactive table.\"\n",
              "              style=\"display:none;\">\n",
              "        \n",
              "  <svg xmlns=\"http://www.w3.org/2000/svg\" height=\"24px\"viewBox=\"0 0 24 24\"\n",
              "       width=\"24px\">\n",
              "    <path d=\"M0 0h24v24H0V0z\" fill=\"none\"/>\n",
              "    <path d=\"M18.56 5.44l.94 2.06.94-2.06 2.06-.94-2.06-.94-.94-2.06-.94 2.06-2.06.94zm-11 1L8.5 8.5l.94-2.06 2.06-.94-2.06-.94L8.5 2.5l-.94 2.06-2.06.94zm10 10l.94 2.06.94-2.06 2.06-.94-2.06-.94-.94-2.06-.94 2.06-2.06.94z\"/><path d=\"M17.41 7.96l-1.37-1.37c-.4-.4-.92-.59-1.43-.59-.52 0-1.04.2-1.43.59L10.3 9.45l-7.72 7.72c-.78.78-.78 2.05 0 2.83L4 21.41c.39.39.9.59 1.41.59.51 0 1.02-.2 1.41-.59l7.78-7.78 2.81-2.81c.8-.78.8-2.07 0-2.86zM5.41 20L4 18.59l7.72-7.72 1.47 1.35L5.41 20z\"/>\n",
              "  </svg>\n",
              "      </button>\n",
              "      \n",
              "  <style>\n",
              "    .colab-df-container {\n",
              "      display:flex;\n",
              "      flex-wrap:wrap;\n",
              "      gap: 12px;\n",
              "    }\n",
              "\n",
              "    .colab-df-convert {\n",
              "      background-color: #E8F0FE;\n",
              "      border: none;\n",
              "      border-radius: 50%;\n",
              "      cursor: pointer;\n",
              "      display: none;\n",
              "      fill: #1967D2;\n",
              "      height: 32px;\n",
              "      padding: 0 0 0 0;\n",
              "      width: 32px;\n",
              "    }\n",
              "\n",
              "    .colab-df-convert:hover {\n",
              "      background-color: #E2EBFA;\n",
              "      box-shadow: 0px 1px 2px rgba(60, 64, 67, 0.3), 0px 1px 3px 1px rgba(60, 64, 67, 0.15);\n",
              "      fill: #174EA6;\n",
              "    }\n",
              "\n",
              "    [theme=dark] .colab-df-convert {\n",
              "      background-color: #3B4455;\n",
              "      fill: #D2E3FC;\n",
              "    }\n",
              "\n",
              "    [theme=dark] .colab-df-convert:hover {\n",
              "      background-color: #434B5C;\n",
              "      box-shadow: 0px 1px 3px 1px rgba(0, 0, 0, 0.15);\n",
              "      filter: drop-shadow(0px 1px 2px rgba(0, 0, 0, 0.3));\n",
              "      fill: #FFFFFF;\n",
              "    }\n",
              "  </style>\n",
              "\n",
              "      <script>\n",
              "        const buttonEl =\n",
              "          document.querySelector('#df-a2fef4bb-d082-4ff5-b2f3-1f73a984a604 button.colab-df-convert');\n",
              "        buttonEl.style.display =\n",
              "          google.colab.kernel.accessAllowed ? 'block' : 'none';\n",
              "\n",
              "        async function convertToInteractive(key) {\n",
              "          const element = document.querySelector('#df-a2fef4bb-d082-4ff5-b2f3-1f73a984a604');\n",
              "          const dataTable =\n",
              "            await google.colab.kernel.invokeFunction('convertToInteractive',\n",
              "                                                     [key], {});\n",
              "          if (!dataTable) return;\n",
              "\n",
              "          const docLinkHtml = 'Like what you see? Visit the ' +\n",
              "            '<a target=\"_blank\" href=https://colab.research.google.com/notebooks/data_table.ipynb>data table notebook</a>'\n",
              "            + ' to learn more about interactive tables.';\n",
              "          element.innerHTML = '';\n",
              "          dataTable['output_type'] = 'display_data';\n",
              "          await google.colab.output.renderOutput(dataTable, element);\n",
              "          const docLink = document.createElement('div');\n",
              "          docLink.innerHTML = docLinkHtml;\n",
              "          element.appendChild(docLink);\n",
              "        }\n",
              "      </script>\n",
              "    </div>\n",
              "  </div>\n",
              "  "
            ]
          },
          "metadata": {},
          "execution_count": 34
        }
      ]
    },
    {
      "cell_type": "code",
      "source": [
        "#Agrego las frecuencias relativas\n",
        "\n",
        "fr=(data.prod18.value_counts()/len(data.prod18))*100\n",
        "lis=fr.values\n",
        "tabla_frec_cantprod[\"fr\"]=lis\n",
        "tabla_frec_cantprod"
      ],
      "metadata": {
        "colab": {
          "base_uri": "https://localhost:8080/",
          "height": 238
        },
        "id": "D7jYFME_1QWl",
        "outputId": "01042dea-7705-4a4d-9f57-9d10105a353d"
      },
      "execution_count": null,
      "outputs": [
        {
          "output_type": "execute_result",
          "data": {
            "text/plain": [
              "   Cantidad de productos  fa    fr\n",
              "0                      1  89  35.6\n",
              "1                      2  83  33.2\n",
              "2                      3  46  18.4\n",
              "3                      4  25  10.0\n",
              "4                      5   6   2.4\n",
              "5                      6   1   0.4"
            ],
            "text/html": [
              "\n",
              "  <div id=\"df-eb7eaac1-ab7a-49ac-ad11-fc5903bfe823\">\n",
              "    <div class=\"colab-df-container\">\n",
              "      <div>\n",
              "<style scoped>\n",
              "    .dataframe tbody tr th:only-of-type {\n",
              "        vertical-align: middle;\n",
              "    }\n",
              "\n",
              "    .dataframe tbody tr th {\n",
              "        vertical-align: top;\n",
              "    }\n",
              "\n",
              "    .dataframe thead th {\n",
              "        text-align: right;\n",
              "    }\n",
              "</style>\n",
              "<table border=\"1\" class=\"dataframe\">\n",
              "  <thead>\n",
              "    <tr style=\"text-align: right;\">\n",
              "      <th></th>\n",
              "      <th>Cantidad de productos</th>\n",
              "      <th>fa</th>\n",
              "      <th>fr</th>\n",
              "    </tr>\n",
              "  </thead>\n",
              "  <tbody>\n",
              "    <tr>\n",
              "      <th>0</th>\n",
              "      <td>1</td>\n",
              "      <td>89</td>\n",
              "      <td>35.6</td>\n",
              "    </tr>\n",
              "    <tr>\n",
              "      <th>1</th>\n",
              "      <td>2</td>\n",
              "      <td>83</td>\n",
              "      <td>33.2</td>\n",
              "    </tr>\n",
              "    <tr>\n",
              "      <th>2</th>\n",
              "      <td>3</td>\n",
              "      <td>46</td>\n",
              "      <td>18.4</td>\n",
              "    </tr>\n",
              "    <tr>\n",
              "      <th>3</th>\n",
              "      <td>4</td>\n",
              "      <td>25</td>\n",
              "      <td>10.0</td>\n",
              "    </tr>\n",
              "    <tr>\n",
              "      <th>4</th>\n",
              "      <td>5</td>\n",
              "      <td>6</td>\n",
              "      <td>2.4</td>\n",
              "    </tr>\n",
              "    <tr>\n",
              "      <th>5</th>\n",
              "      <td>6</td>\n",
              "      <td>1</td>\n",
              "      <td>0.4</td>\n",
              "    </tr>\n",
              "  </tbody>\n",
              "</table>\n",
              "</div>\n",
              "      <button class=\"colab-df-convert\" onclick=\"convertToInteractive('df-eb7eaac1-ab7a-49ac-ad11-fc5903bfe823')\"\n",
              "              title=\"Convert this dataframe to an interactive table.\"\n",
              "              style=\"display:none;\">\n",
              "        \n",
              "  <svg xmlns=\"http://www.w3.org/2000/svg\" height=\"24px\"viewBox=\"0 0 24 24\"\n",
              "       width=\"24px\">\n",
              "    <path d=\"M0 0h24v24H0V0z\" fill=\"none\"/>\n",
              "    <path d=\"M18.56 5.44l.94 2.06.94-2.06 2.06-.94-2.06-.94-.94-2.06-.94 2.06-2.06.94zm-11 1L8.5 8.5l.94-2.06 2.06-.94-2.06-.94L8.5 2.5l-.94 2.06-2.06.94zm10 10l.94 2.06.94-2.06 2.06-.94-2.06-.94-.94-2.06-.94 2.06-2.06.94z\"/><path d=\"M17.41 7.96l-1.37-1.37c-.4-.4-.92-.59-1.43-.59-.52 0-1.04.2-1.43.59L10.3 9.45l-7.72 7.72c-.78.78-.78 2.05 0 2.83L4 21.41c.39.39.9.59 1.41.59.51 0 1.02-.2 1.41-.59l7.78-7.78 2.81-2.81c.8-.78.8-2.07 0-2.86zM5.41 20L4 18.59l7.72-7.72 1.47 1.35L5.41 20z\"/>\n",
              "  </svg>\n",
              "      </button>\n",
              "      \n",
              "  <style>\n",
              "    .colab-df-container {\n",
              "      display:flex;\n",
              "      flex-wrap:wrap;\n",
              "      gap: 12px;\n",
              "    }\n",
              "\n",
              "    .colab-df-convert {\n",
              "      background-color: #E8F0FE;\n",
              "      border: none;\n",
              "      border-radius: 50%;\n",
              "      cursor: pointer;\n",
              "      display: none;\n",
              "      fill: #1967D2;\n",
              "      height: 32px;\n",
              "      padding: 0 0 0 0;\n",
              "      width: 32px;\n",
              "    }\n",
              "\n",
              "    .colab-df-convert:hover {\n",
              "      background-color: #E2EBFA;\n",
              "      box-shadow: 0px 1px 2px rgba(60, 64, 67, 0.3), 0px 1px 3px 1px rgba(60, 64, 67, 0.15);\n",
              "      fill: #174EA6;\n",
              "    }\n",
              "\n",
              "    [theme=dark] .colab-df-convert {\n",
              "      background-color: #3B4455;\n",
              "      fill: #D2E3FC;\n",
              "    }\n",
              "\n",
              "    [theme=dark] .colab-df-convert:hover {\n",
              "      background-color: #434B5C;\n",
              "      box-shadow: 0px 1px 3px 1px rgba(0, 0, 0, 0.15);\n",
              "      filter: drop-shadow(0px 1px 2px rgba(0, 0, 0, 0.3));\n",
              "      fill: #FFFFFF;\n",
              "    }\n",
              "  </style>\n",
              "\n",
              "      <script>\n",
              "        const buttonEl =\n",
              "          document.querySelector('#df-eb7eaac1-ab7a-49ac-ad11-fc5903bfe823 button.colab-df-convert');\n",
              "        buttonEl.style.display =\n",
              "          google.colab.kernel.accessAllowed ? 'block' : 'none';\n",
              "\n",
              "        async function convertToInteractive(key) {\n",
              "          const element = document.querySelector('#df-eb7eaac1-ab7a-49ac-ad11-fc5903bfe823');\n",
              "          const dataTable =\n",
              "            await google.colab.kernel.invokeFunction('convertToInteractive',\n",
              "                                                     [key], {});\n",
              "          if (!dataTable) return;\n",
              "\n",
              "          const docLinkHtml = 'Like what you see? Visit the ' +\n",
              "            '<a target=\"_blank\" href=https://colab.research.google.com/notebooks/data_table.ipynb>data table notebook</a>'\n",
              "            + ' to learn more about interactive tables.';\n",
              "          element.innerHTML = '';\n",
              "          dataTable['output_type'] = 'display_data';\n",
              "          await google.colab.output.renderOutput(dataTable, element);\n",
              "          const docLink = document.createElement('div');\n",
              "          docLink.innerHTML = docLinkHtml;\n",
              "          element.appendChild(docLink);\n",
              "        }\n",
              "      </script>\n",
              "    </div>\n",
              "  </div>\n",
              "  "
            ]
          },
          "metadata": {},
          "execution_count": 35
        }
      ]
    },
    {
      "cell_type": "code",
      "source": [
        "from pickle import FALSE\n",
        "#obtengo las frecuencias acumuladas\n",
        "# para eso armamos una funcion que me acumule los valores\n",
        "Fa=tabla_frec_cantprod[\"fa\"].values\n",
        "\n",
        "a=[]\n",
        "b=0\n",
        "for c in Fa:\n",
        "  b=c+b\n",
        "  a.append(b)"
      ],
      "metadata": {
        "id": "fyMdzf8Y1saW"
      },
      "execution_count": null,
      "outputs": []
    },
    {
      "cell_type": "code",
      "source": [
        "tabla_frec_cantprod[\"Faa\"]=a\n",
        "tabla_frec_cantprod"
      ],
      "metadata": {
        "colab": {
          "base_uri": "https://localhost:8080/",
          "height": 237
        },
        "id": "imh4sTUa12Po",
        "outputId": "81fb5eca-1ff3-4077-a3b5-667531f92ae3"
      },
      "execution_count": null,
      "outputs": [
        {
          "output_type": "execute_result",
          "data": {
            "text/plain": [
              "   Cantidad de productos  fa    fr  Faa\n",
              "0                      1  89  35.6   89\n",
              "1                      2  83  33.2  172\n",
              "2                      3  46  18.4  218\n",
              "3                      4  25  10.0  243\n",
              "4                      5   6   2.4  249\n",
              "5                      6   1   0.4  250"
            ],
            "text/html": [
              "\n",
              "  <div id=\"df-25bbdf61-3827-487d-97ef-6f155c0616ed\">\n",
              "    <div class=\"colab-df-container\">\n",
              "      <div>\n",
              "<style scoped>\n",
              "    .dataframe tbody tr th:only-of-type {\n",
              "        vertical-align: middle;\n",
              "    }\n",
              "\n",
              "    .dataframe tbody tr th {\n",
              "        vertical-align: top;\n",
              "    }\n",
              "\n",
              "    .dataframe thead th {\n",
              "        text-align: right;\n",
              "    }\n",
              "</style>\n",
              "<table border=\"1\" class=\"dataframe\">\n",
              "  <thead>\n",
              "    <tr style=\"text-align: right;\">\n",
              "      <th></th>\n",
              "      <th>Cantidad de productos</th>\n",
              "      <th>fa</th>\n",
              "      <th>fr</th>\n",
              "      <th>Faa</th>\n",
              "    </tr>\n",
              "  </thead>\n",
              "  <tbody>\n",
              "    <tr>\n",
              "      <th>0</th>\n",
              "      <td>1</td>\n",
              "      <td>89</td>\n",
              "      <td>35.6</td>\n",
              "      <td>89</td>\n",
              "    </tr>\n",
              "    <tr>\n",
              "      <th>1</th>\n",
              "      <td>2</td>\n",
              "      <td>83</td>\n",
              "      <td>33.2</td>\n",
              "      <td>172</td>\n",
              "    </tr>\n",
              "    <tr>\n",
              "      <th>2</th>\n",
              "      <td>3</td>\n",
              "      <td>46</td>\n",
              "      <td>18.4</td>\n",
              "      <td>218</td>\n",
              "    </tr>\n",
              "    <tr>\n",
              "      <th>3</th>\n",
              "      <td>4</td>\n",
              "      <td>25</td>\n",
              "      <td>10.0</td>\n",
              "      <td>243</td>\n",
              "    </tr>\n",
              "    <tr>\n",
              "      <th>4</th>\n",
              "      <td>5</td>\n",
              "      <td>6</td>\n",
              "      <td>2.4</td>\n",
              "      <td>249</td>\n",
              "    </tr>\n",
              "    <tr>\n",
              "      <th>5</th>\n",
              "      <td>6</td>\n",
              "      <td>1</td>\n",
              "      <td>0.4</td>\n",
              "      <td>250</td>\n",
              "    </tr>\n",
              "  </tbody>\n",
              "</table>\n",
              "</div>\n",
              "      <button class=\"colab-df-convert\" onclick=\"convertToInteractive('df-25bbdf61-3827-487d-97ef-6f155c0616ed')\"\n",
              "              title=\"Convert this dataframe to an interactive table.\"\n",
              "              style=\"display:none;\">\n",
              "        \n",
              "  <svg xmlns=\"http://www.w3.org/2000/svg\" height=\"24px\"viewBox=\"0 0 24 24\"\n",
              "       width=\"24px\">\n",
              "    <path d=\"M0 0h24v24H0V0z\" fill=\"none\"/>\n",
              "    <path d=\"M18.56 5.44l.94 2.06.94-2.06 2.06-.94-2.06-.94-.94-2.06-.94 2.06-2.06.94zm-11 1L8.5 8.5l.94-2.06 2.06-.94-2.06-.94L8.5 2.5l-.94 2.06-2.06.94zm10 10l.94 2.06.94-2.06 2.06-.94-2.06-.94-.94-2.06-.94 2.06-2.06.94z\"/><path d=\"M17.41 7.96l-1.37-1.37c-.4-.4-.92-.59-1.43-.59-.52 0-1.04.2-1.43.59L10.3 9.45l-7.72 7.72c-.78.78-.78 2.05 0 2.83L4 21.41c.39.39.9.59 1.41.59.51 0 1.02-.2 1.41-.59l7.78-7.78 2.81-2.81c.8-.78.8-2.07 0-2.86zM5.41 20L4 18.59l7.72-7.72 1.47 1.35L5.41 20z\"/>\n",
              "  </svg>\n",
              "      </button>\n",
              "      \n",
              "  <style>\n",
              "    .colab-df-container {\n",
              "      display:flex;\n",
              "      flex-wrap:wrap;\n",
              "      gap: 12px;\n",
              "    }\n",
              "\n",
              "    .colab-df-convert {\n",
              "      background-color: #E8F0FE;\n",
              "      border: none;\n",
              "      border-radius: 50%;\n",
              "      cursor: pointer;\n",
              "      display: none;\n",
              "      fill: #1967D2;\n",
              "      height: 32px;\n",
              "      padding: 0 0 0 0;\n",
              "      width: 32px;\n",
              "    }\n",
              "\n",
              "    .colab-df-convert:hover {\n",
              "      background-color: #E2EBFA;\n",
              "      box-shadow: 0px 1px 2px rgba(60, 64, 67, 0.3), 0px 1px 3px 1px rgba(60, 64, 67, 0.15);\n",
              "      fill: #174EA6;\n",
              "    }\n",
              "\n",
              "    [theme=dark] .colab-df-convert {\n",
              "      background-color: #3B4455;\n",
              "      fill: #D2E3FC;\n",
              "    }\n",
              "\n",
              "    [theme=dark] .colab-df-convert:hover {\n",
              "      background-color: #434B5C;\n",
              "      box-shadow: 0px 1px 3px 1px rgba(0, 0, 0, 0.15);\n",
              "      filter: drop-shadow(0px 1px 2px rgba(0, 0, 0, 0.3));\n",
              "      fill: #FFFFFF;\n",
              "    }\n",
              "  </style>\n",
              "\n",
              "      <script>\n",
              "        const buttonEl =\n",
              "          document.querySelector('#df-25bbdf61-3827-487d-97ef-6f155c0616ed button.colab-df-convert');\n",
              "        buttonEl.style.display =\n",
              "          google.colab.kernel.accessAllowed ? 'block' : 'none';\n",
              "\n",
              "        async function convertToInteractive(key) {\n",
              "          const element = document.querySelector('#df-25bbdf61-3827-487d-97ef-6f155c0616ed');\n",
              "          const dataTable =\n",
              "            await google.colab.kernel.invokeFunction('convertToInteractive',\n",
              "                                                     [key], {});\n",
              "          if (!dataTable) return;\n",
              "\n",
              "          const docLinkHtml = 'Like what you see? Visit the ' +\n",
              "            '<a target=\"_blank\" href=https://colab.research.google.com/notebooks/data_table.ipynb>data table notebook</a>'\n",
              "            + ' to learn more about interactive tables.';\n",
              "          element.innerHTML = '';\n",
              "          dataTable['output_type'] = 'display_data';\n",
              "          await google.colab.output.renderOutput(dataTable, element);\n",
              "          const docLink = document.createElement('div');\n",
              "          docLink.innerHTML = docLinkHtml;\n",
              "          element.appendChild(docLink);\n",
              "        }\n",
              "      </script>\n",
              "    </div>\n",
              "  </div>\n",
              "  "
            ]
          },
          "metadata": {},
          "execution_count": 12
        }
      ]
    },
    {
      "cell_type": "code",
      "source": [
        "#Hacemos lo mismo con frecuencias relativas acumuladas\n",
        "fra=tabla_frec_cantprod[\"fr\"].values\n",
        "a=[]\n",
        "b=0\n",
        "for c in fra:\n",
        "  b=c+b\n",
        "  a.append(b)\n",
        "\n",
        "tabla_frec_cantprod[\"Fra\"]=a\n",
        "tabla_frec_cantprod"
      ],
      "metadata": {
        "colab": {
          "base_uri": "https://localhost:8080/",
          "height": 237
        },
        "id": "bcOG5lnf2C3Q",
        "outputId": "ee24b444-e120-441a-914a-75878f6a9b9d"
      },
      "execution_count": null,
      "outputs": [
        {
          "output_type": "execute_result",
          "data": {
            "text/plain": [
              "   Cantidad de productos  fa    fr  Faa    Fra\n",
              "0                      1  89  35.6   89   35.6\n",
              "1                      2  83  33.2  172   68.8\n",
              "2                      3  46  18.4  218   87.2\n",
              "3                      4  25  10.0  243   97.2\n",
              "4                      5   6   2.4  249   99.6\n",
              "5                      6   1   0.4  250  100.0"
            ],
            "text/html": [
              "\n",
              "  <div id=\"df-667ff150-5c56-41e4-9390-c64b6cf4e4af\">\n",
              "    <div class=\"colab-df-container\">\n",
              "      <div>\n",
              "<style scoped>\n",
              "    .dataframe tbody tr th:only-of-type {\n",
              "        vertical-align: middle;\n",
              "    }\n",
              "\n",
              "    .dataframe tbody tr th {\n",
              "        vertical-align: top;\n",
              "    }\n",
              "\n",
              "    .dataframe thead th {\n",
              "        text-align: right;\n",
              "    }\n",
              "</style>\n",
              "<table border=\"1\" class=\"dataframe\">\n",
              "  <thead>\n",
              "    <tr style=\"text-align: right;\">\n",
              "      <th></th>\n",
              "      <th>Cantidad de productos</th>\n",
              "      <th>fa</th>\n",
              "      <th>fr</th>\n",
              "      <th>Faa</th>\n",
              "      <th>Fra</th>\n",
              "    </tr>\n",
              "  </thead>\n",
              "  <tbody>\n",
              "    <tr>\n",
              "      <th>0</th>\n",
              "      <td>1</td>\n",
              "      <td>89</td>\n",
              "      <td>35.6</td>\n",
              "      <td>89</td>\n",
              "      <td>35.6</td>\n",
              "    </tr>\n",
              "    <tr>\n",
              "      <th>1</th>\n",
              "      <td>2</td>\n",
              "      <td>83</td>\n",
              "      <td>33.2</td>\n",
              "      <td>172</td>\n",
              "      <td>68.8</td>\n",
              "    </tr>\n",
              "    <tr>\n",
              "      <th>2</th>\n",
              "      <td>3</td>\n",
              "      <td>46</td>\n",
              "      <td>18.4</td>\n",
              "      <td>218</td>\n",
              "      <td>87.2</td>\n",
              "    </tr>\n",
              "    <tr>\n",
              "      <th>3</th>\n",
              "      <td>4</td>\n",
              "      <td>25</td>\n",
              "      <td>10.0</td>\n",
              "      <td>243</td>\n",
              "      <td>97.2</td>\n",
              "    </tr>\n",
              "    <tr>\n",
              "      <th>4</th>\n",
              "      <td>5</td>\n",
              "      <td>6</td>\n",
              "      <td>2.4</td>\n",
              "      <td>249</td>\n",
              "      <td>99.6</td>\n",
              "    </tr>\n",
              "    <tr>\n",
              "      <th>5</th>\n",
              "      <td>6</td>\n",
              "      <td>1</td>\n",
              "      <td>0.4</td>\n",
              "      <td>250</td>\n",
              "      <td>100.0</td>\n",
              "    </tr>\n",
              "  </tbody>\n",
              "</table>\n",
              "</div>\n",
              "      <button class=\"colab-df-convert\" onclick=\"convertToInteractive('df-667ff150-5c56-41e4-9390-c64b6cf4e4af')\"\n",
              "              title=\"Convert this dataframe to an interactive table.\"\n",
              "              style=\"display:none;\">\n",
              "        \n",
              "  <svg xmlns=\"http://www.w3.org/2000/svg\" height=\"24px\"viewBox=\"0 0 24 24\"\n",
              "       width=\"24px\">\n",
              "    <path d=\"M0 0h24v24H0V0z\" fill=\"none\"/>\n",
              "    <path d=\"M18.56 5.44l.94 2.06.94-2.06 2.06-.94-2.06-.94-.94-2.06-.94 2.06-2.06.94zm-11 1L8.5 8.5l.94-2.06 2.06-.94-2.06-.94L8.5 2.5l-.94 2.06-2.06.94zm10 10l.94 2.06.94-2.06 2.06-.94-2.06-.94-.94-2.06-.94 2.06-2.06.94z\"/><path d=\"M17.41 7.96l-1.37-1.37c-.4-.4-.92-.59-1.43-.59-.52 0-1.04.2-1.43.59L10.3 9.45l-7.72 7.72c-.78.78-.78 2.05 0 2.83L4 21.41c.39.39.9.59 1.41.59.51 0 1.02-.2 1.41-.59l7.78-7.78 2.81-2.81c.8-.78.8-2.07 0-2.86zM5.41 20L4 18.59l7.72-7.72 1.47 1.35L5.41 20z\"/>\n",
              "  </svg>\n",
              "      </button>\n",
              "      \n",
              "  <style>\n",
              "    .colab-df-container {\n",
              "      display:flex;\n",
              "      flex-wrap:wrap;\n",
              "      gap: 12px;\n",
              "    }\n",
              "\n",
              "    .colab-df-convert {\n",
              "      background-color: #E8F0FE;\n",
              "      border: none;\n",
              "      border-radius: 50%;\n",
              "      cursor: pointer;\n",
              "      display: none;\n",
              "      fill: #1967D2;\n",
              "      height: 32px;\n",
              "      padding: 0 0 0 0;\n",
              "      width: 32px;\n",
              "    }\n",
              "\n",
              "    .colab-df-convert:hover {\n",
              "      background-color: #E2EBFA;\n",
              "      box-shadow: 0px 1px 2px rgba(60, 64, 67, 0.3), 0px 1px 3px 1px rgba(60, 64, 67, 0.15);\n",
              "      fill: #174EA6;\n",
              "    }\n",
              "\n",
              "    [theme=dark] .colab-df-convert {\n",
              "      background-color: #3B4455;\n",
              "      fill: #D2E3FC;\n",
              "    }\n",
              "\n",
              "    [theme=dark] .colab-df-convert:hover {\n",
              "      background-color: #434B5C;\n",
              "      box-shadow: 0px 1px 3px 1px rgba(0, 0, 0, 0.15);\n",
              "      filter: drop-shadow(0px 1px 2px rgba(0, 0, 0, 0.3));\n",
              "      fill: #FFFFFF;\n",
              "    }\n",
              "  </style>\n",
              "\n",
              "      <script>\n",
              "        const buttonEl =\n",
              "          document.querySelector('#df-667ff150-5c56-41e4-9390-c64b6cf4e4af button.colab-df-convert');\n",
              "        buttonEl.style.display =\n",
              "          google.colab.kernel.accessAllowed ? 'block' : 'none';\n",
              "\n",
              "        async function convertToInteractive(key) {\n",
              "          const element = document.querySelector('#df-667ff150-5c56-41e4-9390-c64b6cf4e4af');\n",
              "          const dataTable =\n",
              "            await google.colab.kernel.invokeFunction('convertToInteractive',\n",
              "                                                     [key], {});\n",
              "          if (!dataTable) return;\n",
              "\n",
              "          const docLinkHtml = 'Like what you see? Visit the ' +\n",
              "            '<a target=\"_blank\" href=https://colab.research.google.com/notebooks/data_table.ipynb>data table notebook</a>'\n",
              "            + ' to learn more about interactive tables.';\n",
              "          element.innerHTML = '';\n",
              "          dataTable['output_type'] = 'display_data';\n",
              "          await google.colab.output.renderOutput(dataTable, element);\n",
              "          const docLink = document.createElement('div');\n",
              "          docLink.innerHTML = docLinkHtml;\n",
              "          element.appendChild(docLink);\n",
              "        }\n",
              "      </script>\n",
              "    </div>\n",
              "  </div>\n",
              "  "
            ]
          },
          "metadata": {},
          "execution_count": 13
        }
      ]
    },
    {
      "cell_type": "markdown",
      "source": [
        "En este caso si tienen sentido las frecuencias relativas. Por ejemplo la Faa de 218 indica que 218 clientes tienen 3 productos o menos. El 97,2% tienen 4 productos o menos (Fra)."
      ],
      "metadata": {
        "id": "94vk7f_W2CsB"
      }
    },
    {
      "cell_type": "markdown",
      "source": [
        "**Gráfico para variables numéricas discretas**\n"
      ],
      "metadata": {
        "id": "oI9eYxvx4H_s"
      }
    },
    {
      "cell_type": "markdown",
      "source": [
        "Gráfico de bastones: un bastón por valor de la variable y altura proporcional a la frecuencia (absoluta o relativa)."
      ],
      "metadata": {
        "id": "jLTyyTFi5M-v"
      }
    },
    {
      "cell_type": "code",
      "source": [
        "#grafico de bastones\n",
        "plt.figure(figsize=(8,5)) # elijo el tamaño de mi gráfica\n",
        "sn.countplot(data=data, x='prod18')\n",
        "plt.ylabel('Frec absoluta')\n",
        "plt.xlabel('Cantidad de productos')\n",
        "plt.title('Frecuencias aboslutas para Cantidad de productos')\n",
        "#plt.legend()\n",
        "plt.grid(True)  #quiero poner grilla\n",
        "#ver si es necesario agregarle la etiqueta.\n"
      ],
      "metadata": {
        "colab": {
          "base_uri": "https://localhost:8080/",
          "height": 350
        },
        "outputId": "b0f885b9-e6cd-4365-9fa3-e70aaa15f2e3",
        "id": "YkOLBU-k4e9o"
      },
      "execution_count": null,
      "outputs": [
        {
          "output_type": "display_data",
          "data": {
            "text/plain": [
              "<Figure size 576x360 with 1 Axes>"
            ],
            "image/png": "[encoded data removed]"
          },
          "metadata": {
            "needs_background": "light"
          }
        }
      ]
    },
    {
      "cell_type": "markdown",
      "source": [
        "**Tablas de frecuencias para variables numéricas continuas**"
      ],
      "metadata": {
        "id": "sqQD5eiS8LUM"
      }
    },
    {
      "cell_type": "markdown",
      "source": [
        "En el caso de variables numéricas continuas en necesario agrupar los datos en intervalos de clase. Esto también puede ser necesario en el caso de variables numéricas discretas que asumen muchos valores distintos. Analicemos la variable Rentailidad anual 2018 en %:"
      ],
      "metadata": {
        "id": "-LvjQJ608nwt"
      }
    },
    {
      "cell_type": "code",
      "source": [
        "data[\"Rentabilidad agrupada\"] = pd.cut(data[\"rent18\"], bins=6)\n",
        "\n",
        "(data.groupby(\"Rentabilidad agrupada\")\n",
        "  .agg(frequency=(\"rent18\", \"count\")))"
      ],
      "metadata": {
        "colab": {
          "base_uri": "https://localhost:8080/",
          "height": 269
        },
        "id": "czLGofyw8TAW",
        "outputId": "0fb4080e-9199-43f4-e2fe-c5adece757a8"
      },
      "execution_count": null,
      "outputs": [
        {
          "output_type": "execute_result",
          "data": {
            "text/plain": [
              "                       frequency\n",
              "Rentabilidad agrupada           \n",
              "(-191.915, 296.833]          207\n",
              "(296.833, 782.667]            32\n",
              "(782.667, 1268.5]              9\n",
              "(1268.5, 1754.333]             1\n",
              "(1754.333, 2240.167]           0\n",
              "(2240.167, 2726.0]             1"
            ],
            "text/html": [
              "\n",
              "  <div id=\"df-7d08e408-0c0c-41df-b9fa-53c72dfd5af8\">\n",
              "    <div class=\"colab-df-container\">\n",
              "      <div>\n",
              "<style scoped>\n",
              "    .dataframe tbody tr th:only-of-type {\n",
              "        vertical-align: middle;\n",
              "    }\n",
              "\n",
              "    .dataframe tbody tr th {\n",
              "        vertical-align: top;\n",
              "    }\n",
              "\n",
              "    .dataframe thead th {\n",
              "        text-align: right;\n",
              "    }\n",
              "</style>\n",
              "<table border=\"1\" class=\"dataframe\">\n",
              "  <thead>\n",
              "    <tr style=\"text-align: right;\">\n",
              "      <th></th>\n",
              "      <th>frequency</th>\n",
              "    </tr>\n",
              "    <tr>\n",
              "      <th>Rentabilidad agrupada</th>\n",
              "      <th></th>\n",
              "    </tr>\n",
              "  </thead>\n",
              "  <tbody>\n",
              "    <tr>\n",
              "      <th>(-191.915, 296.833]</th>\n",
              "      <td>207</td>\n",
              "    </tr>\n",
              "    <tr>\n",
              "      <th>(296.833, 782.667]</th>\n",
              "      <td>32</td>\n",
              "    </tr>\n",
              "    <tr>\n",
              "      <th>(782.667, 1268.5]</th>\n",
              "      <td>9</td>\n",
              "    </tr>\n",
              "    <tr>\n",
              "      <th>(1268.5, 1754.333]</th>\n",
              "      <td>1</td>\n",
              "    </tr>\n",
              "    <tr>\n",
              "      <th>(1754.333, 2240.167]</th>\n",
              "      <td>0</td>\n",
              "    </tr>\n",
              "    <tr>\n",
              "      <th>(2240.167, 2726.0]</th>\n",
              "      <td>1</td>\n",
              "    </tr>\n",
              "  </tbody>\n",
              "</table>\n",
              "</div>\n",
              "      <button class=\"colab-df-convert\" onclick=\"convertToInteractive('df-7d08e408-0c0c-41df-b9fa-53c72dfd5af8')\"\n",
              "              title=\"Convert this dataframe to an interactive table.\"\n",
              "              style=\"display:none;\">\n",
              "        \n",
              "  <svg xmlns=\"http://www.w3.org/2000/svg\" height=\"24px\"viewBox=\"0 0 24 24\"\n",
              "       width=\"24px\">\n",
              "    <path d=\"M0 0h24v24H0V0z\" fill=\"none\"/>\n",
              "    <path d=\"M18.56 5.44l.94 2.06.94-2.06 2.06-.94-2.06-.94-.94-2.06-.94 2.06-2.06.94zm-11 1L8.5 8.5l.94-2.06 2.06-.94-2.06-.94L8.5 2.5l-.94 2.06-2.06.94zm10 10l.94 2.06.94-2.06 2.06-.94-2.06-.94-.94-2.06-.94 2.06-2.06.94z\"/><path d=\"M17.41 7.96l-1.37-1.37c-.4-.4-.92-.59-1.43-.59-.52 0-1.04.2-1.43.59L10.3 9.45l-7.72 7.72c-.78.78-.78 2.05 0 2.83L4 21.41c.39.39.9.59 1.41.59.51 0 1.02-.2 1.41-.59l7.78-7.78 2.81-2.81c.8-.78.8-2.07 0-2.86zM5.41 20L4 18.59l7.72-7.72 1.47 1.35L5.41 20z\"/>\n",
              "  </svg>\n",
              "      </button>\n",
              "      \n",
              "  <style>\n",
              "    .colab-df-container {\n",
              "      display:flex;\n",
              "      flex-wrap:wrap;\n",
              "      gap: 12px;\n",
              "    }\n",
              "\n",
              "    .colab-df-convert {\n",
              "      background-color: #E8F0FE;\n",
              "      border: none;\n",
              "      border-radius: 50%;\n",
              "      cursor: pointer;\n",
              "      display: none;\n",
              "      fill: #1967D2;\n",
              "      height: 32px;\n",
              "      padding: 0 0 0 0;\n",
              "      width: 32px;\n",
              "    }\n",
              "\n",
              "    .colab-df-convert:hover {\n",
              "      background-color: #E2EBFA;\n",
              "      box-shadow: 0px 1px 2px rgba(60, 64, 67, 0.3), 0px 1px 3px 1px rgba(60, 64, 67, 0.15);\n",
              "      fill: #174EA6;\n",
              "    }\n",
              "\n",
              "    [theme=dark] .colab-df-convert {\n",
              "      background-color: #3B4455;\n",
              "      fill: #D2E3FC;\n",
              "    }\n",
              "\n",
              "    [theme=dark] .colab-df-convert:hover {\n",
              "      background-color: #434B5C;\n",
              "      box-shadow: 0px 1px 3px 1px rgba(0, 0, 0, 0.15);\n",
              "      filter: drop-shadow(0px 1px 2px rgba(0, 0, 0, 0.3));\n",
              "      fill: #FFFFFF;\n",
              "    }\n",
              "  </style>\n",
              "\n",
              "      <script>\n",
              "        const buttonEl =\n",
              "          document.querySelector('#df-7d08e408-0c0c-41df-b9fa-53c72dfd5af8 button.colab-df-convert');\n",
              "        buttonEl.style.display =\n",
              "          google.colab.kernel.accessAllowed ? 'block' : 'none';\n",
              "\n",
              "        async function convertToInteractive(key) {\n",
              "          const element = document.querySelector('#df-7d08e408-0c0c-41df-b9fa-53c72dfd5af8');\n",
              "          const dataTable =\n",
              "            await google.colab.kernel.invokeFunction('convertToInteractive',\n",
              "                                                     [key], {});\n",
              "          if (!dataTable) return;\n",
              "\n",
              "          const docLinkHtml = 'Like what you see? Visit the ' +\n",
              "            '<a target=\"_blank\" href=https://colab.research.google.com/notebooks/data_table.ipynb>data table notebook</a>'\n",
              "            + ' to learn more about interactive tables.';\n",
              "          element.innerHTML = '';\n",
              "          dataTable['output_type'] = 'display_data';\n",
              "          await google.colab.output.renderOutput(dataTable, element);\n",
              "          const docLink = document.createElement('div');\n",
              "          docLink.innerHTML = docLinkHtml;\n",
              "          element.appendChild(docLink);\n",
              "        }\n",
              "      </script>\n",
              "    </div>\n",
              "  </div>\n",
              "  "
            ]
          },
          "metadata": {},
          "execution_count": 36
        }
      ]
    },
    {
      "cell_type": "markdown",
      "source": [
        "**Gráfico para variables numéricas continuas**\n"
      ],
      "metadata": {
        "id": "-g9skYzs-4Kr"
      }
    },
    {
      "cell_type": "markdown",
      "source": [
        "El Histograma es el gráfico adecuados para reresentar frecuencias absolutas o relativas simples en distribuciones por intervalo. Está formado por rectángulos o barras que desde el eje de las abscisas, donde se han marcado previamente, en una escala numérica, los límites de cada intervalo de clase. La altura de cada una de las barras, que se registra en el eje de las ordenadas, se determina de manera que su área sea proporcional a la frecuencia de cada clase."
      ],
      "metadata": {
        "id": "XJWy4awFkEx0"
      }
    },
    {
      "cell_type": "code",
      "source": [
        "plt.figure(figsize=(8,5))\n",
        "intervalos = range(min(data.rent18), max(data.rent18) + 2) #calculamos los extremos de los intervalos\n",
        "plt.hist(data=data, x='rent18', bins=5, color='blue', rwidth=1) #bins indica el número de barras y rwidth el ancho de la barra en porcentaje.\n",
        "plt.title('Histograma de rentabilidad - matplotlib - codigopiton.com')\n",
        "plt.xlabel('Rentabilidad')\n",
        "plt.ylabel('Frecuencia')\n",
        "plt.xticks()\n",
        "plt.show()"
      ],
      "metadata": {
        "colab": {
          "base_uri": "https://localhost:8080/",
          "height": 350
        },
        "outputId": "84384f0b-2652-40af-85f4-c8bd3cae2623",
        "id": "zxS0fEXug9wC"
      },
      "execution_count": null,
      "outputs": [
        {
          "output_type": "display_data",
          "data": {
            "text/plain": [
              "<Figure size 576x360 with 1 Axes>"
            ],
            "image/png": "[encoded data removed]"
          },
          "metadata": {
            "needs_background": "light"
          }
        }
      ]
    },
    {
      "cell_type": "markdown",
      "source": [
        "**Análisis para dos variables categóricas**"
      ],
      "metadata": {
        "id": "0T6mn41Q_LUW"
      }
    },
    {
      "cell_type": "markdown",
      "source": [
        "**Tablas bidimensionales o de contingencia**"
      ],
      "metadata": {
        "id": "IAhTzNlb638B"
      }
    },
    {
      "cell_type": "code",
      "source": [
        "# tabla de contingencia frecuencias relativas (base total de observaciones)\n",
        "pd.crosstab(index=data['region18'], columns=data['online18'],\n",
        "            margins=True).apply(lambda r: r/len(data) #*100\n",
        "                                ,axis=1)"
      ],
      "metadata": {
        "colab": {
          "base_uri": "https://localhost:8080/",
          "height": 206
        },
        "id": "G8_9kXs36vQU",
        "outputId": "9be6c9e1-7d15-4578-964c-8f2f0fa2f85d"
      },
      "execution_count": null,
      "outputs": [
        {
          "output_type": "execute_result",
          "data": {
            "text/plain": [
              "online18      0      1    All\n",
              "region18                     \n",
              "A         0.052  0.028  0.080\n",
              "B         0.416  0.380  0.796\n",
              "C         0.052  0.072  0.124\n",
              "All       0.520  0.480  1.000"
            ],
            "text/html": [
              "\n",
              "  <div id=\"df-a7b121a5-b243-40a0-a95b-d1b51e660451\">\n",
              "    <div class=\"colab-df-container\">\n",
              "      <div>\n",
              "<style scoped>\n",
              "    .dataframe tbody tr th:only-of-type {\n",
              "        vertical-align: middle;\n",
              "    }\n",
              "\n",
              "    .dataframe tbody tr th {\n",
              "        vertical-align: top;\n",
              "    }\n",
              "\n",
              "    .dataframe thead th {\n",
              "        text-align: right;\n",
              "    }\n",
              "</style>\n",
              "<table border=\"1\" class=\"dataframe\">\n",
              "  <thead>\n",
              "    <tr style=\"text-align: right;\">\n",
              "      <th>online18</th>\n",
              "      <th>0</th>\n",
              "      <th>1</th>\n",
              "      <th>All</th>\n",
              "    </tr>\n",
              "    <tr>\n",
              "      <th>region18</th>\n",
              "      <th></th>\n",
              "      <th></th>\n",
              "      <th></th>\n",
              "    </tr>\n",
              "  </thead>\n",
              "  <tbody>\n",
              "    <tr>\n",
              "      <th>A</th>\n",
              "      <td>0.052</td>\n",
              "      <td>0.028</td>\n",
              "      <td>0.080</td>\n",
              "    </tr>\n",
              "    <tr>\n",
              "      <th>B</th>\n",
              "      <td>0.416</td>\n",
              "      <td>0.380</td>\n",
              "      <td>0.796</td>\n",
              "    </tr>\n",
              "    <tr>\n",
              "      <th>C</th>\n",
              "      <td>0.052</td>\n",
              "      <td>0.072</td>\n",
              "      <td>0.124</td>\n",
              "    </tr>\n",
              "    <tr>\n",
              "      <th>All</th>\n",
              "      <td>0.520</td>\n",
              "      <td>0.480</td>\n",
              "      <td>1.000</td>\n",
              "    </tr>\n",
              "  </tbody>\n",
              "</table>\n",
              "</div>\n",
              "      <button class=\"colab-df-convert\" onclick=\"convertToInteractive('df-a7b121a5-b243-40a0-a95b-d1b51e660451')\"\n",
              "              title=\"Convert this dataframe to an interactive table.\"\n",
              "              style=\"display:none;\">\n",
              "        \n",
              "  <svg xmlns=\"http://www.w3.org/2000/svg\" height=\"24px\"viewBox=\"0 0 24 24\"\n",
              "       width=\"24px\">\n",
              "    <path d=\"M0 0h24v24H0V0z\" fill=\"none\"/>\n",
              "    <path d=\"M18.56 5.44l.94 2.06.94-2.06 2.06-.94-2.06-.94-.94-2.06-.94 2.06-2.06.94zm-11 1L8.5 8.5l.94-2.06 2.06-.94-2.06-.94L8.5 2.5l-.94 2.06-2.06.94zm10 10l.94 2.06.94-2.06 2.06-.94-2.06-.94-.94-2.06-.94 2.06-2.06.94z\"/><path d=\"M17.41 7.96l-1.37-1.37c-.4-.4-.92-.59-1.43-.59-.52 0-1.04.2-1.43.59L10.3 9.45l-7.72 7.72c-.78.78-.78 2.05 0 2.83L4 21.41c.39.39.9.59 1.41.59.51 0 1.02-.2 1.41-.59l7.78-7.78 2.81-2.81c.8-.78.8-2.07 0-2.86zM5.41 20L4 18.59l7.72-7.72 1.47 1.35L5.41 20z\"/>\n",
              "  </svg>\n",
              "      </button>\n",
              "      \n",
              "  <style>\n",
              "    .colab-df-container {\n",
              "      display:flex;\n",
              "      flex-wrap:wrap;\n",
              "      gap: 12px;\n",
              "    }\n",
              "\n",
              "    .colab-df-convert {\n",
              "      background-color: #E8F0FE;\n",
              "      border: none;\n",
              "      border-radius: 50%;\n",
              "      cursor: pointer;\n",
              "      display: none;\n",
              "      fill: #1967D2;\n",
              "      height: 32px;\n",
              "      padding: 0 0 0 0;\n",
              "      width: 32px;\n",
              "    }\n",
              "\n",
              "    .colab-df-convert:hover {\n",
              "      background-color: #E2EBFA;\n",
              "      box-shadow: 0px 1px 2px rgba(60, 64, 67, 0.3), 0px 1px 3px 1px rgba(60, 64, 67, 0.15);\n",
              "      fill: #174EA6;\n",
              "    }\n",
              "\n",
              "    [theme=dark] .colab-df-convert {\n",
              "      background-color: #3B4455;\n",
              "      fill: #D2E3FC;\n",
              "    }\n",
              "\n",
              "    [theme=dark] .colab-df-convert:hover {\n",
              "      background-color: #434B5C;\n",
              "      box-shadow: 0px 1px 3px 1px rgba(0, 0, 0, 0.15);\n",
              "      filter: drop-shadow(0px 1px 2px rgba(0, 0, 0, 0.3));\n",
              "      fill: #FFFFFF;\n",
              "    }\n",
              "  </style>\n",
              "\n",
              "      <script>\n",
              "        const buttonEl =\n",
              "          document.querySelector('#df-a7b121a5-b243-40a0-a95b-d1b51e660451 button.colab-df-convert');\n",
              "        buttonEl.style.display =\n",
              "          google.colab.kernel.accessAllowed ? 'block' : 'none';\n",
              "\n",
              "        async function convertToInteractive(key) {\n",
              "          const element = document.querySelector('#df-a7b121a5-b243-40a0-a95b-d1b51e660451');\n",
              "          const dataTable =\n",
              "            await google.colab.kernel.invokeFunction('convertToInteractive',\n",
              "                                                     [key], {});\n",
              "          if (!dataTable) return;\n",
              "\n",
              "          const docLinkHtml = 'Like what you see? Visit the ' +\n",
              "            '<a target=\"_blank\" href=https://colab.research.google.com/notebooks/data_table.ipynb>data table notebook</a>'\n",
              "            + ' to learn more about interactive tables.';\n",
              "          element.innerHTML = '';\n",
              "          dataTable['output_type'] = 'display_data';\n",
              "          await google.colab.output.renderOutput(dataTable, element);\n",
              "          const docLink = document.createElement('div');\n",
              "          docLink.innerHTML = docLinkHtml;\n",
              "          element.appendChild(docLink);\n",
              "        }\n",
              "      </script>\n",
              "    </div>\n",
              "  </div>\n",
              "  "
            ]
          },
          "metadata": {},
          "execution_count": 39
        }
      ]
    },
    {
      "cell_type": "code",
      "source": [
        "# Tabla de contingencia Variables Región y uso de servicios on line\n",
        "#pd.crosstab(index=data1['Categ'], columns=data1['Satisf'], margins=True)\n",
        "pd.crosstab(index=data['region18'], columns=data['online18'], margins=True)"
      ],
      "metadata": {
        "colab": {
          "base_uri": "https://localhost:8080/",
          "height": 206
        },
        "id": "WqqQhtiN6QPe",
        "outputId": "ff205045-111d-4e5b-f00e-3227baf4bde6"
      },
      "execution_count": null,
      "outputs": [
        {
          "output_type": "execute_result",
          "data": {
            "text/plain": [
              "online18    0    1  All\n",
              "region18               \n",
              "A          13    7   20\n",
              "B         104   95  199\n",
              "C          13   18   31\n",
              "All       130  120  250"
            ],
            "text/html": [
              "\n",
              "  <div id=\"df-5d9195c0-b66c-4741-bff7-ba0cbc8aa9ed\">\n",
              "    <div class=\"colab-df-container\">\n",
              "      <div>\n",
              "<style scoped>\n",
              "    .dataframe tbody tr th:only-of-type {\n",
              "        vertical-align: middle;\n",
              "    }\n",
              "\n",
              "    .dataframe tbody tr th {\n",
              "        vertical-align: top;\n",
              "    }\n",
              "\n",
              "    .dataframe thead th {\n",
              "        text-align: right;\n",
              "    }\n",
              "</style>\n",
              "<table border=\"1\" class=\"dataframe\">\n",
              "  <thead>\n",
              "    <tr style=\"text-align: right;\">\n",
              "      <th>online18</th>\n",
              "      <th>0</th>\n",
              "      <th>1</th>\n",
              "      <th>All</th>\n",
              "    </tr>\n",
              "    <tr>\n",
              "      <th>region18</th>\n",
              "      <th></th>\n",
              "      <th></th>\n",
              "      <th></th>\n",
              "    </tr>\n",
              "  </thead>\n",
              "  <tbody>\n",
              "    <tr>\n",
              "      <th>A</th>\n",
              "      <td>13</td>\n",
              "      <td>7</td>\n",
              "      <td>20</td>\n",
              "    </tr>\n",
              "    <tr>\n",
              "      <th>B</th>\n",
              "      <td>104</td>\n",
              "      <td>95</td>\n",
              "      <td>199</td>\n",
              "    </tr>\n",
              "    <tr>\n",
              "      <th>C</th>\n",
              "      <td>13</td>\n",
              "      <td>18</td>\n",
              "      <td>31</td>\n",
              "    </tr>\n",
              "    <tr>\n",
              "      <th>All</th>\n",
              "      <td>130</td>\n",
              "      <td>120</td>\n",
              "      <td>250</td>\n",
              "    </tr>\n",
              "  </tbody>\n",
              "</table>\n",
              "</div>\n",
              "      <button class=\"colab-df-convert\" onclick=\"convertToInteractive('df-5d9195c0-b66c-4741-bff7-ba0cbc8aa9ed')\"\n",
              "              title=\"Convert this dataframe to an interactive table.\"\n",
              "              style=\"display:none;\">\n",
              "        \n",
              "  <svg xmlns=\"http://www.w3.org/2000/svg\" height=\"24px\"viewBox=\"0 0 24 24\"\n",
              "       width=\"24px\">\n",
              "    <path d=\"M0 0h24v24H0V0z\" fill=\"none\"/>\n",
              "    <path d=\"M18.56 5.44l.94 2.06.94-2.06 2.06-.94-2.06-.94-.94-2.06-.94 2.06-2.06.94zm-11 1L8.5 8.5l.94-2.06 2.06-.94-2.06-.94L8.5 2.5l-.94 2.06-2.06.94zm10 10l.94 2.06.94-2.06 2.06-.94-2.06-.94-.94-2.06-.94 2.06-2.06.94z\"/><path d=\"M17.41 7.96l-1.37-1.37c-.4-.4-.92-.59-1.43-.59-.52 0-1.04.2-1.43.59L10.3 9.45l-7.72 7.72c-.78.78-.78 2.05 0 2.83L4 21.41c.39.39.9.59 1.41.59.51 0 1.02-.2 1.41-.59l7.78-7.78 2.81-2.81c.8-.78.8-2.07 0-2.86zM5.41 20L4 18.59l7.72-7.72 1.47 1.35L5.41 20z\"/>\n",
              "  </svg>\n",
              "      </button>\n",
              "      \n",
              "  <style>\n",
              "    .colab-df-container {\n",
              "      display:flex;\n",
              "      flex-wrap:wrap;\n",
              "      gap: 12px;\n",
              "    }\n",
              "\n",
              "    .colab-df-convert {\n",
              "      background-color: #E8F0FE;\n",
              "      border: none;\n",
              "      border-radius: 50%;\n",
              "      cursor: pointer;\n",
              "      display: none;\n",
              "      fill: #1967D2;\n",
              "      height: 32px;\n",
              "      padding: 0 0 0 0;\n",
              "      width: 32px;\n",
              "    }\n",
              "\n",
              "    .colab-df-convert:hover {\n",
              "      background-color: #E2EBFA;\n",
              "      box-shadow: 0px 1px 2px rgba(60, 64, 67, 0.3), 0px 1px 3px 1px rgba(60, 64, 67, 0.15);\n",
              "      fill: #174EA6;\n",
              "    }\n",
              "\n",
              "    [theme=dark] .colab-df-convert {\n",
              "      background-color: #3B4455;\n",
              "      fill: #D2E3FC;\n",
              "    }\n",
              "\n",
              "    [theme=dark] .colab-df-convert:hover {\n",
              "      background-color: #434B5C;\n",
              "      box-shadow: 0px 1px 3px 1px rgba(0, 0, 0, 0.15);\n",
              "      filter: drop-shadow(0px 1px 2px rgba(0, 0, 0, 0.3));\n",
              "      fill: #FFFFFF;\n",
              "    }\n",
              "  </style>\n",
              "\n",
              "      <script>\n",
              "        const buttonEl =\n",
              "          document.querySelector('#df-5d9195c0-b66c-4741-bff7-ba0cbc8aa9ed button.colab-df-convert');\n",
              "        buttonEl.style.display =\n",
              "          google.colab.kernel.accessAllowed ? 'block' : 'none';\n",
              "\n",
              "        async function convertToInteractive(key) {\n",
              "          const element = document.querySelector('#df-5d9195c0-b66c-4741-bff7-ba0cbc8aa9ed');\n",
              "          const dataTable =\n",
              "            await google.colab.kernel.invokeFunction('convertToInteractive',\n",
              "                                                     [key], {});\n",
              "          if (!dataTable) return;\n",
              "\n",
              "          const docLinkHtml = 'Like what you see? Visit the ' +\n",
              "            '<a target=\"_blank\" href=https://colab.research.google.com/notebooks/data_table.ipynb>data table notebook</a>'\n",
              "            + ' to learn more about interactive tables.';\n",
              "          element.innerHTML = '';\n",
              "          dataTable['output_type'] = 'display_data';\n",
              "          await google.colab.output.renderOutput(dataTable, element);\n",
              "          const docLink = document.createElement('div');\n",
              "          docLink.innerHTML = docLinkHtml;\n",
              "          element.appendChild(docLink);\n",
              "        }\n",
              "      </script>\n",
              "    </div>\n",
              "  </div>\n",
              "  "
            ]
          },
          "metadata": {},
          "execution_count": 38
        }
      ]
    },
    {
      "cell_type": "code",
      "source": [
        "# tabla de contingencia condicionadas por fila\n",
        "# EXPLICACIÓN: EL 65% DE LOS CLIENTES DE LA REGION A NO USA SERVICIOS EN LINEA\n",
        "pd.crosstab(index=data['region18'], columns=data['online18'],\n",
        "            margins=True, normalize='index')"
      ],
      "metadata": {
        "colab": {
          "base_uri": "https://localhost:8080/",
          "height": 206
        },
        "id": "puyUeBxWe9cS",
        "outputId": "ecf6b987-7fe4-4559-c9f1-f90744d57495"
      },
      "execution_count": null,
      "outputs": [
        {
          "output_type": "execute_result",
          "data": {
            "text/plain": [
              "online18         0         1\n",
              "region18                    \n",
              "A         0.650000  0.350000\n",
              "B         0.522613  0.477387\n",
              "C         0.419355  0.580645\n",
              "All       0.520000  0.480000"
            ],
            "text/html": [
              "\n",
              "  <div id=\"df-2b22853e-d149-4405-979c-e1ea5274ee8c\">\n",
              "    <div class=\"colab-df-container\">\n",
              "      <div>\n",
              "<style scoped>\n",
              "    .dataframe tbody tr th:only-of-type {\n",
              "        vertical-align: middle;\n",
              "    }\n",
              "\n",
              "    .dataframe tbody tr th {\n",
              "        vertical-align: top;\n",
              "    }\n",
              "\n",
              "    .dataframe thead th {\n",
              "        text-align: right;\n",
              "    }\n",
              "</style>\n",
              "<table border=\"1\" class=\"dataframe\">\n",
              "  <thead>\n",
              "    <tr style=\"text-align: right;\">\n",
              "      <th>online18</th>\n",
              "      <th>0</th>\n",
              "      <th>1</th>\n",
              "    </tr>\n",
              "    <tr>\n",
              "      <th>region18</th>\n",
              "      <th></th>\n",
              "      <th></th>\n",
              "    </tr>\n",
              "  </thead>\n",
              "  <tbody>\n",
              "    <tr>\n",
              "      <th>A</th>\n",
              "      <td>0.650000</td>\n",
              "      <td>0.350000</td>\n",
              "    </tr>\n",
              "    <tr>\n",
              "      <th>B</th>\n",
              "      <td>0.522613</td>\n",
              "      <td>0.477387</td>\n",
              "    </tr>\n",
              "    <tr>\n",
              "      <th>C</th>\n",
              "      <td>0.419355</td>\n",
              "      <td>0.580645</td>\n",
              "    </tr>\n",
              "    <tr>\n",
              "      <th>All</th>\n",
              "      <td>0.520000</td>\n",
              "      <td>0.480000</td>\n",
              "    </tr>\n",
              "  </tbody>\n",
              "</table>\n",
              "</div>\n",
              "      <button class=\"colab-df-convert\" onclick=\"convertToInteractive('df-2b22853e-d149-4405-979c-e1ea5274ee8c')\"\n",
              "              title=\"Convert this dataframe to an interactive table.\"\n",
              "              style=\"display:none;\">\n",
              "        \n",
              "  <svg xmlns=\"http://www.w3.org/2000/svg\" height=\"24px\"viewBox=\"0 0 24 24\"\n",
              "       width=\"24px\">\n",
              "    <path d=\"M0 0h24v24H0V0z\" fill=\"none\"/>\n",
              "    <path d=\"M18.56 5.44l.94 2.06.94-2.06 2.06-.94-2.06-.94-.94-2.06-.94 2.06-2.06.94zm-11 1L8.5 8.5l.94-2.06 2.06-.94-2.06-.94L8.5 2.5l-.94 2.06-2.06.94zm10 10l.94 2.06.94-2.06 2.06-.94-2.06-.94-.94-2.06-.94 2.06-2.06.94z\"/><path d=\"M17.41 7.96l-1.37-1.37c-.4-.4-.92-.59-1.43-.59-.52 0-1.04.2-1.43.59L10.3 9.45l-7.72 7.72c-.78.78-.78 2.05 0 2.83L4 21.41c.39.39.9.59 1.41.59.51 0 1.02-.2 1.41-.59l7.78-7.78 2.81-2.81c.8-.78.8-2.07 0-2.86zM5.41 20L4 18.59l7.72-7.72 1.47 1.35L5.41 20z\"/>\n",
              "  </svg>\n",
              "      </button>\n",
              "      \n",
              "  <style>\n",
              "    .colab-df-container {\n",
              "      display:flex;\n",
              "      flex-wrap:wrap;\n",
              "      gap: 12px;\n",
              "    }\n",
              "\n",
              "    .colab-df-convert {\n",
              "      background-color: #E8F0FE;\n",
              "      border: none;\n",
              "      border-radius: 50%;\n",
              "      cursor: pointer;\n",
              "      display: none;\n",
              "      fill: #1967D2;\n",
              "      height: 32px;\n",
              "      padding: 0 0 0 0;\n",
              "      width: 32px;\n",
              "    }\n",
              "\n",
              "    .colab-df-convert:hover {\n",
              "      background-color: #E2EBFA;\n",
              "      box-shadow: 0px 1px 2px rgba(60, 64, 67, 0.3), 0px 1px 3px 1px rgba(60, 64, 67, 0.15);\n",
              "      fill: #174EA6;\n",
              "    }\n",
              "\n",
              "    [theme=dark] .colab-df-convert {\n",
              "      background-color: #3B4455;\n",
              "      fill: #D2E3FC;\n",
              "    }\n",
              "\n",
              "    [theme=dark] .colab-df-convert:hover {\n",
              "      background-color: #434B5C;\n",
              "      box-shadow: 0px 1px 3px 1px rgba(0, 0, 0, 0.15);\n",
              "      filter: drop-shadow(0px 1px 2px rgba(0, 0, 0, 0.3));\n",
              "      fill: #FFFFFF;\n",
              "    }\n",
              "  </style>\n",
              "\n",
              "      <script>\n",
              "        const buttonEl =\n",
              "          document.querySelector('#df-2b22853e-d149-4405-979c-e1ea5274ee8c button.colab-df-convert');\n",
              "        buttonEl.style.display =\n",
              "          google.colab.kernel.accessAllowed ? 'block' : 'none';\n",
              "\n",
              "        async function convertToInteractive(key) {\n",
              "          const element = document.querySelector('#df-2b22853e-d149-4405-979c-e1ea5274ee8c');\n",
              "          const dataTable =\n",
              "            await google.colab.kernel.invokeFunction('convertToInteractive',\n",
              "                                                     [key], {});\n",
              "          if (!dataTable) return;\n",
              "\n",
              "          const docLinkHtml = 'Like what you see? Visit the ' +\n",
              "            '<a target=\"_blank\" href=https://colab.research.google.com/notebooks/data_table.ipynb>data table notebook</a>'\n",
              "            + ' to learn more about interactive tables.';\n",
              "          element.innerHTML = '';\n",
              "          dataTable['output_type'] = 'display_data';\n",
              "          await google.colab.output.renderOutput(dataTable, element);\n",
              "          const docLink = document.createElement('div');\n",
              "          docLink.innerHTML = docLinkHtml;\n",
              "          element.appendChild(docLink);\n",
              "        }\n",
              "      </script>\n",
              "    </div>\n",
              "  </div>\n",
              "  "
            ]
          },
          "metadata": {},
          "execution_count": 40
        }
      ]
    },
    {
      "cell_type": "code",
      "source": [
        "# tabla de contingencia condicionadas por columna\n",
        "# DENTRO DE LOS CLIENTES QUE NO USAN SERVICIO EN LINEA, EL 80% ESTÁ EN LA ZONA B\n",
        "pd.crosstab(index=data['region18'], columns=data['online18'],\n",
        "            margins=True, normalize='columns')"
      ],
      "metadata": {
        "colab": {
          "base_uri": "https://localhost:8080/",
          "height": 175
        },
        "id": "PcAz7RDzfa55",
        "outputId": "b3df9ae6-06eb-455b-da89-fa3469685aa9"
      },
      "execution_count": null,
      "outputs": [
        {
          "output_type": "execute_result",
          "data": {
            "text/plain": [
              "online18    0         1    All\n",
              "region18                      \n",
              "A         0.1  0.058333  0.080\n",
              "B         0.8  0.791667  0.796\n",
              "C         0.1  0.150000  0.124"
            ],
            "text/html": [
              "\n",
              "  <div id=\"df-17b76be1-84f9-4f82-8040-c8ac0e51e53c\">\n",
              "    <div class=\"colab-df-container\">\n",
              "      <div>\n",
              "<style scoped>\n",
              "    .dataframe tbody tr th:only-of-type {\n",
              "        vertical-align: middle;\n",
              "    }\n",
              "\n",
              "    .dataframe tbody tr th {\n",
              "        vertical-align: top;\n",
              "    }\n",
              "\n",
              "    .dataframe thead th {\n",
              "        text-align: right;\n",
              "    }\n",
              "</style>\n",
              "<table border=\"1\" class=\"dataframe\">\n",
              "  <thead>\n",
              "    <tr style=\"text-align: right;\">\n",
              "      <th>online18</th>\n",
              "      <th>0</th>\n",
              "      <th>1</th>\n",
              "      <th>All</th>\n",
              "    </tr>\n",
              "    <tr>\n",
              "      <th>region18</th>\n",
              "      <th></th>\n",
              "      <th></th>\n",
              "      <th></th>\n",
              "    </tr>\n",
              "  </thead>\n",
              "  <tbody>\n",
              "    <tr>\n",
              "      <th>A</th>\n",
              "      <td>0.1</td>\n",
              "      <td>0.058333</td>\n",
              "      <td>0.080</td>\n",
              "    </tr>\n",
              "    <tr>\n",
              "      <th>B</th>\n",
              "      <td>0.8</td>\n",
              "      <td>0.791667</td>\n",
              "      <td>0.796</td>\n",
              "    </tr>\n",
              "    <tr>\n",
              "      <th>C</th>\n",
              "      <td>0.1</td>\n",
              "      <td>0.150000</td>\n",
              "      <td>0.124</td>\n",
              "    </tr>\n",
              "  </tbody>\n",
              "</table>\n",
              "</div>\n",
              "      <button class=\"colab-df-convert\" onclick=\"convertToInteractive('df-17b76be1-84f9-4f82-8040-c8ac0e51e53c')\"\n",
              "              title=\"Convert this dataframe to an interactive table.\"\n",
              "              style=\"display:none;\">\n",
              "        \n",
              "  <svg xmlns=\"http://www.w3.org/2000/svg\" height=\"24px\"viewBox=\"0 0 24 24\"\n",
              "       width=\"24px\">\n",
              "    <path d=\"M0 0h24v24H0V0z\" fill=\"none\"/>\n",
              "    <path d=\"M18.56 5.44l.94 2.06.94-2.06 2.06-.94-2.06-.94-.94-2.06-.94 2.06-2.06.94zm-11 1L8.5 8.5l.94-2.06 2.06-.94-2.06-.94L8.5 2.5l-.94 2.06-2.06.94zm10 10l.94 2.06.94-2.06 2.06-.94-2.06-.94-.94-2.06-.94 2.06-2.06.94z\"/><path d=\"M17.41 7.96l-1.37-1.37c-.4-.4-.92-.59-1.43-.59-.52 0-1.04.2-1.43.59L10.3 9.45l-7.72 7.72c-.78.78-.78 2.05 0 2.83L4 21.41c.39.39.9.59 1.41.59.51 0 1.02-.2 1.41-.59l7.78-7.78 2.81-2.81c.8-.78.8-2.07 0-2.86zM5.41 20L4 18.59l7.72-7.72 1.47 1.35L5.41 20z\"/>\n",
              "  </svg>\n",
              "      </button>\n",
              "      \n",
              "  <style>\n",
              "    .colab-df-container {\n",
              "      display:flex;\n",
              "      flex-wrap:wrap;\n",
              "      gap: 12px;\n",
              "    }\n",
              "\n",
              "    .colab-df-convert {\n",
              "      background-color: #E8F0FE;\n",
              "      border: none;\n",
              "      border-radius: 50%;\n",
              "      cursor: pointer;\n",
              "      display: none;\n",
              "      fill: #1967D2;\n",
              "      height: 32px;\n",
              "      padding: 0 0 0 0;\n",
              "      width: 32px;\n",
              "    }\n",
              "\n",
              "    .colab-df-convert:hover {\n",
              "      background-color: #E2EBFA;\n",
              "      box-shadow: 0px 1px 2px rgba(60, 64, 67, 0.3), 0px 1px 3px 1px rgba(60, 64, 67, 0.15);\n",
              "      fill: #174EA6;\n",
              "    }\n",
              "\n",
              "    [theme=dark] .colab-df-convert {\n",
              "      background-color: #3B4455;\n",
              "      fill: #D2E3FC;\n",
              "    }\n",
              "\n",
              "    [theme=dark] .colab-df-convert:hover {\n",
              "      background-color: #434B5C;\n",
              "      box-shadow: 0px 1px 3px 1px rgba(0, 0, 0, 0.15);\n",
              "      filter: drop-shadow(0px 1px 2px rgba(0, 0, 0, 0.3));\n",
              "      fill: #FFFFFF;\n",
              "    }\n",
              "  </style>\n",
              "\n",
              "      <script>\n",
              "        const buttonEl =\n",
              "          document.querySelector('#df-17b76be1-84f9-4f82-8040-c8ac0e51e53c button.colab-df-convert');\n",
              "        buttonEl.style.display =\n",
              "          google.colab.kernel.accessAllowed ? 'block' : 'none';\n",
              "\n",
              "        async function convertToInteractive(key) {\n",
              "          const element = document.querySelector('#df-17b76be1-84f9-4f82-8040-c8ac0e51e53c');\n",
              "          const dataTable =\n",
              "            await google.colab.kernel.invokeFunction('convertToInteractive',\n",
              "                                                     [key], {});\n",
              "          if (!dataTable) return;\n",
              "\n",
              "          const docLinkHtml = 'Like what you see? Visit the ' +\n",
              "            '<a target=\"_blank\" href=https://colab.research.google.com/notebooks/data_table.ipynb>data table notebook</a>'\n",
              "            + ' to learn more about interactive tables.';\n",
              "          element.innerHTML = '';\n",
              "          dataTable['output_type'] = 'display_data';\n",
              "          await google.colab.output.renderOutput(dataTable, element);\n",
              "          const docLink = document.createElement('div');\n",
              "          docLink.innerHTML = docLinkHtml;\n",
              "          element.appendChild(docLink);\n",
              "        }\n",
              "      </script>\n",
              "    </div>\n",
              "  </div>\n",
              "  "
            ]
          },
          "metadata": {},
          "execution_count": 20
        }
      ]
    },
    {
      "cell_type": "markdown",
      "source": [
        "**Gráficos para dos variables categóricas**"
      ],
      "metadata": {
        "id": "Na1jP8Gq9H-u"
      }
    },
    {
      "cell_type": "markdown",
      "source": [
        "Para el análisis de dos variables categóricas en forma conjunta podemos usar un gráfico de barras agrupadas o uno de barras apiladas. Ambos muestran la misma información de difente manera."
      ],
      "metadata": {
        "id": "ZyUsaJfu9Ze1"
      }
    },
    {
      "cell_type": "code",
      "source": [
        "#Puedo necesitar agrupar por alguna variable de interes\n",
        "#Gráfico de barras agrupadas\n",
        "plt.figure(figsize=(5,8)) # elijo el tamaño de mi gráfica\n",
        "sn.countplot(data=data, x='region18', hue='online18')\n",
        "plt.ylabel('cantidad',size=15)\n",
        "plt.xlabel('region18',size=15)\n",
        "plt.title('Cantidad de personas segun uso o no de servicios en línea por zona',size=15)\n",
        "plt.legend()\n",
        "plt.grid(True)  #Para poner grilla"
      ],
      "metadata": {
        "id": "VVP9Ty0IW4z5",
        "colab": {
          "base_uri": "https://localhost:8080/",
          "height": 521
        },
        "outputId": "6e4762d2-7f63-4b09-fdb2-2c4d65389709"
      },
      "execution_count": null,
      "outputs": [
        {
          "output_type": "display_data",
          "data": {
            "text/plain": [
              "<Figure size 360x576 with 1 Axes>"
            ],
            "image/png": "[encoded data removed]"
          },
          "metadata": {
            "needs_background": "light"
          }
        }
      ]
    },
    {
      "cell_type": "code",
      "source": [
        "#Gráfico de barras apiladas\n",
        "plt.figure(figsize=(8,5)) # elijo el tamaño de mi gráfica\n",
        "pd.crosstab(index=data['region18'],\n",
        "            columns=data['online18']\n",
        "                  ).apply(lambda r: r/r.sum()*100,\n",
        "                          axis=1).plot(kind='bar', stacked=True,figsize=(8,5))\n",
        "plt.title(\"Uso de servicios en línea por zona\")\n",
        "plt.xlabel(\"Región\")\n",
        "plt.ylabel(\"Porcentaje por uso\")\n",
        "plt.legend\n",
        "plt.grid(True)"
      ],
      "metadata": {
        "colab": {
          "base_uri": "https://localhost:8080/",
          "height": 365
        },
        "id": "uzjr_a8r5Mwy",
        "outputId": "6077b186-64f2-457f-f663-a9ea09b22b10"
      },
      "execution_count": null,
      "outputs": [
        {
          "output_type": "display_data",
          "data": {
            "text/plain": [
              "<Figure size 576x360 with 0 Axes>"
            ]
          },
          "metadata": {}
        },
        {
          "output_type": "display_data",
          "data": {
            "text/plain": [
              "<Figure size 576x360 with 1 Axes>"
            ],
            "image/png": "[encoded data removed]"
          },
          "metadata": {
            "needs_background": "light"
          }
        }
      ]
    },
    {
      "cell_type": "markdown",
      "source": [
        "# Cálculo e interpretación de medidas descriptivas."
      ],
      "metadata": {
        "id": "nQuk2-psWQG5"
      }
    },
    {
      "cell_type": "markdown",
      "source": [
        "**Medidas de posición centrales**"
      ],
      "metadata": {
        "id": "B5EeaGoPcoQy"
      }
    },
    {
      "cell_type": "markdown",
      "source": [
        "**Media aritmética**"
      ],
      "metadata": {
        "id": "czstfk1BAKNy"
      }
    },
    {
      "cell_type": "code",
      "source": [
        "#Cálculo de la media aritmetica para una variable edad utilizando pandas\n",
        "data['edad18'].mean()"
      ],
      "metadata": {
        "id": "ElzrLBTDSew5",
        "colab": {
          "base_uri": "https://localhost:8080/"
        },
        "outputId": "a87b9b7d-5134-4269-e0df-34f6e226c513"
      },
      "execution_count": null,
      "outputs": [
        {
          "output_type": "execute_result",
          "data": {
            "text/plain": [
              "43.812"
            ]
          },
          "metadata": {},
          "execution_count": 25
        }
      ]
    },
    {
      "cell_type": "code",
      "source": [
        "#Cálculo de la media aritmetica para una variable particular utilizando numpy\n",
        "np.mean(data['edad18'])"
      ],
      "metadata": {
        "id": "tm587AO2Y_TB",
        "colab": {
          "base_uri": "https://localhost:8080/"
        },
        "outputId": "97b31336-92b2-4ff9-e01f-2fcd992563b6"
      },
      "execution_count": null,
      "outputs": [
        {
          "output_type": "execute_result",
          "data": {
            "text/plain": [
              "43.812"
            ]
          },
          "metadata": {},
          "execution_count": 26
        }
      ]
    },
    {
      "cell_type": "markdown",
      "source": [
        "La edad promedio de los clientes es de 43,812 años"
      ],
      "metadata": {
        "id": "dwa5C_kmDRcJ"
      }
    },
    {
      "cell_type": "code",
      "source": [
        "#Calculo medias segun algun variable de segmentacion\n",
        "\n",
        "data[data.region18 == 'A'].edad18.mean() # Media de la edad para la región A"
      ],
      "metadata": {
        "id": "G6sxCNKoH3hw",
        "colab": {
          "base_uri": "https://localhost:8080/"
        },
        "outputId": "10475db4-77b7-44d4-df83-43a90296839b"
      },
      "execution_count": null,
      "outputs": [
        {
          "output_type": "execute_result",
          "data": {
            "text/plain": [
              "43.45"
            ]
          },
          "metadata": {},
          "execution_count": 28
        }
      ]
    },
    {
      "cell_type": "code",
      "source": [
        "data[data.region18 == 'B'].edad18.mean() # Media de la edad para la región B"
      ],
      "metadata": {
        "colab": {
          "base_uri": "https://localhost:8080/"
        },
        "id": "39TOlxAtBpm_",
        "outputId": "6494b686-db43-4bc2-8cfb-c5bdb92961a1"
      },
      "execution_count": null,
      "outputs": [
        {
          "output_type": "execute_result",
          "data": {
            "text/plain": [
              "44.42713567839196"
            ]
          },
          "metadata": {},
          "execution_count": 29
        }
      ]
    },
    {
      "cell_type": "code",
      "source": [
        "data[data.region18 == 'C'].edad18.mean() # Media de la edad para la región C"
      ],
      "metadata": {
        "colab": {
          "base_uri": "https://localhost:8080/"
        },
        "id": "9JhUpE8QBvzn",
        "outputId": "d7af84bd-d243-4f20-89bf-fe9867ec9d79"
      },
      "execution_count": null,
      "outputs": [
        {
          "output_type": "execute_result",
          "data": {
            "text/plain": [
              "40.096774193548384"
            ]
          },
          "metadata": {},
          "execution_count": 30
        }
      ]
    },
    {
      "cell_type": "markdown",
      "source": [
        "La edad promedio de los clientes es menor en la región C, con un valor de 40 años."
      ],
      "metadata": {
        "id": "_8Pdt5i0DXmB"
      }
    },
    {
      "cell_type": "code",
      "source": [
        "#Visualizar el promedio de edad\n",
        "plt.figure(figsize=(12,8))\n",
        "sn.barplot(data=data, x='region18', y='edad18', ci=False)\n",
        "plt.ylabel('Promedio de edad por región')\n",
        "plt.xlabel('Región')\n",
        "plt.title('Promedio de edad por región', size=15)\n",
        "sn.despine(left=True)"
      ],
      "metadata": {
        "id": "HSUsWa9udBGx",
        "colab": {
          "base_uri": "https://localhost:8080/",
          "height": 516
        },
        "outputId": "25ae0c93-9384-40f6-8409-ae6507719418"
      },
      "execution_count": null,
      "outputs": [
        {
          "output_type": "display_data",
          "data": {
            "text/plain": [
              "<Figure size 864x576 with 1 Axes>"
            ],
            "image/png": "[encoded data removed]"
          },
          "metadata": {
            "needs_background": "light"
          }
        }
      ]
    },
    {
      "cell_type": "markdown",
      "source": [
        "**Mediana**"
      ],
      "metadata": {
        "id": "fhWNtLS1boXx"
      }
    },
    {
      "cell_type": "code",
      "source": [
        "np.percentile(data.edad18, 50) # Buscamos la mediana como el percentil 50"
      ],
      "metadata": {
        "id": "MatfM0TZPlNA",
        "colab": {
          "base_uri": "https://localhost:8080/"
        },
        "outputId": "52b65527-71b9-4b0b-a6af-d64fc18e7630"
      },
      "execution_count": null,
      "outputs": [
        {
          "output_type": "execute_result",
          "data": {
            "text/plain": [
              "41.0"
            ]
          },
          "metadata": {},
          "execution_count": 35
        }
      ]
    },
    {
      "cell_type": "markdown",
      "source": [
        "La mediana es de 41 años. La mitad de los clientes tienen 41 años o menos."
      ],
      "metadata": {
        "id": "0bB41wqNDixz"
      }
    },
    {
      "cell_type": "markdown",
      "source": [
        "**Modo**"
      ],
      "metadata": {
        "id": "r7K8taaQCxxV"
      }
    },
    {
      "cell_type": "code",
      "source": [
        "stat.mode(data['edad18'])\n"
      ],
      "metadata": {
        "id": "j5wcSlsuSjkw",
        "colab": {
          "base_uri": "https://localhost:8080/"
        },
        "outputId": "f9c8d8c9-b22d-4a07-eee9-e412d1621541"
      },
      "execution_count": null,
      "outputs": [
        {
          "output_type": "execute_result",
          "data": {
            "text/plain": [
              "41"
            ]
          },
          "metadata": {},
          "execution_count": 36
        }
      ]
    },
    {
      "cell_type": "markdown",
      "source": [
        "El valor más frecuente de la edad de los clientes es 41 años."
      ],
      "metadata": {
        "id": "OUsDJyCBDzn2"
      }
    },
    {
      "cell_type": "code",
      "source": [
        "stat.mode(data['region18'])"
      ],
      "metadata": {
        "id": "q6BvkkhYmEBf",
        "colab": {
          "base_uri": "https://localhost:8080/",
          "height": 35
        },
        "outputId": "fa11dc6e-f2ec-41dd-e272-33dc4b73e5b1"
      },
      "execution_count": null,
      "outputs": [
        {
          "output_type": "execute_result",
          "data": {
            "text/plain": [
              "'B'"
            ],
            "application/vnd.google.colaboratory.intrinsic+json": {
              "type": "string"
            }
          },
          "metadata": {},
          "execution_count": 37
        }
      ]
    },
    {
      "cell_type": "markdown",
      "source": [
        "El valor más frecuente de la región es B."
      ],
      "metadata": {
        "id": "YRSw6zNPD5O2"
      }
    },
    {
      "cell_type": "markdown",
      "source": [
        "\n",
        "\n",
        "**Medidas de posición no centrales**\n"
      ],
      "metadata": {
        "id": "aPghRIRAnvhG"
      }
    },
    {
      "cell_type": "markdown",
      "source": [
        "**Cuartiles**"
      ],
      "metadata": {
        "id": "_iS9wrxXFfuC"
      }
    },
    {
      "cell_type": "code",
      "source": [
        "#sCuartiles con numpy para una variable\n",
        "print( \"q1:\", np.quantile(data.edad18, 0.25))\n",
        "print( \"q2:\", np.quantile(data.edad18, 0.50))\n",
        "print( \"q3:\", np.quantile(data.edad18, 0.75))\n",
        "# EL 75% DE LOS CLIENTES TIENEN HASTA 53,75 AÑOS\n"
      ],
      "metadata": {
        "id": "H5MNVPfuoGFO",
        "colab": {
          "base_uri": "https://localhost:8080/"
        },
        "outputId": "5147245b-39a4-43e2-dd2b-ee22c448d993"
      },
      "execution_count": null,
      "outputs": [
        {
          "output_type": "stream",
          "name": "stdout",
          "text": [
            "q1: 32.0\n",
            "q2: 41.0\n",
            "q3: 53.75\n"
          ]
        }
      ]
    },
    {
      "cell_type": "code",
      "source": [
        "#usando pandas\n",
        "data['edad18'].quantile(0.25)\n"
      ],
      "metadata": {
        "id": "q3GnijHCsj2G",
        "colab": {
          "base_uri": "https://localhost:8080/"
        },
        "outputId": "c6d5d0f1-b14a-4b32-d896-aa9ae2a30119"
      },
      "execution_count": null,
      "outputs": [
        {
          "output_type": "execute_result",
          "data": {
            "text/plain": [
              "32.0"
            ]
          },
          "metadata": {},
          "execution_count": 43
        }
      ]
    },
    {
      "cell_type": "code",
      "source": [
        "#usando pandas\n",
        "data['edad18'].quantile(0.50)\n"
      ],
      "metadata": {
        "colab": {
          "base_uri": "https://localhost:8080/"
        },
        "outputId": "7e3e4346-7ad6-4cae-b007-221ca8b9b78b",
        "id": "QzAiAJBTEifT"
      },
      "execution_count": null,
      "outputs": [
        {
          "output_type": "execute_result",
          "data": {
            "text/plain": [
              "41.0"
            ]
          },
          "metadata": {},
          "execution_count": 44
        }
      ]
    },
    {
      "cell_type": "code",
      "source": [],
      "metadata": {
        "id": "qe6WaqFZEnIa"
      },
      "execution_count": null,
      "outputs": []
    },
    {
      "cell_type": "code",
      "source": [
        "#usando pandas\n",
        "data['edad18'].quantile(0.75)"
      ],
      "metadata": {
        "colab": {
          "base_uri": "https://localhost:8080/"
        },
        "outputId": "11b283e2-a818-4edb-b8d4-49950f32a5d6",
        "id": "rAiEtRV7Enbf"
      },
      "execution_count": null,
      "outputs": [
        {
          "output_type": "execute_result",
          "data": {
            "text/plain": [
              "53.75"
            ]
          },
          "metadata": {},
          "execution_count": 45
        }
      ]
    },
    {
      "cell_type": "markdown",
      "source": [
        "El 25% de los clientes tienen 32 años o menos (cuartil 1). Es decir, 32 años es el valor máximo de la edad para el 25% más joven y el valor mínimo de la edad para el 75% de edades más altas.  El 75% de los clientes tiene como máximo 53,75 años (cuartil 3).Es decir, 53 años es el valor máximo de la edad para el 75% más joven y el valor mínimo de la edad para el 25% de edades más altas."
      ],
      "metadata": {
        "id": "F8imcLSIEraO"
      }
    },
    {
      "cell_type": "markdown",
      "source": [
        "\n",
        "\n",
        "\n",
        "**Percentiles**"
      ],
      "metadata": {
        "id": "xR54_AI0n6it"
      }
    },
    {
      "cell_type": "code",
      "source": [
        "np.percentile(data.edad18, 50)\n",
        "\n",
        "#si quiero pedir los cuantiles con numpy para una variable\n",
        "# EL 10% DE LOS CLIENTES TIENEN HASTA 24 AÑOS\n",
        "# EL 20% DE LOS CLIENTES TIENEN HASTA 32 AÑOS\n",
        "print( \"perc1:\", np.percentile(data.edad18, 10))\n",
        "print( \"perc2:\", np.percentile(data.edad18, 20))\n",
        "print( \"perc3:\", np.percentile(data.edad18, 30))\n",
        "print( \"perc4:\", np.percentile(data.edad18, 40))\n",
        "print( \"perc5:\", np.percentile(data.edad18, 50))\n",
        "print( \"perc6:\", np.percentile(data.edad18, 60))\n",
        "print( \"perc7:\", np.percentile(data.edad18, 70))\n",
        "print( \"perc8:\", np.percentile(data.edad18, 80))\n",
        "print( \"perc9:\", np.percentile(data.edad18, 90))\n",
        "print( \"perc10:\", np.percentile(data.edad18, 100))\n",
        "\n"
      ],
      "metadata": {
        "colab": {
          "base_uri": "https://localhost:8080/"
        },
        "id": "Dw0rVoFyZHE_",
        "outputId": "4b05e746-c028-4ad5-ca65-8410efbbc44d"
      },
      "execution_count": null,
      "outputs": [
        {
          "output_type": "stream",
          "name": "stdout",
          "text": [
            "perc1: 24.0\n",
            "perc2: 32.0\n",
            "perc3: 32.0\n",
            "perc4: 40.60000000000001\n",
            "perc5: 41.0\n",
            "perc6: 45.0\n",
            "perc7: 49.0\n",
            "perc8: 62.0\n",
            "perc9: 70.0\n",
            "perc10: 78.0\n"
          ]
        }
      ]
    },
    {
      "cell_type": "markdown",
      "source": [
        "El 10% de los clientes tiene 24 años o menos (percentil 1). El 80% de los clientes tiene 62 años o menos (percentil 8)"
      ],
      "metadata": {
        "id": "-htvF1gXLEC4"
      }
    },
    {
      "cell_type": "markdown",
      "source": [
        "**Medidas de dispersión**"
      ],
      "metadata": {
        "id": "CoaQwWwrLW0F"
      }
    },
    {
      "cell_type": "markdown",
      "source": [
        "**Varianza, desviación estándar y coeficiente de variación`**"
      ],
      "metadata": {
        "id": "l2dNO0vMRHk6"
      }
    },
    {
      "cell_type": "code",
      "source": [
        "print( \"La varianza es\", data['edad18'].var())\n",
        "print( \"La desv. estandar es\" ,data['edad18'].std())\n",
        "print(\"El coef. de variación es\", data['edad18'].std()/data['edad18'].mean())"
      ],
      "metadata": {
        "id": "NkeSLYlXTWoJ",
        "colab": {
          "base_uri": "https://localhost:8080/"
        },
        "outputId": "fd1cfcb7-39a0-487f-92ff-1e5f1a18b975"
      },
      "execution_count": null,
      "outputs": [
        {
          "output_type": "stream",
          "name": "stdout",
          "text": [
            "La varianza es 221.5428273092369\n",
            "La desv. estandar es 14.884314808187742\n",
            "El coef. de variación es 0.3397314618868744\n"
          ]
        }
      ]
    },
    {
      "cell_type": "markdown",
      "source": [
        "Los datos de la edad se desvían en promedio 14,88 años respecto a la media de 43,81. La mayor parte de los datos se concentra en (43,81-14,88 y 43,81+14,88) = (28,93 y 58,69)años. La desviación estándar es un 34% de la media (CV)."
      ],
      "metadata": {
        "id": "G9FFhPlqLuhg"
      }
    },
    {
      "cell_type": "markdown",
      "source": [
        "**Rango y Rango Intercuartilico`**"
      ],
      "metadata": {
        "id": "d2lTgAGmb9p4"
      }
    },
    {
      "cell_type": "code",
      "source": [
        "print(\"El Rango es\", data['edad18'].max()-data['edad18'].min())\n",
        "print(\"El Rango Intercuartilico es\", np.quantile(data.edad18, 0.75)-np.quantile(data.edad18, 0.25))"
      ],
      "metadata": {
        "colab": {
          "base_uri": "https://localhost:8080/"
        },
        "id": "Rg11HvXqcCqX",
        "outputId": "a9bae833-ca30-4aef-af79-6fc160e59c42"
      },
      "execution_count": null,
      "outputs": [
        {
          "output_type": "stream",
          "name": "stdout",
          "text": [
            "El Rango es 60\n",
            "El Rango Intercuartilico es 21.75\n"
          ]
        }
      ]
    },
    {
      "cell_type": "markdown",
      "source": [
        "El rango de edades es de 60 años. La dispersión en el 50% central de los datos es de 21,75 años."
      ],
      "metadata": {
        "id": "QPgFNxZ5MlWy"
      }
    },
    {
      "cell_type": "markdown",
      "source": [
        "**BoxPlot`**"
      ],
      "metadata": {
        "id": "3quHQsggS_16"
      }
    },
    {
      "cell_type": "code",
      "source": [
        "plt.figure(figsize=(12,8))\n",
        "plt.subplot(2, 1, 1)\n",
        "plt.boxplot(data=data, x='edad18')\n",
        "plt.ylabel('Años')\n",
        "plt.title('Distribución de la variable Edad',size='15')\n",
        "plt.grid(True)\n",
        "plt.show\n",
        "\n",
        "\n",
        "\n"
      ],
      "metadata": {
        "colab": {
          "base_uri": "https://localhost:8080/",
          "height": 281
        },
        "outputId": "35d63c3b-264a-4a86-8a96-13e5809d6f90",
        "id": "NMO_RTR-NUhC"
      },
      "execution_count": null,
      "outputs": [
        {
          "output_type": "execute_result",
          "data": {
            "text/plain": [
              "<function matplotlib.pyplot.show>"
            ]
          },
          "metadata": {},
          "execution_count": 47
        },
        {
          "output_type": "display_data",
          "data": {
            "text/plain": [
              "<Figure size 864x576 with 1 Axes>"
            ],
            "image/png": "[encoded data removed]"
          },
          "metadata": {
            "needs_background": "light"
          }
        }
      ]
    },
    {
      "cell_type": "markdown",
      "source": [
        "La mediana está más cerca del cuartil 1 y el brazo inferior es más corto, lo que estaría indicando una mayor concentración para valores más bajos de la variable. No se observan valores atípicos (outliers)."
      ],
      "metadata": {
        "id": "4-veehOaOOHL"
      }
    },
    {
      "cell_type": "code",
      "source": [
        "# Se puede observar  la distribucion de la edad para una variable categorica (región)\n",
        "\n",
        "plt.figure(figsize=(12,8))\n",
        "sn.boxplot(x='edad18', y='region18', data=data)\n",
        "plt.title(\"Distribución de la edad por región\",size='15')\n",
        "plt.xlabel(\"Edad\")\n",
        "plt.ylabel(\"Región\")\n",
        "plt.grid(True)\n",
        "plt.show()\n",
        "\n"
      ],
      "metadata": {
        "id": "GiVza8OFJjA8",
        "colab": {
          "base_uri": "https://localhost:8080/",
          "height": 516
        },
        "outputId": "bc13c873-0956-4a0f-9843-7de84e395490"
      },
      "execution_count": null,
      "outputs": [
        {
          "output_type": "display_data",
          "data": {
            "text/plain": [
              "<Figure size 864x576 with 1 Axes>"
            ],
            "image/png": "[encoded data removed]"
          },
          "metadata": {
            "needs_background": "light"
          }
        }
      ]
    },
    {
      "cell_type": "markdown",
      "source": [
        "En la región B se observa mayor dispersión en el total de los datos (largo de los brazos) y en el 50% central (tamaño de la caja). Las medianas son similares en las tres zonas pero la zona C registra valores de edad atípicos altos."
      ],
      "metadata": {
        "id": "1kvLd8W5Opte"
      }
    },
    {
      "cell_type": "code",
      "source": [
        "\n",
        "# Medidas descriptivas centrales para todas las variables\n",
        "data.describe()"
      ],
      "metadata": {
        "id": "duCJZ8MpPeax",
        "colab": {
          "base_uri": "https://localhost:8080/",
          "height": 300
        },
        "outputId": "bab2a140-6b37-4710-f772-bbede3574d3f"
      },
      "execution_count": null,
      "outputs": [
        {
          "output_type": "execute_result",
          "data": {
            "text/plain": [
              "               id       rent17    online17      edad18          ing18  \\\n",
              "count  250.000000   250.000000  250.000000  250.000000     250.000000   \n",
              "mean   125.500000   106.292000    0.124000   43.812000   66336.058760   \n",
              "std     72.312977   239.009096    0.330243   14.884315   35898.668677   \n",
              "min      1.000000  -213.000000    0.000000   18.000000    1034.730000   \n",
              "25%     63.250000   -33.750000    0.000000   32.000000   38861.025000   \n",
              "50%    125.500000    10.500000    0.000000   41.000000   64629.485000   \n",
              "75%    187.750000   187.500000    0.000000   53.750000   90356.502500   \n",
              "max    250.000000  1517.000000    1.000000   78.000000  178999.740000   \n",
              "\n",
              "           ant18       rent18    online18      prod18  \n",
              "count  250.00000   250.000000  250.000000  250.000000  \n",
              "mean     9.57328   132.336000    0.480000    2.116000  \n",
              "std      8.55139   296.370764    0.500602    1.100631  \n",
              "min      0.16000  -189.000000    0.000000    1.000000  \n",
              "25%      3.75000   -26.750000    0.000000    1.000000  \n",
              "50%      6.37000    30.000000    0.000000    2.000000  \n",
              "75%     13.56000   184.500000    1.000000    3.000000  \n",
              "max     41.16000  2726.000000    1.000000    6.000000  "
            ],
            "text/html": [
              "\n",
              "  <div id=\"df-9366df3f-3c50-475b-a00c-7e9fdc37aee1\">\n",
              "    <div class=\"colab-df-container\">\n",
              "      <div>\n",
              "<style scoped>\n",
              "    .dataframe tbody tr th:only-of-type {\n",
              "        vertical-align: middle;\n",
              "    }\n",
              "\n",
              "    .dataframe tbody tr th {\n",
              "        vertical-align: top;\n",
              "    }\n",
              "\n",
              "    .dataframe thead th {\n",
              "        text-align: right;\n",
              "    }\n",
              "</style>\n",
              "<table border=\"1\" class=\"dataframe\">\n",
              "  <thead>\n",
              "    <tr style=\"text-align: right;\">\n",
              "      <th></th>\n",
              "      <th>id</th>\n",
              "      <th>rent17</th>\n",
              "      <th>online17</th>\n",
              "      <th>edad18</th>\n",
              "      <th>ing18</th>\n",
              "      <th>ant18</th>\n",
              "      <th>rent18</th>\n",
              "      <th>online18</th>\n",
              "      <th>prod18</th>\n",
              "    </tr>\n",
              "  </thead>\n",
              "  <tbody>\n",
              "    <tr>\n",
              "      <th>count</th>\n",
              "      <td>250.000000</td>\n",
              "      <td>250.000000</td>\n",
              "      <td>250.000000</td>\n",
              "      <td>250.000000</td>\n",
              "      <td>250.000000</td>\n",
              "      <td>250.00000</td>\n",
              "      <td>250.000000</td>\n",
              "      <td>250.000000</td>\n",
              "      <td>250.000000</td>\n",
              "    </tr>\n",
              "    <tr>\n",
              "      <th>mean</th>\n",
              "      <td>125.500000</td>\n",
              "      <td>106.292000</td>\n",
              "      <td>0.124000</td>\n",
              "      <td>43.812000</td>\n",
              "      <td>66336.058760</td>\n",
              "      <td>9.57328</td>\n",
              "      <td>132.336000</td>\n",
              "      <td>0.480000</td>\n",
              "      <td>2.116000</td>\n",
              "    </tr>\n",
              "    <tr>\n",
              "      <th>std</th>\n",
              "      <td>72.312977</td>\n",
              "      <td>239.009096</td>\n",
              "      <td>0.330243</td>\n",
              "      <td>14.884315</td>\n",
              "      <td>35898.668677</td>\n",
              "      <td>8.55139</td>\n",
              "      <td>296.370764</td>\n",
              "      <td>0.500602</td>\n",
              "      <td>1.100631</td>\n",
              "    </tr>\n",
              "    <tr>\n",
              "      <th>min</th>\n",
              "      <td>1.000000</td>\n",
              "      <td>-213.000000</td>\n",
              "      <td>0.000000</td>\n",
              "      <td>18.000000</td>\n",
              "      <td>1034.730000</td>\n",
              "      <td>0.16000</td>\n",
              "      <td>-189.000000</td>\n",
              "      <td>0.000000</td>\n",
              "      <td>1.000000</td>\n",
              "    </tr>\n",
              "    <tr>\n",
              "      <th>25%</th>\n",
              "      <td>63.250000</td>\n",
              "      <td>-33.750000</td>\n",
              "      <td>0.000000</td>\n",
              "      <td>32.000000</td>\n",
              "      <td>38861.025000</td>\n",
              "      <td>3.75000</td>\n",
              "      <td>-26.750000</td>\n",
              "      <td>0.000000</td>\n",
              "      <td>1.000000</td>\n",
              "    </tr>\n",
              "    <tr>\n",
              "      <th>50%</th>\n",
              "      <td>125.500000</td>\n",
              "      <td>10.500000</td>\n",
              "      <td>0.000000</td>\n",
              "      <td>41.000000</td>\n",
              "      <td>64629.485000</td>\n",
              "      <td>6.37000</td>\n",
              "      <td>30.000000</td>\n",
              "      <td>0.000000</td>\n",
              "      <td>2.000000</td>\n",
              "    </tr>\n",
              "    <tr>\n",
              "      <th>75%</th>\n",
              "      <td>187.750000</td>\n",
              "      <td>187.500000</td>\n",
              "      <td>0.000000</td>\n",
              "      <td>53.750000</td>\n",
              "      <td>90356.502500</td>\n",
              "      <td>13.56000</td>\n",
              "      <td>184.500000</td>\n",
              "      <td>1.000000</td>\n",
              "      <td>3.000000</td>\n",
              "    </tr>\n",
              "    <tr>\n",
              "      <th>max</th>\n",
              "      <td>250.000000</td>\n",
              "      <td>1517.000000</td>\n",
              "      <td>1.000000</td>\n",
              "      <td>78.000000</td>\n",
              "      <td>178999.740000</td>\n",
              "      <td>41.16000</td>\n",
              "      <td>2726.000000</td>\n",
              "      <td>1.000000</td>\n",
              "      <td>6.000000</td>\n",
              "    </tr>\n",
              "  </tbody>\n",
              "</table>\n",
              "</div>\n",
              "      <button class=\"colab-df-convert\" onclick=\"convertToInteractive('df-9366df3f-3c50-475b-a00c-7e9fdc37aee1')\"\n",
              "              title=\"Convert this dataframe to an interactive table.\"\n",
              "              style=\"display:none;\">\n",
              "        \n",
              "  <svg xmlns=\"http://www.w3.org/2000/svg\" height=\"24px\"viewBox=\"0 0 24 24\"\n",
              "       width=\"24px\">\n",
              "    <path d=\"M0 0h24v24H0V0z\" fill=\"none\"/>\n",
              "    <path d=\"M18.56 5.44l.94 2.06.94-2.06 2.06-.94-2.06-.94-.94-2.06-.94 2.06-2.06.94zm-11 1L8.5 8.5l.94-2.06 2.06-.94-2.06-.94L8.5 2.5l-.94 2.06-2.06.94zm10 10l.94 2.06.94-2.06 2.06-.94-2.06-.94-.94-2.06-.94 2.06-2.06.94z\"/><path d=\"M17.41 7.96l-1.37-1.37c-.4-.4-.92-.59-1.43-.59-.52 0-1.04.2-1.43.59L10.3 9.45l-7.72 7.72c-.78.78-.78 2.05 0 2.83L4 21.41c.39.39.9.59 1.41.59.51 0 1.02-.2 1.41-.59l7.78-7.78 2.81-2.81c.8-.78.8-2.07 0-2.86zM5.41 20L4 18.59l7.72-7.72 1.47 1.35L5.41 20z\"/>\n",
              "  </svg>\n",
              "      </button>\n",
              "      \n",
              "  <style>\n",
              "    .colab-df-container {\n",
              "      display:flex;\n",
              "      flex-wrap:wrap;\n",
              "      gap: 12px;\n",
              "    }\n",
              "\n",
              "    .colab-df-convert {\n",
              "      background-color: #E8F0FE;\n",
              "      border: none;\n",
              "      border-radius: 50%;\n",
              "      cursor: pointer;\n",
              "      display: none;\n",
              "      fill: #1967D2;\n",
              "      height: 32px;\n",
              "      padding: 0 0 0 0;\n",
              "      width: 32px;\n",
              "    }\n",
              "\n",
              "    .colab-df-convert:hover {\n",
              "      background-color: #E2EBFA;\n",
              "      box-shadow: 0px 1px 2px rgba(60, 64, 67, 0.3), 0px 1px 3px 1px rgba(60, 64, 67, 0.15);\n",
              "      fill: #174EA6;\n",
              "    }\n",
              "\n",
              "    [theme=dark] .colab-df-convert {\n",
              "      background-color: #3B4455;\n",
              "      fill: #D2E3FC;\n",
              "    }\n",
              "\n",
              "    [theme=dark] .colab-df-convert:hover {\n",
              "      background-color: #434B5C;\n",
              "      box-shadow: 0px 1px 3px 1px rgba(0, 0, 0, 0.15);\n",
              "      filter: drop-shadow(0px 1px 2px rgba(0, 0, 0, 0.3));\n",
              "      fill: #FFFFFF;\n",
              "    }\n",
              "  </style>\n",
              "\n",
              "      <script>\n",
              "        const buttonEl =\n",
              "          document.querySelector('#df-9366df3f-3c50-475b-a00c-7e9fdc37aee1 button.colab-df-convert');\n",
              "        buttonEl.style.display =\n",
              "          google.colab.kernel.accessAllowed ? 'block' : 'none';\n",
              "\n",
              "        async function convertToInteractive(key) {\n",
              "          const element = document.querySelector('#df-9366df3f-3c50-475b-a00c-7e9fdc37aee1');\n",
              "          const dataTable =\n",
              "            await google.colab.kernel.invokeFunction('convertToInteractive',\n",
              "                                                     [key], {});\n",
              "          if (!dataTable) return;\n",
              "\n",
              "          const docLinkHtml = 'Like what you see? Visit the ' +\n",
              "            '<a target=\"_blank\" href=https://colab.research.google.com/notebooks/data_table.ipynb>data table notebook</a>'\n",
              "            + ' to learn more about interactive tables.';\n",
              "          element.innerHTML = '';\n",
              "          dataTable['output_type'] = 'display_data';\n",
              "          await google.colab.output.renderOutput(dataTable, element);\n",
              "          const docLink = document.createElement('div');\n",
              "          docLink.innerHTML = docLinkHtml;\n",
              "          element.appendChild(docLink);\n",
              "        }\n",
              "      </script>\n",
              "    </div>\n",
              "  </div>\n",
              "  "
            ]
          },
          "metadata": {},
          "execution_count": 22
        }
      ]
    },
    {
      "cell_type": "markdown",
      "source": [
        "# Intervalos de confianza"
      ],
      "metadata": {
        "id": "JsvaysBMEUwk"
      }
    },
    {
      "cell_type": "markdown",
      "source": [
        "Trabajaremos con la variable antigüedad de la base de datos. Primero realizamos un análisis exploratorio"
      ],
      "metadata": {
        "id": "ZgeG8np0ES1g"
      }
    },
    {
      "cell_type": "code",
      "source": [
        "#Cambiamos el formato de la variable antigüedad a continua\n",
        "\n",
        "data['ant18'] = data['ant18'].astype('int64')\n",
        "data['ant18'].dtype\n"
      ],
      "metadata": {
        "colab": {
          "base_uri": "https://localhost:8080/"
        },
        "id": "oP7XUsn7KE01",
        "outputId": "10c7bcbf-b79c-49b7-f377-deaead6c4202"
      },
      "execution_count": null,
      "outputs": [
        {
          "output_type": "execute_result",
          "data": {
            "text/plain": [
              "dtype('int64')"
            ]
          },
          "metadata": {},
          "execution_count": 48
        }
      ]
    },
    {
      "cell_type": "code",
      "source": [
        "#Verificamos el cambio\n",
        "data.dtypes #filas, columnas"
      ],
      "metadata": {
        "colab": {
          "base_uri": "https://localhost:8080/"
        },
        "outputId": "b9a08624-082d-431f-d942-5bb1e4b0bfb4",
        "id": "TEjCTmrUKJ7H"
      },
      "execution_count": null,
      "outputs": [
        {
          "output_type": "execute_result",
          "data": {
            "text/plain": [
              "id            int64\n",
              "rent17        int64\n",
              "online17      int64\n",
              "edad18        int64\n",
              "ing18       float64\n",
              "ant18         int64\n",
              "rent18        int64\n",
              "online18      int64\n",
              "prod18        int64\n",
              "region18     object\n",
              "dtype: object"
            ]
          },
          "metadata": {},
          "execution_count": 7
        }
      ]
    },
    {
      "cell_type": "code",
      "source": [
        "plt.figure(figsize=(8,5))\n",
        "intervalos = range(min(data.ant18), max(data.ant18) + 2) #calculamos los extremos de los intervalos\n",
        "plt.hist(data=data, x='ant18', bins=5, color='blue', rwidth=1) #bins indica el número de barras y rwidth el ancho de la barra en porcentaje.\n",
        "plt.title('Histograma de antigüedad - matplotlib - codigopiton.com')\n",
        "plt.xlabel('Antigüedad')\n",
        "plt.ylabel('Frecuencia')\n",
        "plt.xticks()\n",
        "plt.show()"
      ],
      "metadata": {
        "colab": {
          "base_uri": "https://localhost:8080/",
          "height": 350
        },
        "id": "4sV0YsEoKN3c",
        "outputId": "2df653af-2648-4ca6-df7b-5e3a2a37940c"
      },
      "execution_count": null,
      "outputs": [
        {
          "output_type": "display_data",
          "data": {
            "text/plain": [
              "<Figure size 576x360 with 1 Axes>"
            ],
            "image/png": "[encoded data removed]"
          },
          "metadata": {
            "needs_background": "light"
          }
        }
      ]
    },
    {
      "cell_type": "markdown",
      "source": [
        "No es razonable suponer que los datos de antigüedad siguen una distribución Normal. No obstante la muestra es grande por lo que puede aproximarse a Normal"
      ],
      "metadata": {
        "id": "C3yNLcwCKWWo"
      }
    },
    {
      "cell_type": "markdown",
      "source": [
        "**Intervalo de confianza para la media poblacional**"
      ],
      "metadata": {
        "id": "lXBnBQGYANN_"
      }
    },
    {
      "cell_type": "markdown",
      "source": [
        "Se desea estimar la la antigüead promedio (en años) de los clientes en el año 2018. Tenemos una muestra  aleatoria de 250 clientes. Trabajaremos con una confianza del 95%. No conocemos la varianza poblacional, la estimaremos con los datos de la muestra."
      ],
      "metadata": {
        "id": "lpscLesDB5Rc"
      }
    },
    {
      "cell_type": "code",
      "source": [
        "# Nivel de confianza\n",
        "nivel_conf=0.95\n",
        "# Datos muestrales\n",
        "data=data['ant18']\n",
        "from scipy.stats import t\n",
        "\n",
        "def ic(data,nivel_conf):\n",
        "    n = len(data)\n",
        "    t1 = t.ppf((1-nivel_conf)/2, n-1)\n",
        "    t2 = t.ppf(nivel_conf+(1-nivel_conf)/2, n-1)\n",
        "    data_mean = np.mean(data)\n",
        "    sigma = stdev( data, data_mean)\n",
        "    lim_inf=data_mean+t1*sigma/n**0.5\n",
        "    lim_sup=data_mean+t2*sigma/n**0.5\n",
        "    return lim_inf,lim_sup,t1,t2,data_mean,sigma,n\n",
        "\n",
        "lim_inf,lim_sup,t1,t2,data_mean,sigma,n = ic(data,nivel_conf)\n",
        "print(\"Media Muestral =\",data_mean)\n",
        "print(\"S Muestral =\",sigma)\n",
        "print(\"n muestral =\",n)\n",
        "print(\"t1 =\", t1)\n",
        "print(\"t2 =\", t2)\n",
        "print(\"Intervalo de confianza: \",\"[\",lim_inf,\";\",lim_sup,\"]\")"
      ],
      "metadata": {
        "colab": {
          "base_uri": "https://localhost:8080/"
        },
        "id": "v-p_VYsN-nRF",
        "outputId": "b70de0ca-1664-4ae4-d03b-d09c68f57b93"
      },
      "execution_count": null,
      "outputs": [
        {
          "output_type": "stream",
          "name": "stdout",
          "text": [
            "Media Muestral = 9.573279999999999\n",
            "S Muestral = 8.551390340090574\n",
            "n muestral = 250\n",
            "t1 = -1.9695368676395824\n",
            "t2 = 1.9695368676395824\n",
            "Intervalo de confianza:  [ 8.508080776255138 ; 10.63847922374486 ]\n"
          ]
        }
      ]
    },
    {
      "cell_type": "markdown",
      "source": [
        "La estimación puntual de la media poblacional de la antigüedad es la media de la muestra 9,57 años. El intervalo obtenido para un 95% de confianza es (8,51 ; 10,64). Existe una confianza del 95%  que la verdadera media poblacional de la antigüedad se encuentre en el intervalo construido."
      ],
      "metadata": {
        "id": "SjQ4PvNTEHDW"
      }
    },
    {
      "cell_type": "markdown",
      "source": [
        "**Intervalo de confianza para la varianza y desviación estándar poblacional**\n"
      ],
      "metadata": {
        "id": "iFWzsVquFG-1"
      }
    },
    {
      "cell_type": "code",
      "source": [
        "# Intervalo de confianza para la varianza\n",
        "#Nivel de confianza\n",
        "nivel_conf=0.95\n",
        "# Datos muestrales\n",
        "data=data['ant18']\n",
        "\n",
        "def ic(data,nivel_conf):\n",
        "    n = len(data)\n",
        "    chi_1 = st.chi2.ppf(nivel_conf+(1-nivel_conf)/2,n-1)\n",
        "    chi_2 = st.chi2.ppf(1-(nivel_conf+(1-nivel_conf)/2),n-1)\n",
        "    data_mean = np.mean(data)\n",
        "    data_sd = stdev( data, data_mean )\n",
        "    var=data_sd**2\n",
        "    lim_inf=(n-1)*var/chi_1\n",
        "    lim_sup=(n-1)*var/chi_2\n",
        "    return lim_inf,lim_sup,data_mean,var,n\n",
        "\n",
        "lim_inf,lim_sup,data_mean,var,n = ic(data,nivel_conf)\n",
        "print(\"Media Muestral =\",data_mean)\n",
        "print(\"Varianza Muestral =\",var)\n",
        "print(\"n Muestral\")\n",
        "print(\"Intervalo de confianza: \",\"[\",lim_inf,\";\",lim_sup,\"]\")\n"
      ],
      "metadata": {
        "colab": {
          "base_uri": "https://localhost:8080/"
        },
        "id": "oHiijCL5FkYM",
        "outputId": "7d749b18-7579-48b8-c742-6d6ae9c0c274"
      },
      "execution_count": null,
      "outputs": [
        {
          "output_type": "stream",
          "name": "stdout",
          "text": [
            "Media Muestral = 9.136\n",
            "Varianza Muestral = 73.52359839357432\n",
            "n Muestral\n",
            "Intervalo de confianza:  [ 62.14299015837761 ; 88.36220481070514 ]\n"
          ]
        }
      ]
    },
    {
      "cell_type": "code",
      "source": [
        "#Intervalo de confianza para la desviación estándar\n",
        "print(\"Intervalo de confianza para la desviaciòn estandar es:\",\"[\", np.sqrt(lim_inf),\";\",np.sqrt(lim_sup),\"]\")"
      ],
      "metadata": {
        "colab": {
          "base_uri": "https://localhost:8080/"
        },
        "id": "LQlW4Zf-Fj-p",
        "outputId": "eb294628-0d10-4178-89e9-1c1c5620cee7"
      },
      "execution_count": null,
      "outputs": [
        {
          "output_type": "stream",
          "name": "stdout",
          "text": [
            "Intervalo de confianza para la desviaciòn estandar es: [ 7.883082528958935 ; 9.400117276433583 ]\n"
          ]
        }
      ]
    },
    {
      "cell_type": "markdown",
      "source": [
        "Existe una confianza del 95% de que la desviación estándar poblacional de la antigüedad se encuentre en el intervalo (7,88 ; 9,40)."
      ],
      "metadata": {
        "id": "s4LyLz_7lxQn"
      }
    },
    {
      "cell_type": "markdown",
      "source": [
        "**Intervalo de confianza para la proporción poblacional**"
      ],
      "metadata": {
        "id": "0-vOrTYPGYBJ"
      }
    },
    {
      "cell_type": "markdown",
      "source": [
        "Se desea determinar la proporción de clientes que usó servicios en línea en el 2018 (1= usa banca online; 0=no usa banca online)\n"
      ],
      "metadata": {
        "id": "iBn9l5hrGX0m"
      }
    },
    {
      "cell_type": "code",
      "source": [
        "#Calculo el desvío estándar de la proporción\n",
        "data_p = data[data.online18 == 1].online18.count()/len(data['online18'])\n",
        "n = len(data)\n",
        "sigma =((data_p*(1-data_p))/n)**0.5\n",
        "sigma"
      ],
      "metadata": {
        "id": "grjIJTPnnu-h",
        "colab": {
          "base_uri": "https://localhost:8080/"
        },
        "outputId": "c802ece8-f735-4ddd-fb96-46031f1b9c7e"
      },
      "execution_count": null,
      "outputs": [
        {
          "output_type": "execute_result",
          "data": {
            "text/plain": [
              "0.0315974682530104"
            ]
          },
          "metadata": {},
          "execution_count": 80
        }
      ]
    },
    {
      "cell_type": "code",
      "source": [
        "# Nivel de confianza\n",
        "nivel_conf=0.95\n",
        "# proporcion\n",
        "p=data[data.online18 == 1].online18.count()/len(data['online18'])\n",
        "# Datos muestrales\n",
        "data1=data['online18']\n",
        "\n",
        "def ic(data1,p,nivel_conf):\n",
        "    n = len(data)\n",
        "    z1 = st.norm.ppf((1-nivel_conf)/2)\n",
        "    z2 = st.norm.ppf(nivel_conf+(1-nivel_conf)/2)\n",
        "    data_p = data[data.online18 == 1].online18.count()/len(data['online18'])\n",
        "    sigma =((data_p*(1-data_p))/n)**0.5\n",
        "    lim_inf=p+(z1*sigma)\n",
        "    lim_sup=p+(z2*sigma)\n",
        "    return lim_inf,lim_sup,z1, z2, data_p,n\n",
        "\n",
        "lim_inf,lim_sup,z1,z2,data_p,n = ic(data,p,nivel_conf)\n",
        "print(\"Prop Muestral =\",data_p)\n",
        "print(\"n muestral =\",n)\n",
        "print(\"z1 =\", z1)\n",
        "print(\"z2 =\", z2)\n",
        "print(\"Intervalo de confianza: \",\"[\",lim_inf,\";\",lim_sup,\"]\")"
      ],
      "metadata": {
        "colab": {
          "base_uri": "https://localhost:8080/"
        },
        "id": "PU_Yzn2qCdRN",
        "outputId": "ab93055a-dddd-427a-a36a-a0606e924e8f"
      },
      "execution_count": null,
      "outputs": [
        {
          "output_type": "stream",
          "name": "stdout",
          "text": [
            "Prop Muestral = 0.48\n",
            "n muestral = 250\n",
            "z1 = -1.959963984540054\n",
            "z2 = 1.959963984540054\n",
            "Intervalo de confianza:  [ 0.41807010022145186 ; 0.5419298997785481 ]\n"
          ]
        }
      ]
    },
    {
      "cell_type": "markdown",
      "source": [
        "Existe una confianza del 95% de que la veradera proporción de clientes que usan banca on line se encuentre en el intervalo (0,42 ; 0,54)."
      ],
      "metadata": {
        "id": "p3XEqERiPFCf"
      }
    }
  ],
  "metadata": {
    "kernelspec": {
      "display_name": "Python 3",
      "language": "python",
      "name": "python3"
    },
    "language_info": {
      "codemirror_mode": {
        "name": "ipython",
        "version": 3
      },
      "file_extension": ".py",
      "mimetype": "text/x-python",
      "name": "python",
      "nbconvert_exporter": "python",
      "pygments_lexer": "ipython3",
      "version": "3.8.5"
    },
    "colab": {
      "provenance": []
    }
  },
  "nbformat": 4,
  "nbformat_minor": 0
}