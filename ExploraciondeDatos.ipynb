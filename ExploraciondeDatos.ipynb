{
  "cells": [
    {
      "cell_type": "markdown",
      "source": [
        "# Estadística Descriptiva"
      ],
      "metadata": {
        "id": "k8RrLYh90jsM"
      }
    },
    {
      "cell_type": "markdown",
      "source": [
        "# Base de datos"
      ],
      "metadata": {
        "id": "YFQ1CZCS0wWz"
      }
    },
    {
      "cell_type": "markdown",
      "source": [
        "Trabajaremos con la Base de Datos Bancor"
      ],
      "metadata": {
        "id": "cUr2ZMjFr8UL"
      }
    },
    {
      "cell_type": "code",
      "source": [
        "from google.colab import drive\n",
        "drive.mount('/content/drive')"
      ],
      "metadata": {
        "id": "Z-zXmAykYG7W",
        "colab": {
          "base_uri": "https://localhost:8080/"
        },
        "outputId": "5c3aa89f-5e0b-4b74-e301-d22cdc9f8aa2"
      },
      "execution_count": null,
      "outputs": [
        {
          "output_type": "stream",
          "name": "stdout",
          "text": [
            "Mounted at /content/drive\n"
          ]
        }
      ]
    },
    {
      "cell_type": "code",
      "source": [
        "#Importo las librerias que voy a necesitar\n",
        "import pandas as pd\n",
        "import numpy as np\n",
        "import matplotlib.pyplot as plt\n",
        "import seaborn as sn\n",
        "import statistics as stat\n",
        "import scipy.stats as st\n",
        "from statistics import stdev\n",
        "from scipy.stats import t"
      ],
      "metadata": {
        "id": "uO1WggVo0-3V"
      },
      "execution_count": null,
      "outputs": []
    },
    {
      "cell_type": "code",
      "source": [
        "#Abro la base del Drive\n",
        "df = pd.read_excel(\"/content/drive/MyDrive/Bancor/Base de datos Bancor.xlsx\") # cambiar el link por el propio\n",
        "#Visualizo los datos\n",
        "df.head()"
      ],
      "metadata": {
        "id": "hAxjHyVfYeHU",
        "colab": {
          "base_uri": "https://localhost:8080/",
          "height": 386
        },
        "outputId": "b7a955b2-b95f-4aab-8627-2cfa47aa00bf"
      },
      "execution_count": null,
      "outputs": [
        {
          "output_type": "execute_result",
          "data": {
            "text/plain": [
              "   idFacu  TIENE_TARJETA_VISA  ANTIGUEDAD_CORDOBESA  \\\n",
              "0       1                   0                     0   \n",
              "1       2                   0                     0   \n",
              "2       4                   0                    78   \n",
              "3       5                   0                   114   \n",
              "4       6                   0                   102   \n",
              "\n",
              "   CORDOBESA_MONTO_SALDO_TOTAL  CORDOBESA_MONTO_SALDO_RESUMEN  \\\n",
              "0                     0.000000                       0.000000   \n",
              "1                     0.000000                       0.000000   \n",
              "2                  1465.534634                    1465.534634   \n",
              "3                     0.000000                       0.000000   \n",
              "4                 31104.196271                    8184.041677   \n",
              "\n",
              "   TIENE_TARJETA_CORDOBESA  SUM_CONSUMOS_TC_ULT_6M  MOB_TARJETAS_DE_CREDITO  \\\n",
              "0                        0                0.000000                        0   \n",
              "1                        0                0.000000                      115   \n",
              "2                        1             9209.702008                       78   \n",
              "3                        1                0.000000                      114   \n",
              "4                        1            50443.631583                      102   \n",
              "\n",
              "   CANT_TARJETAS_CREDITO  EDAD  ... peor_sit_no_bancor_6meses max_mora_pp  \\\n",
              "0                      0    74  ...                         0           0   \n",
              "1                      0    78  ...                         0           0   \n",
              "2                      1    84  ...                         1           0   \n",
              "3                      1    83  ...                         0           0   \n",
              "4                      1    75  ...                         1           0   \n",
              "\n",
              "   max_mora_visa  max_mora_cordobesa  max_mora_prod_activos         SEGMENTO  \\\n",
              "0              0                   0                      0  JUBILADO NACION   \n",
              "1              0                   0                      0  JUBILADO NACION   \n",
              "2              0                   0                      0  JUBILADO NACION   \n",
              "3              0                   0                      0  JUBILADO NACION   \n",
              "4              0                   0                      0  JUBILADO NACION   \n",
              "\n",
              "   SITUACION_BANCOR2  SITUACION_NO_BANCOR2  target  dirty  \n",
              "0                  1                     0       0      0  \n",
              "1                  0                     0       0      0  \n",
              "2                  1                     1       0      0  \n",
              "3                  0                     0       0      0  \n",
              "4                  1                     1       0      0  \n",
              "\n",
              "[5 rows x 42 columns]"
            ],
            "text/html": [
              "\n",
              "  <div id=\"df-94e93adb-1133-44d3-845a-ed2f3660eb0e\">\n",
              "    <div class=\"colab-df-container\">\n",
              "      <div>\n",
              "<style scoped>\n",
              "    .dataframe tbody tr th:only-of-type {\n",
              "        vertical-align: middle;\n",
              "    }\n",
              "\n",
              "    .dataframe tbody tr th {\n",
              "        vertical-align: top;\n",
              "    }\n",
              "\n",
              "    .dataframe thead th {\n",
              "        text-align: right;\n",
              "    }\n",
              "</style>\n",
              "<table border=\"1\" class=\"dataframe\">\n",
              "  <thead>\n",
              "    <tr style=\"text-align: right;\">\n",
              "      <th></th>\n",
              "      <th>idFacu</th>\n",
              "      <th>TIENE_TARJETA_VISA</th>\n",
              "      <th>ANTIGUEDAD_CORDOBESA</th>\n",
              "      <th>CORDOBESA_MONTO_SALDO_TOTAL</th>\n",
              "      <th>CORDOBESA_MONTO_SALDO_RESUMEN</th>\n",
              "      <th>TIENE_TARJETA_CORDOBESA</th>\n",
              "      <th>SUM_CONSUMOS_TC_ULT_6M</th>\n",
              "      <th>MOB_TARJETAS_DE_CREDITO</th>\n",
              "      <th>CANT_TARJETAS_CREDITO</th>\n",
              "      <th>EDAD</th>\n",
              "      <th>...</th>\n",
              "      <th>peor_sit_no_bancor_6meses</th>\n",
              "      <th>max_mora_pp</th>\n",
              "      <th>max_mora_visa</th>\n",
              "      <th>max_mora_cordobesa</th>\n",
              "      <th>max_mora_prod_activos</th>\n",
              "      <th>SEGMENTO</th>\n",
              "      <th>SITUACION_BANCOR2</th>\n",
              "      <th>SITUACION_NO_BANCOR2</th>\n",
              "      <th>target</th>\n",
              "      <th>dirty</th>\n",
              "    </tr>\n",
              "  </thead>\n",
              "  <tbody>\n",
              "    <tr>\n",
              "      <th>0</th>\n",
              "      <td>1</td>\n",
              "      <td>0</td>\n",
              "      <td>0</td>\n",
              "      <td>0.000000</td>\n",
              "      <td>0.000000</td>\n",
              "      <td>0</td>\n",
              "      <td>0.000000</td>\n",
              "      <td>0</td>\n",
              "      <td>0</td>\n",
              "      <td>74</td>\n",
              "      <td>...</td>\n",
              "      <td>0</td>\n",
              "      <td>0</td>\n",
              "      <td>0</td>\n",
              "      <td>0</td>\n",
              "      <td>0</td>\n",
              "      <td>JUBILADO NACION</td>\n",
              "      <td>1</td>\n",
              "      <td>0</td>\n",
              "      <td>0</td>\n",
              "      <td>0</td>\n",
              "    </tr>\n",
              "    <tr>\n",
              "      <th>1</th>\n",
              "      <td>2</td>\n",
              "      <td>0</td>\n",
              "      <td>0</td>\n",
              "      <td>0.000000</td>\n",
              "      <td>0.000000</td>\n",
              "      <td>0</td>\n",
              "      <td>0.000000</td>\n",
              "      <td>115</td>\n",
              "      <td>0</td>\n",
              "      <td>78</td>\n",
              "      <td>...</td>\n",
              "      <td>0</td>\n",
              "      <td>0</td>\n",
              "      <td>0</td>\n",
              "      <td>0</td>\n",
              "      <td>0</td>\n",
              "      <td>JUBILADO NACION</td>\n",
              "      <td>0</td>\n",
              "      <td>0</td>\n",
              "      <td>0</td>\n",
              "      <td>0</td>\n",
              "    </tr>\n",
              "    <tr>\n",
              "      <th>2</th>\n",
              "      <td>4</td>\n",
              "      <td>0</td>\n",
              "      <td>78</td>\n",
              "      <td>1465.534634</td>\n",
              "      <td>1465.534634</td>\n",
              "      <td>1</td>\n",
              "      <td>9209.702008</td>\n",
              "      <td>78</td>\n",
              "      <td>1</td>\n",
              "      <td>84</td>\n",
              "      <td>...</td>\n",
              "      <td>1</td>\n",
              "      <td>0</td>\n",
              "      <td>0</td>\n",
              "      <td>0</td>\n",
              "      <td>0</td>\n",
              "      <td>JUBILADO NACION</td>\n",
              "      <td>1</td>\n",
              "      <td>1</td>\n",
              "      <td>0</td>\n",
              "      <td>0</td>\n",
              "    </tr>\n",
              "    <tr>\n",
              "      <th>3</th>\n",
              "      <td>5</td>\n",
              "      <td>0</td>\n",
              "      <td>114</td>\n",
              "      <td>0.000000</td>\n",
              "      <td>0.000000</td>\n",
              "      <td>1</td>\n",
              "      <td>0.000000</td>\n",
              "      <td>114</td>\n",
              "      <td>1</td>\n",
              "      <td>83</td>\n",
              "      <td>...</td>\n",
              "      <td>0</td>\n",
              "      <td>0</td>\n",
              "      <td>0</td>\n",
              "      <td>0</td>\n",
              "      <td>0</td>\n",
              "      <td>JUBILADO NACION</td>\n",
              "      <td>0</td>\n",
              "      <td>0</td>\n",
              "      <td>0</td>\n",
              "      <td>0</td>\n",
              "    </tr>\n",
              "    <tr>\n",
              "      <th>4</th>\n",
              "      <td>6</td>\n",
              "      <td>0</td>\n",
              "      <td>102</td>\n",
              "      <td>31104.196271</td>\n",
              "      <td>8184.041677</td>\n",
              "      <td>1</td>\n",
              "      <td>50443.631583</td>\n",
              "      <td>102</td>\n",
              "      <td>1</td>\n",
              "      <td>75</td>\n",
              "      <td>...</td>\n",
              "      <td>1</td>\n",
              "      <td>0</td>\n",
              "      <td>0</td>\n",
              "      <td>0</td>\n",
              "      <td>0</td>\n",
              "      <td>JUBILADO NACION</td>\n",
              "      <td>1</td>\n",
              "      <td>1</td>\n",
              "      <td>0</td>\n",
              "      <td>0</td>\n",
              "    </tr>\n",
              "  </tbody>\n",
              "</table>\n",
              "<p>5 rows × 42 columns</p>\n",
              "</div>\n",
              "      <button class=\"colab-df-convert\" onclick=\"convertToInteractive('df-94e93adb-1133-44d3-845a-ed2f3660eb0e')\"\n",
              "              title=\"Convert this dataframe to an interactive table.\"\n",
              "              style=\"display:none;\">\n",
              "        \n",
              "  <svg xmlns=\"http://www.w3.org/2000/svg\" height=\"24px\"viewBox=\"0 0 24 24\"\n",
              "       width=\"24px\">\n",
              "    <path d=\"M0 0h24v24H0V0z\" fill=\"none\"/>\n",
              "    <path d=\"M18.56 5.44l.94 2.06.94-2.06 2.06-.94-2.06-.94-.94-2.06-.94 2.06-2.06.94zm-11 1L8.5 8.5l.94-2.06 2.06-.94-2.06-.94L8.5 2.5l-.94 2.06-2.06.94zm10 10l.94 2.06.94-2.06 2.06-.94-2.06-.94-.94-2.06-.94 2.06-2.06.94z\"/><path d=\"M17.41 7.96l-1.37-1.37c-.4-.4-.92-.59-1.43-.59-.52 0-1.04.2-1.43.59L10.3 9.45l-7.72 7.72c-.78.78-.78 2.05 0 2.83L4 21.41c.39.39.9.59 1.41.59.51 0 1.02-.2 1.41-.59l7.78-7.78 2.81-2.81c.8-.78.8-2.07 0-2.86zM5.41 20L4 18.59l7.72-7.72 1.47 1.35L5.41 20z\"/>\n",
              "  </svg>\n",
              "      </button>\n",
              "      \n",
              "  <style>\n",
              "    .colab-df-container {\n",
              "      display:flex;\n",
              "      flex-wrap:wrap;\n",
              "      gap: 12px;\n",
              "    }\n",
              "\n",
              "    .colab-df-convert {\n",
              "      background-color: #E8F0FE;\n",
              "      border: none;\n",
              "      border-radius: 50%;\n",
              "      cursor: pointer;\n",
              "      display: none;\n",
              "      fill: #1967D2;\n",
              "      height: 32px;\n",
              "      padding: 0 0 0 0;\n",
              "      width: 32px;\n",
              "    }\n",
              "\n",
              "    .colab-df-convert:hover {\n",
              "      background-color: #E2EBFA;\n",
              "      box-shadow: 0px 1px 2px rgba(60, 64, 67, 0.3), 0px 1px 3px 1px rgba(60, 64, 67, 0.15);\n",
              "      fill: #174EA6;\n",
              "    }\n",
              "\n",
              "    [theme=dark] .colab-df-convert {\n",
              "      background-color: #3B4455;\n",
              "      fill: #D2E3FC;\n",
              "    }\n",
              "\n",
              "    [theme=dark] .colab-df-convert:hover {\n",
              "      background-color: #434B5C;\n",
              "      box-shadow: 0px 1px 3px 1px rgba(0, 0, 0, 0.15);\n",
              "      filter: drop-shadow(0px 1px 2px rgba(0, 0, 0, 0.3));\n",
              "      fill: #FFFFFF;\n",
              "    }\n",
              "  </style>\n",
              "\n",
              "      <script>\n",
              "        const buttonEl =\n",
              "          document.querySelector('#df-94e93adb-1133-44d3-845a-ed2f3660eb0e button.colab-df-convert');\n",
              "        buttonEl.style.display =\n",
              "          google.colab.kernel.accessAllowed ? 'block' : 'none';\n",
              "\n",
              "        async function convertToInteractive(key) {\n",
              "          const element = document.querySelector('#df-94e93adb-1133-44d3-845a-ed2f3660eb0e');\n",
              "          const dataTable =\n",
              "            await google.colab.kernel.invokeFunction('convertToInteractive',\n",
              "                                                     [key], {});\n",
              "          if (!dataTable) return;\n",
              "\n",
              "          const docLinkHtml = 'Like what you see? Visit the ' +\n",
              "            '<a target=\"_blank\" href=https://colab.research.google.com/notebooks/data_table.ipynb>data table notebook</a>'\n",
              "            + ' to learn more about interactive tables.';\n",
              "          element.innerHTML = '';\n",
              "          dataTable['output_type'] = 'display_data';\n",
              "          await google.colab.output.renderOutput(dataTable, element);\n",
              "          const docLink = document.createElement('div');\n",
              "          docLink.innerHTML = docLinkHtml;\n",
              "          element.appendChild(docLink);\n",
              "        }\n",
              "      </script>\n",
              "    </div>\n",
              "  </div>\n",
              "  "
            ]
          },
          "metadata": {},
          "execution_count": 76
        }
      ]
    },
    {
      "cell_type": "markdown",
      "source": [
        "# Exploración de datos"
      ],
      "metadata": {
        "id": "S1l1ut_T0pQM"
      }
    },
    {
      "cell_type": "markdown",
      "source": [
        "**Clasificación de variables**"
      ],
      "metadata": {
        "id": "a3Qwaotk9tTk"
      }
    },
    {
      "cell_type": "markdown",
      "source": [
        "Explorar los datos es una tarea muy importante, ya que es necesario conocer la base de datos con la que se esta trabajando.\n",
        "Para ello es necesario saber que variables tengo, cuales son su tipo, que valores o categorias pueden tener.\n",
        "Tambien es necesario tener en cuenta la cantidad de filas que tiene, si existen registros nulos y ver que se hace con los mismos."
      ],
      "metadata": {
        "id": "2Nilr8863bDU"
      }
    },
    {
      "cell_type": "markdown",
      "source": [
        "![Tipo de variables.png](data:image/png;base64,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)"
      ],
      "metadata": {
        "id": "8ZBcuqMb1j_c"
      }
    },
    {
      "cell_type": "markdown",
      "source": [
        "En python, los tipos de datos se sintetizan en:\n",
        "  \n",
        "1.   Numéricos\n",
        "\n",
        "*   float: numeros con decimales\n",
        "*   Integer: numeros enteros\n",
        "\n",
        "2.   Categóricos\n",
        "\n",
        "*   String: cadenas\n"
      ],
      "metadata": {
        "id": "XvnYblkV75E2"
      }
    },
    {
      "cell_type": "code",
      "execution_count": null,
      "metadata": {
        "id": "rQ2PP57X0haN",
        "outputId": "7d110635-eb9c-4d2b-fb59-013763b259ca",
        "colab": {
          "base_uri": "https://localhost:8080/",
          "height": 630
        }
      },
      "outputs": [
        {
          "output_type": "execute_result",
          "data": {
            "text/plain": [
              "   idFacu  TIENE_TARJETA_VISA  ANTIGUEDAD_CORDOBESA  \\\n",
              "0       1                   0                     0   \n",
              "1       2                   0                     0   \n",
              "2       4                   0                    78   \n",
              "3       5                   0                   114   \n",
              "4       6                   0                   102   \n",
              "5       9                   0                     0   \n",
              "6      10                   0                     1   \n",
              "7      11                   0                    51   \n",
              "8      12                   0                   114   \n",
              "9      13                   0                    69   \n",
              "\n",
              "   CORDOBESA_MONTO_SALDO_TOTAL  CORDOBESA_MONTO_SALDO_RESUMEN  \\\n",
              "0                     0.000000                       0.000000   \n",
              "1                     0.000000                       0.000000   \n",
              "2                  1465.534634                    1465.534634   \n",
              "3                     0.000000                       0.000000   \n",
              "4                 31104.196271                    8184.041677   \n",
              "5                     0.000000                       0.000000   \n",
              "6                     0.000000                       0.000000   \n",
              "7                 30274.746104                    3281.897991   \n",
              "8                  2883.858113                    2883.858113   \n",
              "9                     0.000000                       0.000000   \n",
              "\n",
              "   TIENE_TARJETA_CORDOBESA  SUM_CONSUMOS_TC_ULT_6M  MOB_TARJETAS_DE_CREDITO  \\\n",
              "0                        0                0.000000                        0   \n",
              "1                        0                0.000000                      115   \n",
              "2                        1             9209.702008                       78   \n",
              "3                        1                0.000000                      114   \n",
              "4                        1            50443.631583                      102   \n",
              "5                        0                0.000000                        0   \n",
              "6                        1                0.000000                        1   \n",
              "7                        1            24714.051315                       51   \n",
              "8                        1            15586.734681                      114   \n",
              "9                        1             1287.940674                       69   \n",
              "\n",
              "   CANT_TARJETAS_CREDITO  EDAD  ... peor_sit_no_bancor_6meses max_mora_pp  \\\n",
              "0                      0    74  ...                         0           0   \n",
              "1                      0    78  ...                         0           0   \n",
              "2                      1    84  ...                         1           0   \n",
              "3                      1    83  ...                         0           0   \n",
              "4                      1    75  ...                         1           0   \n",
              "5                      0    72  ...                         1           0   \n",
              "6                      0    74  ...                         0           0   \n",
              "7                      1    79  ...                         0           0   \n",
              "8                      1    85  ...                         0           0   \n",
              "9                      1    71  ...                         1           0   \n",
              "\n",
              "   max_mora_visa  max_mora_cordobesa  max_mora_prod_activos         SEGMENTO  \\\n",
              "0              0                   0                      0  JUBILADO NACION   \n",
              "1              0                   0                      0  JUBILADO NACION   \n",
              "2              0                   0                      0  JUBILADO NACION   \n",
              "3              0                   0                      0  JUBILADO NACION   \n",
              "4              0                   0                      0  JUBILADO NACION   \n",
              "5              0                   0                      0  JUBILADO NACION   \n",
              "6              0                   0                      0  JUBILADO NACION   \n",
              "7              0                   0                      0  JUBILADO NACION   \n",
              "8              0                   0                      0  JUBILADO NACION   \n",
              "9              0                   0                      0  JUBILADO NACION   \n",
              "\n",
              "   SITUACION_BANCOR2  SITUACION_NO_BANCOR2  target  dirty  \n",
              "0                  1                     0       0      0  \n",
              "1                  0                     0       0      0  \n",
              "2                  1                     1       0      0  \n",
              "3                  0                     0       0      0  \n",
              "4                  1                     1       0      0  \n",
              "5                  1                     1       0      0  \n",
              "6                  1                     0       0      0  \n",
              "7                  1                     0       0      0  \n",
              "8                  1                     0       0      0  \n",
              "9                  0                     1       0      0  \n",
              "\n",
              "[10 rows x 42 columns]"
            ],
            "text/html": [
              "\n",
              "  <div id=\"df-d1b6e484-fa06-4f3d-89fb-c7428cb7dc99\">\n",
              "    <div class=\"colab-df-container\">\n",
              "      <div>\n",
              "<style scoped>\n",
              "    .dataframe tbody tr th:only-of-type {\n",
              "        vertical-align: middle;\n",
              "    }\n",
              "\n",
              "    .dataframe tbody tr th {\n",
              "        vertical-align: top;\n",
              "    }\n",
              "\n",
              "    .dataframe thead th {\n",
              "        text-align: right;\n",
              "    }\n",
              "</style>\n",
              "<table border=\"1\" class=\"dataframe\">\n",
              "  <thead>\n",
              "    <tr style=\"text-align: right;\">\n",
              "      <th></th>\n",
              "      <th>idFacu</th>\n",
              "      <th>TIENE_TARJETA_VISA</th>\n",
              "      <th>ANTIGUEDAD_CORDOBESA</th>\n",
              "      <th>CORDOBESA_MONTO_SALDO_TOTAL</th>\n",
              "      <th>CORDOBESA_MONTO_SALDO_RESUMEN</th>\n",
              "      <th>TIENE_TARJETA_CORDOBESA</th>\n",
              "      <th>SUM_CONSUMOS_TC_ULT_6M</th>\n",
              "      <th>MOB_TARJETAS_DE_CREDITO</th>\n",
              "      <th>CANT_TARJETAS_CREDITO</th>\n",
              "      <th>EDAD</th>\n",
              "      <th>...</th>\n",
              "      <th>peor_sit_no_bancor_6meses</th>\n",
              "      <th>max_mora_pp</th>\n",
              "      <th>max_mora_visa</th>\n",
              "      <th>max_mora_cordobesa</th>\n",
              "      <th>max_mora_prod_activos</th>\n",
              "      <th>SEGMENTO</th>\n",
              "      <th>SITUACION_BANCOR2</th>\n",
              "      <th>SITUACION_NO_BANCOR2</th>\n",
              "      <th>target</th>\n",
              "      <th>dirty</th>\n",
              "    </tr>\n",
              "  </thead>\n",
              "  <tbody>\n",
              "    <tr>\n",
              "      <th>0</th>\n",
              "      <td>1</td>\n",
              "      <td>0</td>\n",
              "      <td>0</td>\n",
              "      <td>0.000000</td>\n",
              "      <td>0.000000</td>\n",
              "      <td>0</td>\n",
              "      <td>0.000000</td>\n",
              "      <td>0</td>\n",
              "      <td>0</td>\n",
              "      <td>74</td>\n",
              "      <td>...</td>\n",
              "      <td>0</td>\n",
              "      <td>0</td>\n",
              "      <td>0</td>\n",
              "      <td>0</td>\n",
              "      <td>0</td>\n",
              "      <td>JUBILADO NACION</td>\n",
              "      <td>1</td>\n",
              "      <td>0</td>\n",
              "      <td>0</td>\n",
              "      <td>0</td>\n",
              "    </tr>\n",
              "    <tr>\n",
              "      <th>1</th>\n",
              "      <td>2</td>\n",
              "      <td>0</td>\n",
              "      <td>0</td>\n",
              "      <td>0.000000</td>\n",
              "      <td>0.000000</td>\n",
              "      <td>0</td>\n",
              "      <td>0.000000</td>\n",
              "      <td>115</td>\n",
              "      <td>0</td>\n",
              "      <td>78</td>\n",
              "      <td>...</td>\n",
              "      <td>0</td>\n",
              "      <td>0</td>\n",
              "      <td>0</td>\n",
              "      <td>0</td>\n",
              "      <td>0</td>\n",
              "      <td>JUBILADO NACION</td>\n",
              "      <td>0</td>\n",
              "      <td>0</td>\n",
              "      <td>0</td>\n",
              "      <td>0</td>\n",
              "    </tr>\n",
              "    <tr>\n",
              "      <th>2</th>\n",
              "      <td>4</td>\n",
              "      <td>0</td>\n",
              "      <td>78</td>\n",
              "      <td>1465.534634</td>\n",
              "      <td>1465.534634</td>\n",
              "      <td>1</td>\n",
              "      <td>9209.702008</td>\n",
              "      <td>78</td>\n",
              "      <td>1</td>\n",
              "      <td>84</td>\n",
              "      <td>...</td>\n",
              "      <td>1</td>\n",
              "      <td>0</td>\n",
              "      <td>0</td>\n",
              "      <td>0</td>\n",
              "      <td>0</td>\n",
              "      <td>JUBILADO NACION</td>\n",
              "      <td>1</td>\n",
              "      <td>1</td>\n",
              "      <td>0</td>\n",
              "      <td>0</td>\n",
              "    </tr>\n",
              "    <tr>\n",
              "      <th>3</th>\n",
              "      <td>5</td>\n",
              "      <td>0</td>\n",
              "      <td>114</td>\n",
              "      <td>0.000000</td>\n",
              "      <td>0.000000</td>\n",
              "      <td>1</td>\n",
              "      <td>0.000000</td>\n",
              "      <td>114</td>\n",
              "      <td>1</td>\n",
              "      <td>83</td>\n",
              "      <td>...</td>\n",
              "      <td>0</td>\n",
              "      <td>0</td>\n",
              "      <td>0</td>\n",
              "      <td>0</td>\n",
              "      <td>0</td>\n",
              "      <td>JUBILADO NACION</td>\n",
              "      <td>0</td>\n",
              "      <td>0</td>\n",
              "      <td>0</td>\n",
              "      <td>0</td>\n",
              "    </tr>\n",
              "    <tr>\n",
              "      <th>4</th>\n",
              "      <td>6</td>\n",
              "      <td>0</td>\n",
              "      <td>102</td>\n",
              "      <td>31104.196271</td>\n",
              "      <td>8184.041677</td>\n",
              "      <td>1</td>\n",
              "      <td>50443.631583</td>\n",
              "      <td>102</td>\n",
              "      <td>1</td>\n",
              "      <td>75</td>\n",
              "      <td>...</td>\n",
              "      <td>1</td>\n",
              "      <td>0</td>\n",
              "      <td>0</td>\n",
              "      <td>0</td>\n",
              "      <td>0</td>\n",
              "      <td>JUBILADO NACION</td>\n",
              "      <td>1</td>\n",
              "      <td>1</td>\n",
              "      <td>0</td>\n",
              "      <td>0</td>\n",
              "    </tr>\n",
              "    <tr>\n",
              "      <th>5</th>\n",
              "      <td>9</td>\n",
              "      <td>0</td>\n",
              "      <td>0</td>\n",
              "      <td>0.000000</td>\n",
              "      <td>0.000000</td>\n",
              "      <td>0</td>\n",
              "      <td>0.000000</td>\n",
              "      <td>0</td>\n",
              "      <td>0</td>\n",
              "      <td>72</td>\n",
              "      <td>...</td>\n",
              "      <td>1</td>\n",
              "      <td>0</td>\n",
              "      <td>0</td>\n",
              "      <td>0</td>\n",
              "      <td>0</td>\n",
              "      <td>JUBILADO NACION</td>\n",
              "      <td>1</td>\n",
              "      <td>1</td>\n",
              "      <td>0</td>\n",
              "      <td>0</td>\n",
              "    </tr>\n",
              "    <tr>\n",
              "      <th>6</th>\n",
              "      <td>10</td>\n",
              "      <td>0</td>\n",
              "      <td>1</td>\n",
              "      <td>0.000000</td>\n",
              "      <td>0.000000</td>\n",
              "      <td>1</td>\n",
              "      <td>0.000000</td>\n",
              "      <td>1</td>\n",
              "      <td>0</td>\n",
              "      <td>74</td>\n",
              "      <td>...</td>\n",
              "      <td>0</td>\n",
              "      <td>0</td>\n",
              "      <td>0</td>\n",
              "      <td>0</td>\n",
              "      <td>0</td>\n",
              "      <td>JUBILADO NACION</td>\n",
              "      <td>1</td>\n",
              "      <td>0</td>\n",
              "      <td>0</td>\n",
              "      <td>0</td>\n",
              "    </tr>\n",
              "    <tr>\n",
              "      <th>7</th>\n",
              "      <td>11</td>\n",
              "      <td>0</td>\n",
              "      <td>51</td>\n",
              "      <td>30274.746104</td>\n",
              "      <td>3281.897991</td>\n",
              "      <td>1</td>\n",
              "      <td>24714.051315</td>\n",
              "      <td>51</td>\n",
              "      <td>1</td>\n",
              "      <td>79</td>\n",
              "      <td>...</td>\n",
              "      <td>0</td>\n",
              "      <td>0</td>\n",
              "      <td>0</td>\n",
              "      <td>0</td>\n",
              "      <td>0</td>\n",
              "      <td>JUBILADO NACION</td>\n",
              "      <td>1</td>\n",
              "      <td>0</td>\n",
              "      <td>0</td>\n",
              "      <td>0</td>\n",
              "    </tr>\n",
              "    <tr>\n",
              "      <th>8</th>\n",
              "      <td>12</td>\n",
              "      <td>0</td>\n",
              "      <td>114</td>\n",
              "      <td>2883.858113</td>\n",
              "      <td>2883.858113</td>\n",
              "      <td>1</td>\n",
              "      <td>15586.734681</td>\n",
              "      <td>114</td>\n",
              "      <td>1</td>\n",
              "      <td>85</td>\n",
              "      <td>...</td>\n",
              "      <td>0</td>\n",
              "      <td>0</td>\n",
              "      <td>0</td>\n",
              "      <td>0</td>\n",
              "      <td>0</td>\n",
              "      <td>JUBILADO NACION</td>\n",
              "      <td>1</td>\n",
              "      <td>0</td>\n",
              "      <td>0</td>\n",
              "      <td>0</td>\n",
              "    </tr>\n",
              "    <tr>\n",
              "      <th>9</th>\n",
              "      <td>13</td>\n",
              "      <td>0</td>\n",
              "      <td>69</td>\n",
              "      <td>0.000000</td>\n",
              "      <td>0.000000</td>\n",
              "      <td>1</td>\n",
              "      <td>1287.940674</td>\n",
              "      <td>69</td>\n",
              "      <td>1</td>\n",
              "      <td>71</td>\n",
              "      <td>...</td>\n",
              "      <td>1</td>\n",
              "      <td>0</td>\n",
              "      <td>0</td>\n",
              "      <td>0</td>\n",
              "      <td>0</td>\n",
              "      <td>JUBILADO NACION</td>\n",
              "      <td>0</td>\n",
              "      <td>1</td>\n",
              "      <td>0</td>\n",
              "      <td>0</td>\n",
              "    </tr>\n",
              "  </tbody>\n",
              "</table>\n",
              "<p>10 rows × 42 columns</p>\n",
              "</div>\n",
              "      <button class=\"colab-df-convert\" onclick=\"convertToInteractive('df-d1b6e484-fa06-4f3d-89fb-c7428cb7dc99')\"\n",
              "              title=\"Convert this dataframe to an interactive table.\"\n",
              "              style=\"display:none;\">\n",
              "        \n",
              "  <svg xmlns=\"http://www.w3.org/2000/svg\" height=\"24px\"viewBox=\"0 0 24 24\"\n",
              "       width=\"24px\">\n",
              "    <path d=\"M0 0h24v24H0V0z\" fill=\"none\"/>\n",
              "    <path d=\"M18.56 5.44l.94 2.06.94-2.06 2.06-.94-2.06-.94-.94-2.06-.94 2.06-2.06.94zm-11 1L8.5 8.5l.94-2.06 2.06-.94-2.06-.94L8.5 2.5l-.94 2.06-2.06.94zm10 10l.94 2.06.94-2.06 2.06-.94-2.06-.94-.94-2.06-.94 2.06-2.06.94z\"/><path d=\"M17.41 7.96l-1.37-1.37c-.4-.4-.92-.59-1.43-.59-.52 0-1.04.2-1.43.59L10.3 9.45l-7.72 7.72c-.78.78-.78 2.05 0 2.83L4 21.41c.39.39.9.59 1.41.59.51 0 1.02-.2 1.41-.59l7.78-7.78 2.81-2.81c.8-.78.8-2.07 0-2.86zM5.41 20L4 18.59l7.72-7.72 1.47 1.35L5.41 20z\"/>\n",
              "  </svg>\n",
              "      </button>\n",
              "      \n",
              "  <style>\n",
              "    .colab-df-container {\n",
              "      display:flex;\n",
              "      flex-wrap:wrap;\n",
              "      gap: 12px;\n",
              "    }\n",
              "\n",
              "    .colab-df-convert {\n",
              "      background-color: #E8F0FE;\n",
              "      border: none;\n",
              "      border-radius: 50%;\n",
              "      cursor: pointer;\n",
              "      display: none;\n",
              "      fill: #1967D2;\n",
              "      height: 32px;\n",
              "      padding: 0 0 0 0;\n",
              "      width: 32px;\n",
              "    }\n",
              "\n",
              "    .colab-df-convert:hover {\n",
              "      background-color: #E2EBFA;\n",
              "      box-shadow: 0px 1px 2px rgba(60, 64, 67, 0.3), 0px 1px 3px 1px rgba(60, 64, 67, 0.15);\n",
              "      fill: #174EA6;\n",
              "    }\n",
              "\n",
              "    [theme=dark] .colab-df-convert {\n",
              "      background-color: #3B4455;\n",
              "      fill: #D2E3FC;\n",
              "    }\n",
              "\n",
              "    [theme=dark] .colab-df-convert:hover {\n",
              "      background-color: #434B5C;\n",
              "      box-shadow: 0px 1px 3px 1px rgba(0, 0, 0, 0.15);\n",
              "      filter: drop-shadow(0px 1px 2px rgba(0, 0, 0, 0.3));\n",
              "      fill: #FFFFFF;\n",
              "    }\n",
              "  </style>\n",
              "\n",
              "      <script>\n",
              "        const buttonEl =\n",
              "          document.querySelector('#df-d1b6e484-fa06-4f3d-89fb-c7428cb7dc99 button.colab-df-convert');\n",
              "        buttonEl.style.display =\n",
              "          google.colab.kernel.accessAllowed ? 'block' : 'none';\n",
              "\n",
              "        async function convertToInteractive(key) {\n",
              "          const element = document.querySelector('#df-d1b6e484-fa06-4f3d-89fb-c7428cb7dc99');\n",
              "          const dataTable =\n",
              "            await google.colab.kernel.invokeFunction('convertToInteractive',\n",
              "                                                     [key], {});\n",
              "          if (!dataTable) return;\n",
              "\n",
              "          const docLinkHtml = 'Like what you see? Visit the ' +\n",
              "            '<a target=\"_blank\" href=https://colab.research.google.com/notebooks/data_table.ipynb>data table notebook</a>'\n",
              "            + ' to learn more about interactive tables.';\n",
              "          element.innerHTML = '';\n",
              "          dataTable['output_type'] = 'display_data';\n",
              "          await google.colab.output.renderOutput(dataTable, element);\n",
              "          const docLink = document.createElement('div');\n",
              "          docLink.innerHTML = docLinkHtml;\n",
              "          element.appendChild(docLink);\n",
              "        }\n",
              "      </script>\n",
              "    </div>\n",
              "  </div>\n",
              "  "
            ]
          },
          "metadata": {},
          "execution_count": 6
        }
      ],
      "source": [
        "# Analizo un poco la base de datos\n",
        "df.head(10) # de forma alternativa podemos ver df.sample(10)"
      ]
    },
    {
      "cell_type": "code",
      "execution_count": null,
      "metadata": {
        "id": "c9sdXndr0haP",
        "outputId": "db8c1610-d283-45bb-85e5-77b986b057ac",
        "colab": {
          "base_uri": "https://localhost:8080/"
        }
      },
      "outputs": [
        {
          "output_type": "execute_result",
          "data": {
            "text/plain": [
              "idFacu                               int64\n",
              "TIENE_TARJETA_VISA                   int64\n",
              "ANTIGUEDAD_CORDOBESA                 int64\n",
              "CORDOBESA_MONTO_SALDO_TOTAL        float64\n",
              "CORDOBESA_MONTO_SALDO_RESUMEN      float64\n",
              "TIENE_TARJETA_CORDOBESA              int64\n",
              "SUM_CONSUMOS_TC_ULT_6M             float64\n",
              "MOB_TARJETAS_DE_CREDITO              int64\n",
              "CANT_TARJETAS_CREDITO                int64\n",
              "EDAD                                 int64\n",
              "ESTADO_CIVIL                        object\n",
              "SEXO                                object\n",
              "ANTIGUEDAD_PRESTAMOS_PERSONALES      int64\n",
              "CANT_PMOS_PERSONALES                 int64\n",
              "CANT_PMOS_HIPOTECARIOS               int64\n",
              "CANT_ACREDITACION_HABER_ULT90D       int64\n",
              "TIENE_CUENTA_BASICA                  int64\n",
              "INGRESOS_NETOS                     float64\n",
              "TIENE_HOME_BANKING_ULT3M             int64\n",
              "CANT_TARJ_DEBITO_TRANSACCIONES       int64\n",
              "CORDOBESA_MAXIMA_MORA_ULT12M         int64\n",
              "ENDEUDAMIENTO                      float64\n",
              "RIESGO_ASOCIADO_LINEA               object\n",
              "SALDO_ACTUAL_REFINAN_VIGENTE       float64\n",
              "CANT_SIT_BANCOR_MAYOR1               int64\n",
              "CANT_SIT_NO_BANCOR_MAYOR1            int64\n",
              "CONSUMO_6M_CORDOBESA               float64\n",
              "ALTA_6M_CORDOBESA                  float64\n",
              "CONSUMO_6M_VISA                    float64\n",
              "ALTA_6M_VISA                       float64\n",
              "peor_sit_bancor_6meses               int64\n",
              "sin_productos_activos_6meses         int64\n",
              "peor_sit_no_bancor_6meses            int64\n",
              "max_mora_pp                          int64\n",
              "max_mora_visa                        int64\n",
              "max_mora_cordobesa                   int64\n",
              "max_mora_prod_activos                int64\n",
              "SEGMENTO                            object\n",
              "SITUACION_BANCOR2                    int64\n",
              "SITUACION_NO_BANCOR2                 int64\n",
              "target                               int64\n",
              "dirty                                int64\n",
              "dtype: object"
            ]
          },
          "metadata": {},
          "execution_count": 7
        }
      ],
      "source": [
        "df.dtypes #filas, columnas"
      ]
    },
    {
      "cell_type": "code",
      "source": [
        "df.info() #otra forma de ver infomación de nuestro dataframe"
      ],
      "metadata": {
        "id": "LJtknxULS7hh",
        "outputId": "b239a644-d095-4f1a-8007-a0accf9244be",
        "colab": {
          "base_uri": "https://localhost:8080/"
        }
      },
      "execution_count": null,
      "outputs": [
        {
          "output_type": "stream",
          "name": "stdout",
          "text": [
            "<class 'pandas.core.frame.DataFrame'>\n",
            "RangeIndex: 10332 entries, 0 to 10331\n",
            "Data columns (total 42 columns):\n",
            " #   Column                           Non-Null Count  Dtype  \n",
            "---  ------                           --------------  -----  \n",
            " 0   idFacu                           10332 non-null  int64  \n",
            " 1   TIENE_TARJETA_VISA               10332 non-null  int64  \n",
            " 2   ANTIGUEDAD_CORDOBESA             10332 non-null  int64  \n",
            " 3   CORDOBESA_MONTO_SALDO_TOTAL      10332 non-null  float64\n",
            " 4   CORDOBESA_MONTO_SALDO_RESUMEN    10332 non-null  float64\n",
            " 5   TIENE_TARJETA_CORDOBESA          10332 non-null  int64  \n",
            " 6   SUM_CONSUMOS_TC_ULT_6M           10332 non-null  float64\n",
            " 7   MOB_TARJETAS_DE_CREDITO          10332 non-null  int64  \n",
            " 8   CANT_TARJETAS_CREDITO            10332 non-null  int64  \n",
            " 9   EDAD                             10332 non-null  int64  \n",
            " 10  ESTADO_CIVIL                     10332 non-null  object \n",
            " 11  SEXO                             10332 non-null  object \n",
            " 12  ANTIGUEDAD_PRESTAMOS_PERSONALES  10332 non-null  int64  \n",
            " 13  CANT_PMOS_PERSONALES             10332 non-null  int64  \n",
            " 14  CANT_PMOS_HIPOTECARIOS           10332 non-null  int64  \n",
            " 15  CANT_ACREDITACION_HABER_ULT90D   10332 non-null  int64  \n",
            " 16  TIENE_CUENTA_BASICA              10332 non-null  int64  \n",
            " 17  INGRESOS_NETOS                   10332 non-null  float64\n",
            " 18  TIENE_HOME_BANKING_ULT3M         10332 non-null  int64  \n",
            " 19  CANT_TARJ_DEBITO_TRANSACCIONES   10332 non-null  int64  \n",
            " 20  CORDOBESA_MAXIMA_MORA_ULT12M     10332 non-null  int64  \n",
            " 21  ENDEUDAMIENTO                    10332 non-null  float64\n",
            " 22  RIESGO_ASOCIADO_LINEA            10332 non-null  object \n",
            " 23  SALDO_ACTUAL_REFINAN_VIGENTE     143 non-null    float64\n",
            " 24  CANT_SIT_BANCOR_MAYOR1           10332 non-null  int64  \n",
            " 25  CANT_SIT_NO_BANCOR_MAYOR1        10332 non-null  int64  \n",
            " 26  CONSUMO_6M_CORDOBESA             10151 non-null  float64\n",
            " 27  ALTA_6M_CORDOBESA                10151 non-null  float64\n",
            " 28  CONSUMO_6M_VISA                  4315 non-null   float64\n",
            " 29  ALTA_6M_VISA                     4315 non-null   float64\n",
            " 30  peor_sit_bancor_6meses           10332 non-null  int64  \n",
            " 31  sin_productos_activos_6meses     10332 non-null  int64  \n",
            " 32  peor_sit_no_bancor_6meses        10332 non-null  int64  \n",
            " 33  max_mora_pp                      10332 non-null  int64  \n",
            " 34  max_mora_visa                    10332 non-null  int64  \n",
            " 35  max_mora_cordobesa               10332 non-null  int64  \n",
            " 36  max_mora_prod_activos            10332 non-null  int64  \n",
            " 37  SEGMENTO                         10332 non-null  object \n",
            " 38  SITUACION_BANCOR2                10332 non-null  int64  \n",
            " 39  SITUACION_NO_BANCOR2             10332 non-null  int64  \n",
            " 40  target                           10332 non-null  int64  \n",
            " 41  dirty                            10332 non-null  int64  \n",
            "dtypes: float64(10), int64(28), object(4)\n",
            "memory usage: 3.3+ MB\n"
          ]
        }
      ]
    },
    {
      "cell_type": "code",
      "execution_count": null,
      "metadata": {
        "id": "0yYSfmUJ0haP"
      },
      "outputs": [],
      "source": [
        "#Podemos necesitar cambiar en algun momento cambiar algun formato y se realiza mediante el comando astype\n",
        "# Convertir el campo record_id de integer a float\n",
        "#df['record_id'] = df['record_id'].astype('float64')\n",
        "#df['record_id'].dtype"
      ]
    },
    {
      "cell_type": "markdown",
      "source": [
        "**Trabajo con valores nulos**"
      ],
      "metadata": {
        "id": "ARt1Uf-G951d"
      }
    },
    {
      "cell_type": "code",
      "execution_count": null,
      "metadata": {
        "id": "1iDlkLNs0haQ",
        "outputId": "37079d32-65d8-486e-c49f-4eb49b6b6757",
        "colab": {
          "base_uri": "https://localhost:8080/"
        }
      },
      "outputs": [
        {
          "output_type": "stream",
          "name": "stdout",
          "text": [
            "idFacu                                 0\n",
            "TIENE_TARJETA_VISA                     0\n",
            "ANTIGUEDAD_CORDOBESA                   0\n",
            "CORDOBESA_MONTO_SALDO_TOTAL            0\n",
            "CORDOBESA_MONTO_SALDO_RESUMEN          0\n",
            "TIENE_TARJETA_CORDOBESA                0\n",
            "SUM_CONSUMOS_TC_ULT_6M                 0\n",
            "MOB_TARJETAS_DE_CREDITO                0\n",
            "CANT_TARJETAS_CREDITO                  0\n",
            "EDAD                                   0\n",
            "ESTADO_CIVIL                           0\n",
            "SEXO                                   0\n",
            "ANTIGUEDAD_PRESTAMOS_PERSONALES        0\n",
            "CANT_PMOS_PERSONALES                   0\n",
            "CANT_PMOS_HIPOTECARIOS                 0\n",
            "CANT_ACREDITACION_HABER_ULT90D         0\n",
            "TIENE_CUENTA_BASICA                    0\n",
            "INGRESOS_NETOS                         0\n",
            "TIENE_HOME_BANKING_ULT3M               0\n",
            "CANT_TARJ_DEBITO_TRANSACCIONES         0\n",
            "CORDOBESA_MAXIMA_MORA_ULT12M           0\n",
            "ENDEUDAMIENTO                          0\n",
            "RIESGO_ASOCIADO_LINEA                  0\n",
            "SALDO_ACTUAL_REFINAN_VIGENTE       10189\n",
            "CANT_SIT_BANCOR_MAYOR1                 0\n",
            "CANT_SIT_NO_BANCOR_MAYOR1              0\n",
            "CONSUMO_6M_CORDOBESA                 181\n",
            "ALTA_6M_CORDOBESA                    181\n",
            "CONSUMO_6M_VISA                     6017\n",
            "ALTA_6M_VISA                        6017\n",
            "peor_sit_bancor_6meses                 0\n",
            "sin_productos_activos_6meses           0\n",
            "peor_sit_no_bancor_6meses              0\n",
            "max_mora_pp                            0\n",
            "max_mora_visa                          0\n",
            "max_mora_cordobesa                     0\n",
            "max_mora_prod_activos                  0\n",
            "SEGMENTO                               0\n",
            "SITUACION_BANCOR2                      0\n",
            "SITUACION_NO_BANCOR2                   0\n",
            "target                                 0\n",
            "dirty                                  0\n",
            "dtype: int64\n"
          ]
        }
      ],
      "source": [
        "# ver si hay valores nulos o no que nos puedan molestar mas adelante\n",
        "print(df.isnull().sum())"
      ]
    },
    {
      "cell_type": "markdown",
      "source": [
        "Por ejemplo, la variable CONSUMO_6M_VISA tiene 6017 valores perdidos o nulos. Vamos a reemplazarlos por cero."
      ],
      "metadata": {
        "id": "oe1x8DW4MKSf"
      }
    },
    {
      "cell_type": "code",
      "execution_count": null,
      "metadata": {
        "id": "i4YBIzX30haQ"
      },
      "outputs": [],
      "source": [
        "# Si quiero reemplazar los nulos por cero, primero tengo que copiar el dataframe (para no pisar el original)\n",
        "df1 = df.copy()\n",
        "# Completar todos los valores NaN con ceros\n",
        "df1['CONSUMO_6M_VISA'] = df1['CONSUMO_6M_VISA'].fillna(0)"
      ]
    },
    {
      "cell_type": "code",
      "source": [
        "#Verifico que ahora no hay valores nulos en la variable\n",
        "print(df1.isnull().sum())"
      ],
      "metadata": {
        "id": "NLQHM3G9MgIc",
        "outputId": "a06f060d-442e-4c64-aea2-da041700a726",
        "colab": {
          "base_uri": "https://localhost:8080/"
        }
      },
      "execution_count": null,
      "outputs": [
        {
          "output_type": "stream",
          "name": "stdout",
          "text": [
            "idFacu                                 0\n",
            "TIENE_TARJETA_VISA                     0\n",
            "ANTIGUEDAD_CORDOBESA                   0\n",
            "CORDOBESA_MONTO_SALDO_TOTAL            0\n",
            "CORDOBESA_MONTO_SALDO_RESUMEN          0\n",
            "TIENE_TARJETA_CORDOBESA                0\n",
            "SUM_CONSUMOS_TC_ULT_6M                 0\n",
            "MOB_TARJETAS_DE_CREDITO                0\n",
            "CANT_TARJETAS_CREDITO                  0\n",
            "EDAD                                   0\n",
            "ESTADO_CIVIL                           0\n",
            "SEXO                                   0\n",
            "ANTIGUEDAD_PRESTAMOS_PERSONALES        0\n",
            "CANT_PMOS_PERSONALES                   0\n",
            "CANT_PMOS_HIPOTECARIOS                 0\n",
            "CANT_ACREDITACION_HABER_ULT90D         0\n",
            "TIENE_CUENTA_BASICA                    0\n",
            "INGRESOS_NETOS                         0\n",
            "TIENE_HOME_BANKING_ULT3M               0\n",
            "CANT_TARJ_DEBITO_TRANSACCIONES         0\n",
            "CORDOBESA_MAXIMA_MORA_ULT12M           0\n",
            "ENDEUDAMIENTO                          0\n",
            "RIESGO_ASOCIADO_LINEA                  0\n",
            "SALDO_ACTUAL_REFINAN_VIGENTE       10189\n",
            "CANT_SIT_BANCOR_MAYOR1                 0\n",
            "CANT_SIT_NO_BANCOR_MAYOR1              0\n",
            "CONSUMO_6M_CORDOBESA                 181\n",
            "ALTA_6M_CORDOBESA                    181\n",
            "CONSUMO_6M_VISA                        0\n",
            "ALTA_6M_VISA                        6017\n",
            "peor_sit_bancor_6meses                 0\n",
            "sin_productos_activos_6meses           0\n",
            "peor_sit_no_bancor_6meses              0\n",
            "max_mora_pp                            0\n",
            "max_mora_visa                          0\n",
            "max_mora_cordobesa                     0\n",
            "max_mora_prod_activos                  0\n",
            "SEGMENTO                               0\n",
            "SITUACION_BANCOR2                      0\n",
            "SITUACION_NO_BANCOR2                   0\n",
            "target                                 0\n",
            "dirty                                  0\n",
            "dtype: int64\n"
          ]
        }
      ]
    },
    {
      "cell_type": "markdown",
      "source": [
        "También podríamos borrar de la base de datos los datos incompletos"
      ],
      "metadata": {
        "id": "BPDSEUeiNBPo"
      }
    },
    {
      "cell_type": "code",
      "execution_count": null,
      "metadata": {
        "id": "LCKokIax0haR"
      },
      "outputs": [],
      "source": [
        "# También puedo borrar del dataframe los datos incompletos\n",
        "df_na = df.dropna()"
      ]
    },
    {
      "cell_type": "code",
      "source": [
        "print(df_na.isnull().sum())"
      ],
      "metadata": {
        "id": "FzcilAm3M1Zm",
        "outputId": "f980e4a7-5323-4a6a-e878-a92c188df1f2",
        "colab": {
          "base_uri": "https://localhost:8080/"
        }
      },
      "execution_count": null,
      "outputs": [
        {
          "output_type": "stream",
          "name": "stdout",
          "text": [
            "idFacu                             0\n",
            "TIENE_TARJETA_VISA                 0\n",
            "ANTIGUEDAD_CORDOBESA               0\n",
            "CORDOBESA_MONTO_SALDO_TOTAL        0\n",
            "CORDOBESA_MONTO_SALDO_RESUMEN      0\n",
            "TIENE_TARJETA_CORDOBESA            0\n",
            "SUM_CONSUMOS_TC_ULT_6M             0\n",
            "MOB_TARJETAS_DE_CREDITO            0\n",
            "CANT_TARJETAS_CREDITO              0\n",
            "EDAD                               0\n",
            "ESTADO_CIVIL                       0\n",
            "SEXO                               0\n",
            "ANTIGUEDAD_PRESTAMOS_PERSONALES    0\n",
            "CANT_PMOS_PERSONALES               0\n",
            "CANT_PMOS_HIPOTECARIOS             0\n",
            "CANT_ACREDITACION_HABER_ULT90D     0\n",
            "TIENE_CUENTA_BASICA                0\n",
            "INGRESOS_NETOS                     0\n",
            "TIENE_HOME_BANKING_ULT3M           0\n",
            "CANT_TARJ_DEBITO_TRANSACCIONES     0\n",
            "CORDOBESA_MAXIMA_MORA_ULT12M       0\n",
            "ENDEUDAMIENTO                      0\n",
            "RIESGO_ASOCIADO_LINEA              0\n",
            "SALDO_ACTUAL_REFINAN_VIGENTE       0\n",
            "CANT_SIT_BANCOR_MAYOR1             0\n",
            "CANT_SIT_NO_BANCOR_MAYOR1          0\n",
            "CONSUMO_6M_CORDOBESA               0\n",
            "ALTA_6M_CORDOBESA                  0\n",
            "CONSUMO_6M_VISA                    0\n",
            "ALTA_6M_VISA                       0\n",
            "peor_sit_bancor_6meses             0\n",
            "sin_productos_activos_6meses       0\n",
            "peor_sit_no_bancor_6meses          0\n",
            "max_mora_pp                        0\n",
            "max_mora_visa                      0\n",
            "max_mora_cordobesa                 0\n",
            "max_mora_prod_activos              0\n",
            "SEGMENTO                           0\n",
            "SITUACION_BANCOR2                  0\n",
            "SITUACION_NO_BANCOR2               0\n",
            "target                             0\n",
            "dirty                              0\n",
            "dtype: int64\n"
          ]
        }
      ]
    },
    {
      "cell_type": "code",
      "source": [
        "df_na.info()"
      ],
      "metadata": {
        "id": "6KDo9PyPNYM7",
        "outputId": "daec168c-84da-44c5-de5c-816631de0e86",
        "colab": {
          "base_uri": "https://localhost:8080/"
        }
      },
      "execution_count": null,
      "outputs": [
        {
          "output_type": "stream",
          "name": "stdout",
          "text": [
            "<class 'pandas.core.frame.DataFrame'>\n",
            "Int64Index: 57 entries, 391 to 9849\n",
            "Data columns (total 42 columns):\n",
            " #   Column                           Non-Null Count  Dtype  \n",
            "---  ------                           --------------  -----  \n",
            " 0   idFacu                           57 non-null     int64  \n",
            " 1   TIENE_TARJETA_VISA               57 non-null     int64  \n",
            " 2   ANTIGUEDAD_CORDOBESA             57 non-null     int64  \n",
            " 3   CORDOBESA_MONTO_SALDO_TOTAL      57 non-null     float64\n",
            " 4   CORDOBESA_MONTO_SALDO_RESUMEN    57 non-null     float64\n",
            " 5   TIENE_TARJETA_CORDOBESA          57 non-null     int64  \n",
            " 6   SUM_CONSUMOS_TC_ULT_6M           57 non-null     float64\n",
            " 7   MOB_TARJETAS_DE_CREDITO          57 non-null     int64  \n",
            " 8   CANT_TARJETAS_CREDITO            57 non-null     int64  \n",
            " 9   EDAD                             57 non-null     int64  \n",
            " 10  ESTADO_CIVIL                     57 non-null     object \n",
            " 11  SEXO                             57 non-null     object \n",
            " 12  ANTIGUEDAD_PRESTAMOS_PERSONALES  57 non-null     int64  \n",
            " 13  CANT_PMOS_PERSONALES             57 non-null     int64  \n",
            " 14  CANT_PMOS_HIPOTECARIOS           57 non-null     int64  \n",
            " 15  CANT_ACREDITACION_HABER_ULT90D   57 non-null     int64  \n",
            " 16  TIENE_CUENTA_BASICA              57 non-null     int64  \n",
            " 17  INGRESOS_NETOS                   57 non-null     float64\n",
            " 18  TIENE_HOME_BANKING_ULT3M         57 non-null     int64  \n",
            " 19  CANT_TARJ_DEBITO_TRANSACCIONES   57 non-null     int64  \n",
            " 20  CORDOBESA_MAXIMA_MORA_ULT12M     57 non-null     int64  \n",
            " 21  ENDEUDAMIENTO                    57 non-null     float64\n",
            " 22  RIESGO_ASOCIADO_LINEA            57 non-null     object \n",
            " 23  SALDO_ACTUAL_REFINAN_VIGENTE     57 non-null     float64\n",
            " 24  CANT_SIT_BANCOR_MAYOR1           57 non-null     int64  \n",
            " 25  CANT_SIT_NO_BANCOR_MAYOR1        57 non-null     int64  \n",
            " 26  CONSUMO_6M_CORDOBESA             57 non-null     float64\n",
            " 27  ALTA_6M_CORDOBESA                57 non-null     float64\n",
            " 28  CONSUMO_6M_VISA                  57 non-null     float64\n",
            " 29  ALTA_6M_VISA                     57 non-null     float64\n",
            " 30  peor_sit_bancor_6meses           57 non-null     int64  \n",
            " 31  sin_productos_activos_6meses     57 non-null     int64  \n",
            " 32  peor_sit_no_bancor_6meses        57 non-null     int64  \n",
            " 33  max_mora_pp                      57 non-null     int64  \n",
            " 34  max_mora_visa                    57 non-null     int64  \n",
            " 35  max_mora_cordobesa               57 non-null     int64  \n",
            " 36  max_mora_prod_activos            57 non-null     int64  \n",
            " 37  SEGMENTO                         57 non-null     object \n",
            " 38  SITUACION_BANCOR2                57 non-null     int64  \n",
            " 39  SITUACION_NO_BANCOR2             57 non-null     int64  \n",
            " 40  target                           57 non-null     int64  \n",
            " 41  dirty                            57 non-null     int64  \n",
            "dtypes: float64(10), int64(28), object(4)\n",
            "memory usage: 19.1+ KB\n"
          ]
        }
      ]
    },
    {
      "cell_type": "markdown",
      "source": [
        "**Valores duplicados**"
      ],
      "metadata": {
        "id": "fznuDTXU9DsH"
      }
    },
    {
      "cell_type": "code",
      "source": [
        "# poner el registro para ver duplicados\n",
        "df[df.duplicated()]"
      ],
      "metadata": {
        "id": "Ci8gDJneFzLy",
        "outputId": "79d4d11d-6dc9-4f25-dd1a-9d2c1b6141b1",
        "colab": {
          "base_uri": "https://localhost:8080/",
          "height": 143
        }
      },
      "execution_count": null,
      "outputs": [
        {
          "output_type": "execute_result",
          "data": {
            "text/plain": [
              "Empty DataFrame\n",
              "Columns: [idFacu, TIENE_TARJETA_VISA, ANTIGUEDAD_CORDOBESA, CORDOBESA_MONTO_SALDO_TOTAL, CORDOBESA_MONTO_SALDO_RESUMEN, TIENE_TARJETA_CORDOBESA, SUM_CONSUMOS_TC_ULT_6M, MOB_TARJETAS_DE_CREDITO, CANT_TARJETAS_CREDITO, EDAD, ESTADO_CIVIL, SEXO, ANTIGUEDAD_PRESTAMOS_PERSONALES, CANT_PMOS_PERSONALES, CANT_PMOS_HIPOTECARIOS, CANT_ACREDITACION_HABER_ULT90D, TIENE_CUENTA_BASICA, INGRESOS_NETOS, TIENE_HOME_BANKING_ULT3M, CANT_TARJ_DEBITO_TRANSACCIONES, CORDOBESA_MAXIMA_MORA_ULT12M, ENDEUDAMIENTO, RIESGO_ASOCIADO_LINEA, SALDO_ACTUAL_REFINAN_VIGENTE, CANT_SIT_BANCOR_MAYOR1, CANT_SIT_NO_BANCOR_MAYOR1, CONSUMO_6M_CORDOBESA, ALTA_6M_CORDOBESA, CONSUMO_6M_VISA, ALTA_6M_VISA, peor_sit_bancor_6meses, sin_productos_activos_6meses, peor_sit_no_bancor_6meses, max_mora_pp, max_mora_visa, max_mora_cordobesa, max_mora_prod_activos, SEGMENTO, SITUACION_BANCOR2, SITUACION_NO_BANCOR2, target, dirty]\n",
              "Index: []\n",
              "\n",
              "[0 rows x 42 columns]"
            ],
            "text/html": [
              "\n",
              "  <div id=\"df-8eca9806-8086-4d08-a7be-5658cd7bd3dc\">\n",
              "    <div class=\"colab-df-container\">\n",
              "      <div>\n",
              "<style scoped>\n",
              "    .dataframe tbody tr th:only-of-type {\n",
              "        vertical-align: middle;\n",
              "    }\n",
              "\n",
              "    .dataframe tbody tr th {\n",
              "        vertical-align: top;\n",
              "    }\n",
              "\n",
              "    .dataframe thead th {\n",
              "        text-align: right;\n",
              "    }\n",
              "</style>\n",
              "<table border=\"1\" class=\"dataframe\">\n",
              "  <thead>\n",
              "    <tr style=\"text-align: right;\">\n",
              "      <th></th>\n",
              "      <th>idFacu</th>\n",
              "      <th>TIENE_TARJETA_VISA</th>\n",
              "      <th>ANTIGUEDAD_CORDOBESA</th>\n",
              "      <th>CORDOBESA_MONTO_SALDO_TOTAL</th>\n",
              "      <th>CORDOBESA_MONTO_SALDO_RESUMEN</th>\n",
              "      <th>TIENE_TARJETA_CORDOBESA</th>\n",
              "      <th>SUM_CONSUMOS_TC_ULT_6M</th>\n",
              "      <th>MOB_TARJETAS_DE_CREDITO</th>\n",
              "      <th>CANT_TARJETAS_CREDITO</th>\n",
              "      <th>EDAD</th>\n",
              "      <th>...</th>\n",
              "      <th>peor_sit_no_bancor_6meses</th>\n",
              "      <th>max_mora_pp</th>\n",
              "      <th>max_mora_visa</th>\n",
              "      <th>max_mora_cordobesa</th>\n",
              "      <th>max_mora_prod_activos</th>\n",
              "      <th>SEGMENTO</th>\n",
              "      <th>SITUACION_BANCOR2</th>\n",
              "      <th>SITUACION_NO_BANCOR2</th>\n",
              "      <th>target</th>\n",
              "      <th>dirty</th>\n",
              "    </tr>\n",
              "  </thead>\n",
              "  <tbody>\n",
              "  </tbody>\n",
              "</table>\n",
              "<p>0 rows × 42 columns</p>\n",
              "</div>\n",
              "      <button class=\"colab-df-convert\" onclick=\"convertToInteractive('df-8eca9806-8086-4d08-a7be-5658cd7bd3dc')\"\n",
              "              title=\"Convert this dataframe to an interactive table.\"\n",
              "              style=\"display:none;\">\n",
              "        \n",
              "  <svg xmlns=\"http://www.w3.org/2000/svg\" height=\"24px\"viewBox=\"0 0 24 24\"\n",
              "       width=\"24px\">\n",
              "    <path d=\"M0 0h24v24H0V0z\" fill=\"none\"/>\n",
              "    <path d=\"M18.56 5.44l.94 2.06.94-2.06 2.06-.94-2.06-.94-.94-2.06-.94 2.06-2.06.94zm-11 1L8.5 8.5l.94-2.06 2.06-.94-2.06-.94L8.5 2.5l-.94 2.06-2.06.94zm10 10l.94 2.06.94-2.06 2.06-.94-2.06-.94-.94-2.06-.94 2.06-2.06.94z\"/><path d=\"M17.41 7.96l-1.37-1.37c-.4-.4-.92-.59-1.43-.59-.52 0-1.04.2-1.43.59L10.3 9.45l-7.72 7.72c-.78.78-.78 2.05 0 2.83L4 21.41c.39.39.9.59 1.41.59.51 0 1.02-.2 1.41-.59l7.78-7.78 2.81-2.81c.8-.78.8-2.07 0-2.86zM5.41 20L4 18.59l7.72-7.72 1.47 1.35L5.41 20z\"/>\n",
              "  </svg>\n",
              "      </button>\n",
              "      \n",
              "  <style>\n",
              "    .colab-df-container {\n",
              "      display:flex;\n",
              "      flex-wrap:wrap;\n",
              "      gap: 12px;\n",
              "    }\n",
              "\n",
              "    .colab-df-convert {\n",
              "      background-color: #E8F0FE;\n",
              "      border: none;\n",
              "      border-radius: 50%;\n",
              "      cursor: pointer;\n",
              "      display: none;\n",
              "      fill: #1967D2;\n",
              "      height: 32px;\n",
              "      padding: 0 0 0 0;\n",
              "      width: 32px;\n",
              "    }\n",
              "\n",
              "    .colab-df-convert:hover {\n",
              "      background-color: #E2EBFA;\n",
              "      box-shadow: 0px 1px 2px rgba(60, 64, 67, 0.3), 0px 1px 3px 1px rgba(60, 64, 67, 0.15);\n",
              "      fill: #174EA6;\n",
              "    }\n",
              "\n",
              "    [theme=dark] .colab-df-convert {\n",
              "      background-color: #3B4455;\n",
              "      fill: #D2E3FC;\n",
              "    }\n",
              "\n",
              "    [theme=dark] .colab-df-convert:hover {\n",
              "      background-color: #434B5C;\n",
              "      box-shadow: 0px 1px 3px 1px rgba(0, 0, 0, 0.15);\n",
              "      filter: drop-shadow(0px 1px 2px rgba(0, 0, 0, 0.3));\n",
              "      fill: #FFFFFF;\n",
              "    }\n",
              "  </style>\n",
              "\n",
              "      <script>\n",
              "        const buttonEl =\n",
              "          document.querySelector('#df-8eca9806-8086-4d08-a7be-5658cd7bd3dc button.colab-df-convert');\n",
              "        buttonEl.style.display =\n",
              "          google.colab.kernel.accessAllowed ? 'block' : 'none';\n",
              "\n",
              "        async function convertToInteractive(key) {\n",
              "          const element = document.querySelector('#df-8eca9806-8086-4d08-a7be-5658cd7bd3dc');\n",
              "          const dataTable =\n",
              "            await google.colab.kernel.invokeFunction('convertToInteractive',\n",
              "                                                     [key], {});\n",
              "          if (!dataTable) return;\n",
              "\n",
              "          const docLinkHtml = 'Like what you see? Visit the ' +\n",
              "            '<a target=\"_blank\" href=https://colab.research.google.com/notebooks/data_table.ipynb>data table notebook</a>'\n",
              "            + ' to learn more about interactive tables.';\n",
              "          element.innerHTML = '';\n",
              "          dataTable['output_type'] = 'display_data';\n",
              "          await google.colab.output.renderOutput(dataTable, element);\n",
              "          const docLink = document.createElement('div');\n",
              "          docLink.innerHTML = docLinkHtml;\n",
              "          element.appendChild(docLink);\n",
              "        }\n",
              "      </script>\n",
              "    </div>\n",
              "  </div>\n",
              "  "
            ]
          },
          "metadata": {},
          "execution_count": 18
        }
      ]
    },
    {
      "cell_type": "code",
      "source": [
        "df[df.duplicated(subset=['idFacu'], keep=False)].sort_values(['idFacu'])"
      ],
      "metadata": {
        "id": "gJe0Y3_E-dAn",
        "outputId": "bf24c118-6b48-4813-f0c5-53eeb38d3425",
        "colab": {
          "base_uri": "https://localhost:8080/",
          "height": 143
        }
      },
      "execution_count": null,
      "outputs": [
        {
          "output_type": "execute_result",
          "data": {
            "text/plain": [
              "Empty DataFrame\n",
              "Columns: [idFacu, TIENE_TARJETA_VISA, ANTIGUEDAD_CORDOBESA, CORDOBESA_MONTO_SALDO_TOTAL, CORDOBESA_MONTO_SALDO_RESUMEN, TIENE_TARJETA_CORDOBESA, SUM_CONSUMOS_TC_ULT_6M, MOB_TARJETAS_DE_CREDITO, CANT_TARJETAS_CREDITO, EDAD, ESTADO_CIVIL, SEXO, ANTIGUEDAD_PRESTAMOS_PERSONALES, CANT_PMOS_PERSONALES, CANT_PMOS_HIPOTECARIOS, CANT_ACREDITACION_HABER_ULT90D, TIENE_CUENTA_BASICA, INGRESOS_NETOS, TIENE_HOME_BANKING_ULT3M, CANT_TARJ_DEBITO_TRANSACCIONES, CORDOBESA_MAXIMA_MORA_ULT12M, ENDEUDAMIENTO, RIESGO_ASOCIADO_LINEA, SALDO_ACTUAL_REFINAN_VIGENTE, CANT_SIT_BANCOR_MAYOR1, CANT_SIT_NO_BANCOR_MAYOR1, CONSUMO_6M_CORDOBESA, ALTA_6M_CORDOBESA, CONSUMO_6M_VISA, ALTA_6M_VISA, peor_sit_bancor_6meses, sin_productos_activos_6meses, peor_sit_no_bancor_6meses, max_mora_pp, max_mora_visa, max_mora_cordobesa, max_mora_prod_activos, SEGMENTO, SITUACION_BANCOR2, SITUACION_NO_BANCOR2, target, dirty]\n",
              "Index: []\n",
              "\n",
              "[0 rows x 42 columns]"
            ],
            "text/html": [
              "\n",
              "  <div id=\"df-36220828-9ac6-4dfa-991e-b98930bbab20\">\n",
              "    <div class=\"colab-df-container\">\n",
              "      <div>\n",
              "<style scoped>\n",
              "    .dataframe tbody tr th:only-of-type {\n",
              "        vertical-align: middle;\n",
              "    }\n",
              "\n",
              "    .dataframe tbody tr th {\n",
              "        vertical-align: top;\n",
              "    }\n",
              "\n",
              "    .dataframe thead th {\n",
              "        text-align: right;\n",
              "    }\n",
              "</style>\n",
              "<table border=\"1\" class=\"dataframe\">\n",
              "  <thead>\n",
              "    <tr style=\"text-align: right;\">\n",
              "      <th></th>\n",
              "      <th>idFacu</th>\n",
              "      <th>TIENE_TARJETA_VISA</th>\n",
              "      <th>ANTIGUEDAD_CORDOBESA</th>\n",
              "      <th>CORDOBESA_MONTO_SALDO_TOTAL</th>\n",
              "      <th>CORDOBESA_MONTO_SALDO_RESUMEN</th>\n",
              "      <th>TIENE_TARJETA_CORDOBESA</th>\n",
              "      <th>SUM_CONSUMOS_TC_ULT_6M</th>\n",
              "      <th>MOB_TARJETAS_DE_CREDITO</th>\n",
              "      <th>CANT_TARJETAS_CREDITO</th>\n",
              "      <th>EDAD</th>\n",
              "      <th>...</th>\n",
              "      <th>peor_sit_no_bancor_6meses</th>\n",
              "      <th>max_mora_pp</th>\n",
              "      <th>max_mora_visa</th>\n",
              "      <th>max_mora_cordobesa</th>\n",
              "      <th>max_mora_prod_activos</th>\n",
              "      <th>SEGMENTO</th>\n",
              "      <th>SITUACION_BANCOR2</th>\n",
              "      <th>SITUACION_NO_BANCOR2</th>\n",
              "      <th>target</th>\n",
              "      <th>dirty</th>\n",
              "    </tr>\n",
              "  </thead>\n",
              "  <tbody>\n",
              "  </tbody>\n",
              "</table>\n",
              "<p>0 rows × 42 columns</p>\n",
              "</div>\n",
              "      <button class=\"colab-df-convert\" onclick=\"convertToInteractive('df-36220828-9ac6-4dfa-991e-b98930bbab20')\"\n",
              "              title=\"Convert this dataframe to an interactive table.\"\n",
              "              style=\"display:none;\">\n",
              "        \n",
              "  <svg xmlns=\"http://www.w3.org/2000/svg\" height=\"24px\"viewBox=\"0 0 24 24\"\n",
              "       width=\"24px\">\n",
              "    <path d=\"M0 0h24v24H0V0z\" fill=\"none\"/>\n",
              "    <path d=\"M18.56 5.44l.94 2.06.94-2.06 2.06-.94-2.06-.94-.94-2.06-.94 2.06-2.06.94zm-11 1L8.5 8.5l.94-2.06 2.06-.94-2.06-.94L8.5 2.5l-.94 2.06-2.06.94zm10 10l.94 2.06.94-2.06 2.06-.94-2.06-.94-.94-2.06-.94 2.06-2.06.94z\"/><path d=\"M17.41 7.96l-1.37-1.37c-.4-.4-.92-.59-1.43-.59-.52 0-1.04.2-1.43.59L10.3 9.45l-7.72 7.72c-.78.78-.78 2.05 0 2.83L4 21.41c.39.39.9.59 1.41.59.51 0 1.02-.2 1.41-.59l7.78-7.78 2.81-2.81c.8-.78.8-2.07 0-2.86zM5.41 20L4 18.59l7.72-7.72 1.47 1.35L5.41 20z\"/>\n",
              "  </svg>\n",
              "      </button>\n",
              "      \n",
              "  <style>\n",
              "    .colab-df-container {\n",
              "      display:flex;\n",
              "      flex-wrap:wrap;\n",
              "      gap: 12px;\n",
              "    }\n",
              "\n",
              "    .colab-df-convert {\n",
              "      background-color: #E8F0FE;\n",
              "      border: none;\n",
              "      border-radius: 50%;\n",
              "      cursor: pointer;\n",
              "      display: none;\n",
              "      fill: #1967D2;\n",
              "      height: 32px;\n",
              "      padding: 0 0 0 0;\n",
              "      width: 32px;\n",
              "    }\n",
              "\n",
              "    .colab-df-convert:hover {\n",
              "      background-color: #E2EBFA;\n",
              "      box-shadow: 0px 1px 2px rgba(60, 64, 67, 0.3), 0px 1px 3px 1px rgba(60, 64, 67, 0.15);\n",
              "      fill: #174EA6;\n",
              "    }\n",
              "\n",
              "    [theme=dark] .colab-df-convert {\n",
              "      background-color: #3B4455;\n",
              "      fill: #D2E3FC;\n",
              "    }\n",
              "\n",
              "    [theme=dark] .colab-df-convert:hover {\n",
              "      background-color: #434B5C;\n",
              "      box-shadow: 0px 1px 3px 1px rgba(0, 0, 0, 0.15);\n",
              "      filter: drop-shadow(0px 1px 2px rgba(0, 0, 0, 0.3));\n",
              "      fill: #FFFFFF;\n",
              "    }\n",
              "  </style>\n",
              "\n",
              "      <script>\n",
              "        const buttonEl =\n",
              "          document.querySelector('#df-36220828-9ac6-4dfa-991e-b98930bbab20 button.colab-df-convert');\n",
              "        buttonEl.style.display =\n",
              "          google.colab.kernel.accessAllowed ? 'block' : 'none';\n",
              "\n",
              "        async function convertToInteractive(key) {\n",
              "          const element = document.querySelector('#df-36220828-9ac6-4dfa-991e-b98930bbab20');\n",
              "          const dataTable =\n",
              "            await google.colab.kernel.invokeFunction('convertToInteractive',\n",
              "                                                     [key], {});\n",
              "          if (!dataTable) return;\n",
              "\n",
              "          const docLinkHtml = 'Like what you see? Visit the ' +\n",
              "            '<a target=\"_blank\" href=https://colab.research.google.com/notebooks/data_table.ipynb>data table notebook</a>'\n",
              "            + ' to learn more about interactive tables.';\n",
              "          element.innerHTML = '';\n",
              "          dataTable['output_type'] = 'display_data';\n",
              "          await google.colab.output.renderOutput(dataTable, element);\n",
              "          const docLink = document.createElement('div');\n",
              "          docLink.innerHTML = docLinkHtml;\n",
              "          element.appendChild(docLink);\n",
              "        }\n",
              "      </script>\n",
              "    </div>\n",
              "  </div>\n",
              "  "
            ]
          },
          "metadata": {},
          "execution_count": 19
        }
      ]
    },
    {
      "cell_type": "markdown",
      "source": [
        "# Organización y resumen de datos"
      ],
      "metadata": {
        "id": "F9aoCTlgcRgK"
      }
    },
    {
      "cell_type": "markdown",
      "source": [
        "Dependiendo del tipo de variable que se esta analizando es de gran utilidad realizar visualizaciones ya que, de manera rapida, nos dan información de como la misma se comporta. También resulta útil resumir la información en tablas de distribución de freuencias."
      ],
      "metadata": {
        "id": "gp1rtUp1XgpD"
      }
    },
    {
      "cell_type": "markdown",
      "source": [
        "Es util armar tablas de frecuencias que me reflejan cuales son las categorias existentes en cada variable, cual es su frecuencia, y a partir de dicha informacion poder tomar decisiones como por ejemplo agrupar variables."
      ],
      "metadata": {
        "id": "p504SreLX0sh"
      }
    },
    {
      "cell_type": "markdown",
      "source": [
        "**Variables categóricas**\n",
        "\n"
      ],
      "metadata": {
        "id": "l3Ap0ct1denQ"
      }
    },
    {
      "cell_type": "markdown",
      "source": [
        "Es útil armar tablas de frecuencias que me reflejan cuales son las categorias existentes en cada variable, cual es su frecuencia, y a partir de dicha informacion poder tomar decisiones."
      ],
      "metadata": {
        "id": "zjFXcasqO_cR"
      }
    },
    {
      "cell_type": "markdown",
      "source": [
        "Trabajaremos con las variables Sexo y Estado Civil de nuestro dataset."
      ],
      "metadata": {
        "id": "_LQYRHM1Qc08"
      }
    },
    {
      "cell_type": "code",
      "source": [
        "#Cálculo de frecuencias absolutas\n",
        "df.SEXO.value_counts()"
      ],
      "metadata": {
        "id": "PVK4-SCMYFmp",
        "colab": {
          "base_uri": "https://localhost:8080/"
        },
        "outputId": "1cb98702-88c0-4382-d42e-1e4ea94b2806"
      },
      "execution_count": null,
      "outputs": [
        {
          "output_type": "execute_result",
          "data": {
            "text/plain": [
              "FEMENINO     5764\n",
              "MASCULINO    4568\n",
              "Name: SEXO, dtype: int64"
            ]
          },
          "metadata": {},
          "execution_count": 20
        }
      ]
    },
    {
      "cell_type": "code",
      "source": [
        "df.ESTADO_CIVIL.value_counts()"
      ],
      "metadata": {
        "id": "mj5IK9ExYJVx",
        "colab": {
          "base_uri": "https://localhost:8080/"
        },
        "outputId": "f1832abf-f1a6-422d-bc7c-f01d5a941883"
      },
      "execution_count": null,
      "outputs": [
        {
          "output_type": "execute_result",
          "data": {
            "text/plain": [
              "Soltero/a       5825\n",
              "Casado/a        2847\n",
              "Viudo/a          960\n",
              "Divorciado/a     623\n",
              "Conviviente       72\n",
              "Union Civil        5\n",
              "Name: ESTADO_CIVIL, dtype: int64"
            ]
          },
          "metadata": {},
          "execution_count": 24
        }
      ]
    },
    {
      "cell_type": "code",
      "source": [
        "#Armo la tabla con frecuencias absolutas para después calcular las frecuencias relativas\n",
        "tabla_frec_est_civil=pd.value_counts(df.ESTADO_CIVIL).to_frame().reset_index()\n",
        "tabla_frec_est_civil.columns= (\"Estado civil\",\"fa\")\n",
        "tabla_frec_est_civil"
      ],
      "metadata": {
        "id": "WhEOi_ZwNqn3",
        "colab": {
          "base_uri": "https://localhost:8080/",
          "height": 238
        },
        "outputId": "9b0a9f8b-0f7a-4135-85a2-15030ef9b84e"
      },
      "execution_count": null,
      "outputs": [
        {
          "output_type": "execute_result",
          "data": {
            "text/plain": [
              "   Estado civil    fa\n",
              "0     Soltero/a  5825\n",
              "1      Casado/a  2847\n",
              "2       Viudo/a   960\n",
              "3  Divorciado/a   623\n",
              "4   Conviviente    72\n",
              "5   Union Civil     5"
            ],
            "text/html": [
              "\n",
              "  <div id=\"df-21546020-9bf2-4568-9988-90dae334c6c9\">\n",
              "    <div class=\"colab-df-container\">\n",
              "      <div>\n",
              "<style scoped>\n",
              "    .dataframe tbody tr th:only-of-type {\n",
              "        vertical-align: middle;\n",
              "    }\n",
              "\n",
              "    .dataframe tbody tr th {\n",
              "        vertical-align: top;\n",
              "    }\n",
              "\n",
              "    .dataframe thead th {\n",
              "        text-align: right;\n",
              "    }\n",
              "</style>\n",
              "<table border=\"1\" class=\"dataframe\">\n",
              "  <thead>\n",
              "    <tr style=\"text-align: right;\">\n",
              "      <th></th>\n",
              "      <th>Estado civil</th>\n",
              "      <th>fa</th>\n",
              "    </tr>\n",
              "  </thead>\n",
              "  <tbody>\n",
              "    <tr>\n",
              "      <th>0</th>\n",
              "      <td>Soltero/a</td>\n",
              "      <td>5825</td>\n",
              "    </tr>\n",
              "    <tr>\n",
              "      <th>1</th>\n",
              "      <td>Casado/a</td>\n",
              "      <td>2847</td>\n",
              "    </tr>\n",
              "    <tr>\n",
              "      <th>2</th>\n",
              "      <td>Viudo/a</td>\n",
              "      <td>960</td>\n",
              "    </tr>\n",
              "    <tr>\n",
              "      <th>3</th>\n",
              "      <td>Divorciado/a</td>\n",
              "      <td>623</td>\n",
              "    </tr>\n",
              "    <tr>\n",
              "      <th>4</th>\n",
              "      <td>Conviviente</td>\n",
              "      <td>72</td>\n",
              "    </tr>\n",
              "    <tr>\n",
              "      <th>5</th>\n",
              "      <td>Union Civil</td>\n",
              "      <td>5</td>\n",
              "    </tr>\n",
              "  </tbody>\n",
              "</table>\n",
              "</div>\n",
              "      <button class=\"colab-df-convert\" onclick=\"convertToInteractive('df-21546020-9bf2-4568-9988-90dae334c6c9')\"\n",
              "              title=\"Convert this dataframe to an interactive table.\"\n",
              "              style=\"display:none;\">\n",
              "        \n",
              "  <svg xmlns=\"http://www.w3.org/2000/svg\" height=\"24px\"viewBox=\"0 0 24 24\"\n",
              "       width=\"24px\">\n",
              "    <path d=\"M0 0h24v24H0V0z\" fill=\"none\"/>\n",
              "    <path d=\"M18.56 5.44l.94 2.06.94-2.06 2.06-.94-2.06-.94-.94-2.06-.94 2.06-2.06.94zm-11 1L8.5 8.5l.94-2.06 2.06-.94-2.06-.94L8.5 2.5l-.94 2.06-2.06.94zm10 10l.94 2.06.94-2.06 2.06-.94-2.06-.94-.94-2.06-.94 2.06-2.06.94z\"/><path d=\"M17.41 7.96l-1.37-1.37c-.4-.4-.92-.59-1.43-.59-.52 0-1.04.2-1.43.59L10.3 9.45l-7.72 7.72c-.78.78-.78 2.05 0 2.83L4 21.41c.39.39.9.59 1.41.59.51 0 1.02-.2 1.41-.59l7.78-7.78 2.81-2.81c.8-.78.8-2.07 0-2.86zM5.41 20L4 18.59l7.72-7.72 1.47 1.35L5.41 20z\"/>\n",
              "  </svg>\n",
              "      </button>\n",
              "      \n",
              "  <style>\n",
              "    .colab-df-container {\n",
              "      display:flex;\n",
              "      flex-wrap:wrap;\n",
              "      gap: 12px;\n",
              "    }\n",
              "\n",
              "    .colab-df-convert {\n",
              "      background-color: #E8F0FE;\n",
              "      border: none;\n",
              "      border-radius: 50%;\n",
              "      cursor: pointer;\n",
              "      display: none;\n",
              "      fill: #1967D2;\n",
              "      height: 32px;\n",
              "      padding: 0 0 0 0;\n",
              "      width: 32px;\n",
              "    }\n",
              "\n",
              "    .colab-df-convert:hover {\n",
              "      background-color: #E2EBFA;\n",
              "      box-shadow: 0px 1px 2px rgba(60, 64, 67, 0.3), 0px 1px 3px 1px rgba(60, 64, 67, 0.15);\n",
              "      fill: #174EA6;\n",
              "    }\n",
              "\n",
              "    [theme=dark] .colab-df-convert {\n",
              "      background-color: #3B4455;\n",
              "      fill: #D2E3FC;\n",
              "    }\n",
              "\n",
              "    [theme=dark] .colab-df-convert:hover {\n",
              "      background-color: #434B5C;\n",
              "      box-shadow: 0px 1px 3px 1px rgba(0, 0, 0, 0.15);\n",
              "      filter: drop-shadow(0px 1px 2px rgba(0, 0, 0, 0.3));\n",
              "      fill: #FFFFFF;\n",
              "    }\n",
              "  </style>\n",
              "\n",
              "      <script>\n",
              "        const buttonEl =\n",
              "          document.querySelector('#df-21546020-9bf2-4568-9988-90dae334c6c9 button.colab-df-convert');\n",
              "        buttonEl.style.display =\n",
              "          google.colab.kernel.accessAllowed ? 'block' : 'none';\n",
              "\n",
              "        async function convertToInteractive(key) {\n",
              "          const element = document.querySelector('#df-21546020-9bf2-4568-9988-90dae334c6c9');\n",
              "          const dataTable =\n",
              "            await google.colab.kernel.invokeFunction('convertToInteractive',\n",
              "                                                     [key], {});\n",
              "          if (!dataTable) return;\n",
              "\n",
              "          const docLinkHtml = 'Like what you see? Visit the ' +\n",
              "            '<a target=\"_blank\" href=https://colab.research.google.com/notebooks/data_table.ipynb>data table notebook</a>'\n",
              "            + ' to learn more about interactive tables.';\n",
              "          element.innerHTML = '';\n",
              "          dataTable['output_type'] = 'display_data';\n",
              "          await google.colab.output.renderOutput(dataTable, element);\n",
              "          const docLink = document.createElement('div');\n",
              "          docLink.innerHTML = docLinkHtml;\n",
              "          element.appendChild(docLink);\n",
              "        }\n",
              "      </script>\n",
              "    </div>\n",
              "  </div>\n",
              "  "
            ]
          },
          "metadata": {},
          "execution_count": 26
        }
      ]
    },
    {
      "cell_type": "code",
      "source": [
        "# Calculo las frecuencias relativas\n",
        "fr=(df.ESTADO_CIVIL.value_counts()/len(df.ESTADO_CIVIL))*100\n",
        "lis=fr.values\n",
        "tabla_frec_est_civil[\"fr\"]=lis\n",
        "tabla_frec_est_civil"
      ],
      "metadata": {
        "id": "2bohcwp5U6uX",
        "colab": {
          "base_uri": "https://localhost:8080/",
          "height": 238
        },
        "outputId": "8b98c698-9ecc-4172-cc8d-e00caa865258"
      },
      "execution_count": null,
      "outputs": [
        {
          "output_type": "execute_result",
          "data": {
            "text/plain": [
              "   Estado civil    fa         fr\n",
              "0     Soltero/a  5825  56.378242\n",
              "1      Casado/a  2847  27.555168\n",
              "2       Viudo/a   960   9.291521\n",
              "3  Divorciado/a   623   6.029810\n",
              "4   Conviviente    72   0.696864\n",
              "5   Union Civil     5   0.048393"
            ],
            "text/html": [
              "\n",
              "  <div id=\"df-8642511f-06fe-4547-a5b0-37ecbf615b7e\">\n",
              "    <div class=\"colab-df-container\">\n",
              "      <div>\n",
              "<style scoped>\n",
              "    .dataframe tbody tr th:only-of-type {\n",
              "        vertical-align: middle;\n",
              "    }\n",
              "\n",
              "    .dataframe tbody tr th {\n",
              "        vertical-align: top;\n",
              "    }\n",
              "\n",
              "    .dataframe thead th {\n",
              "        text-align: right;\n",
              "    }\n",
              "</style>\n",
              "<table border=\"1\" class=\"dataframe\">\n",
              "  <thead>\n",
              "    <tr style=\"text-align: right;\">\n",
              "      <th></th>\n",
              "      <th>Estado civil</th>\n",
              "      <th>fa</th>\n",
              "      <th>fr</th>\n",
              "    </tr>\n",
              "  </thead>\n",
              "  <tbody>\n",
              "    <tr>\n",
              "      <th>0</th>\n",
              "      <td>Soltero/a</td>\n",
              "      <td>5825</td>\n",
              "      <td>56.378242</td>\n",
              "    </tr>\n",
              "    <tr>\n",
              "      <th>1</th>\n",
              "      <td>Casado/a</td>\n",
              "      <td>2847</td>\n",
              "      <td>27.555168</td>\n",
              "    </tr>\n",
              "    <tr>\n",
              "      <th>2</th>\n",
              "      <td>Viudo/a</td>\n",
              "      <td>960</td>\n",
              "      <td>9.291521</td>\n",
              "    </tr>\n",
              "    <tr>\n",
              "      <th>3</th>\n",
              "      <td>Divorciado/a</td>\n",
              "      <td>623</td>\n",
              "      <td>6.029810</td>\n",
              "    </tr>\n",
              "    <tr>\n",
              "      <th>4</th>\n",
              "      <td>Conviviente</td>\n",
              "      <td>72</td>\n",
              "      <td>0.696864</td>\n",
              "    </tr>\n",
              "    <tr>\n",
              "      <th>5</th>\n",
              "      <td>Union Civil</td>\n",
              "      <td>5</td>\n",
              "      <td>0.048393</td>\n",
              "    </tr>\n",
              "  </tbody>\n",
              "</table>\n",
              "</div>\n",
              "      <button class=\"colab-df-convert\" onclick=\"convertToInteractive('df-8642511f-06fe-4547-a5b0-37ecbf615b7e')\"\n",
              "              title=\"Convert this dataframe to an interactive table.\"\n",
              "              style=\"display:none;\">\n",
              "        \n",
              "  <svg xmlns=\"http://www.w3.org/2000/svg\" height=\"24px\"viewBox=\"0 0 24 24\"\n",
              "       width=\"24px\">\n",
              "    <path d=\"M0 0h24v24H0V0z\" fill=\"none\"/>\n",
              "    <path d=\"M18.56 5.44l.94 2.06.94-2.06 2.06-.94-2.06-.94-.94-2.06-.94 2.06-2.06.94zm-11 1L8.5 8.5l.94-2.06 2.06-.94-2.06-.94L8.5 2.5l-.94 2.06-2.06.94zm10 10l.94 2.06.94-2.06 2.06-.94-2.06-.94-.94-2.06-.94 2.06-2.06.94z\"/><path d=\"M17.41 7.96l-1.37-1.37c-.4-.4-.92-.59-1.43-.59-.52 0-1.04.2-1.43.59L10.3 9.45l-7.72 7.72c-.78.78-.78 2.05 0 2.83L4 21.41c.39.39.9.59 1.41.59.51 0 1.02-.2 1.41-.59l7.78-7.78 2.81-2.81c.8-.78.8-2.07 0-2.86zM5.41 20L4 18.59l7.72-7.72 1.47 1.35L5.41 20z\"/>\n",
              "  </svg>\n",
              "      </button>\n",
              "      \n",
              "  <style>\n",
              "    .colab-df-container {\n",
              "      display:flex;\n",
              "      flex-wrap:wrap;\n",
              "      gap: 12px;\n",
              "    }\n",
              "\n",
              "    .colab-df-convert {\n",
              "      background-color: #E8F0FE;\n",
              "      border: none;\n",
              "      border-radius: 50%;\n",
              "      cursor: pointer;\n",
              "      display: none;\n",
              "      fill: #1967D2;\n",
              "      height: 32px;\n",
              "      padding: 0 0 0 0;\n",
              "      width: 32px;\n",
              "    }\n",
              "\n",
              "    .colab-df-convert:hover {\n",
              "      background-color: #E2EBFA;\n",
              "      box-shadow: 0px 1px 2px rgba(60, 64, 67, 0.3), 0px 1px 3px 1px rgba(60, 64, 67, 0.15);\n",
              "      fill: #174EA6;\n",
              "    }\n",
              "\n",
              "    [theme=dark] .colab-df-convert {\n",
              "      background-color: #3B4455;\n",
              "      fill: #D2E3FC;\n",
              "    }\n",
              "\n",
              "    [theme=dark] .colab-df-convert:hover {\n",
              "      background-color: #434B5C;\n",
              "      box-shadow: 0px 1px 3px 1px rgba(0, 0, 0, 0.15);\n",
              "      filter: drop-shadow(0px 1px 2px rgba(0, 0, 0, 0.3));\n",
              "      fill: #FFFFFF;\n",
              "    }\n",
              "  </style>\n",
              "\n",
              "      <script>\n",
              "        const buttonEl =\n",
              "          document.querySelector('#df-8642511f-06fe-4547-a5b0-37ecbf615b7e button.colab-df-convert');\n",
              "        buttonEl.style.display =\n",
              "          google.colab.kernel.accessAllowed ? 'block' : 'none';\n",
              "\n",
              "        async function convertToInteractive(key) {\n",
              "          const element = document.querySelector('#df-8642511f-06fe-4547-a5b0-37ecbf615b7e');\n",
              "          const dataTable =\n",
              "            await google.colab.kernel.invokeFunction('convertToInteractive',\n",
              "                                                     [key], {});\n",
              "          if (!dataTable) return;\n",
              "\n",
              "          const docLinkHtml = 'Like what you see? Visit the ' +\n",
              "            '<a target=\"_blank\" href=https://colab.research.google.com/notebooks/data_table.ipynb>data table notebook</a>'\n",
              "            + ' to learn more about interactive tables.';\n",
              "          element.innerHTML = '';\n",
              "          dataTable['output_type'] = 'display_data';\n",
              "          await google.colab.output.renderOutput(dataTable, element);\n",
              "          const docLink = document.createElement('div');\n",
              "          docLink.innerHTML = docLinkHtml;\n",
              "          element.appendChild(docLink);\n",
              "        }\n",
              "      </script>\n",
              "    </div>\n",
              "  </div>\n",
              "  "
            ]
          },
          "metadata": {},
          "execution_count": 28
        }
      ]
    },
    {
      "cell_type": "code",
      "source": [
        "#Gráfico de barras para Sexo\n",
        "plt.figure(figsize=(12,8)) # elijo el tamaño de mi gráfica\n",
        "sn.countplot(data=df, x='SEXO')\n",
        "plt.ylabel('cantidad',size=15)\n",
        "plt.xlabel('sexo', size=15)\n",
        "plt.title('Cantidad de personas por sexo', size=15)\n",
        "plt.legend()\n",
        "\n"
      ],
      "metadata": {
        "id": "E6MGfSPgWv2p",
        "colab": {
          "base_uri": "https://localhost:8080/",
          "height": 727
        },
        "outputId": "fc5f520f-bbe1-4f3a-ecfd-086565d131b1"
      },
      "execution_count": null,
      "outputs": [
        {
          "output_type": "stream",
          "name": "stderr",
          "text": [
            "WARNING:matplotlib.legend:No artists with labels found to put in legend.  Note that artists whose label start with an underscore are ignored when legend() is called with no argument.\n"
          ]
        },
        {
          "output_type": "execute_result",
          "data": {
            "text/plain": [
              "<matplotlib.legend.Legend at 0x7fd343691b40>"
            ]
          },
          "metadata": {},
          "execution_count": 29
        },
        {
          "output_type": "display_data",
          "data": {
            "text/plain": [
              "<Figure size 1200x800 with 1 Axes>"
            ],
            "image/png": "[encoded data removed]"
          },
          "metadata": {}
        }
      ]
    },
    {
      "cell_type": "code",
      "source": [
        "#Grafico de tortas\n",
        "plt.figure(figsize=(12,8)) # elijo el tamaño de mi gráfica\n",
        "labels=tabla_frec_est_civil['Estado civil']\n",
        "plt.pie(data=tabla_frec_est_civil, x='fr', labels=labels, labeldistance=1 , autopct='%1.1f%%', shadow=False, startangle=75)\n",
        "plt.title('Distribución de Grafico 1 utilizando plt',size=15)\n",
        "#plt.figlegend()\n",
        "plt.show()\n",
        "\n",
        "#plt.subplot(1, 2, 2)\n",
        "#df['ESTADO_CIVIL'].value_counts().plot(kind='pie')\n",
        "#plt.title('Estado civil')\n",
        "#plt.rc('legend', fontsize=100)\n",
        "#plt.title('Grafico 1 utilizando pandas')\n",
        "#plt.show()\n"
      ],
      "metadata": {
        "id": "32Ni6ITNXS8U",
        "colab": {
          "base_uri": "https://localhost:8080/",
          "height": 678
        },
        "outputId": "6cab4345-00fd-46e7-ba9c-46952a8d70de"
      },
      "execution_count": null,
      "outputs": [
        {
          "output_type": "display_data",
          "data": {
            "text/plain": [
              "<Figure size 1200x800 with 1 Axes>"
            ],
            "image/png": "[encoded data removed]"
          },
          "metadata": {}
        }
      ]
    },
    {
      "cell_type": "code",
      "source": [
        "#Gráfico de barras para Estado civil\n",
        "plt.figure(figsize=(12,8)) # elijo el tamaño de mi gráfica\n",
        "sn.countplot(data=df, x='ESTADO_CIVIL')\n",
        "plt.ylabel('cantidad',size=15)\n",
        "plt.xlabel('Estado civil',size=15)\n",
        "plt.title('Cantidad de personas segun su estado civil',size=15)\n",
        "#ver si es necesario agregarle la etiqueta.\n",
        "#ver como ordenar el grafico de mayor a menor"
      ],
      "metadata": {
        "id": "C0jUHQp1W0xI",
        "colab": {
          "base_uri": "https://localhost:8080/",
          "height": 690
        },
        "outputId": "eebc0d83-9b1e-468e-ad2f-3917f3318b24"
      },
      "execution_count": null,
      "outputs": [
        {
          "output_type": "execute_result",
          "data": {
            "text/plain": [
              "Text(0.5, 1.0, 'Cantidad de personas segun su estado civil')"
            ]
          },
          "metadata": {},
          "execution_count": 31
        },
        {
          "output_type": "display_data",
          "data": {
            "text/plain": [
              "<Figure size 1200x800 with 1 Axes>"
            ],
            "image/png": "[encoded data removed]"
          },
          "metadata": {}
        }
      ]
    },
    {
      "cell_type": "markdown",
      "source": [
        "**Variables numéricas discretas**"
      ],
      "metadata": {
        "id": "vgo6BQjmYAaZ"
      }
    },
    {
      "cell_type": "markdown",
      "source": [
        "Trabajaremos con la variable Cantidad de tarjetas de crédito del dataset."
      ],
      "metadata": {
        "id": "9wIfNgs5YoGW"
      }
    },
    {
      "cell_type": "code",
      "source": [
        "tabla_frec_cant_tarjetas=pd.value_counts(df.CANT_TARJETAS_CREDITO).to_frame().reset_index()\n",
        "tabla_frec_cant_tarjetas.columns= (\"Cantidad de tarjetas\",\"fa\")\n",
        "tabla_frec_cant_tarjetas"
      ],
      "metadata": {
        "id": "OXiMdd6syTzj",
        "colab": {
          "base_uri": "https://localhost:8080/",
          "height": 175
        },
        "outputId": "1fb18a7e-6277-4e8a-97f0-7b99d0150d95"
      },
      "execution_count": null,
      "outputs": [
        {
          "output_type": "execute_result",
          "data": {
            "text/plain": [
              "   Cantidad de tarjetas    fa\n",
              "0                     1  6014\n",
              "1                     0  2906\n",
              "2                     2  1401\n",
              "3                     3    11"
            ],
            "text/html": [
              "\n",
              "  <div id=\"df-190b538b-1d15-4066-b6ed-170a581c04ea\">\n",
              "    <div class=\"colab-df-container\">\n",
              "      <div>\n",
              "<style scoped>\n",
              "    .dataframe tbody tr th:only-of-type {\n",
              "        vertical-align: middle;\n",
              "    }\n",
              "\n",
              "    .dataframe tbody tr th {\n",
              "        vertical-align: top;\n",
              "    }\n",
              "\n",
              "    .dataframe thead th {\n",
              "        text-align: right;\n",
              "    }\n",
              "</style>\n",
              "<table border=\"1\" class=\"dataframe\">\n",
              "  <thead>\n",
              "    <tr style=\"text-align: right;\">\n",
              "      <th></th>\n",
              "      <th>Cantidad de tarjetas</th>\n",
              "      <th>fa</th>\n",
              "    </tr>\n",
              "  </thead>\n",
              "  <tbody>\n",
              "    <tr>\n",
              "      <th>0</th>\n",
              "      <td>1</td>\n",
              "      <td>6014</td>\n",
              "    </tr>\n",
              "    <tr>\n",
              "      <th>1</th>\n",
              "      <td>0</td>\n",
              "      <td>2906</td>\n",
              "    </tr>\n",
              "    <tr>\n",
              "      <th>2</th>\n",
              "      <td>2</td>\n",
              "      <td>1401</td>\n",
              "    </tr>\n",
              "    <tr>\n",
              "      <th>3</th>\n",
              "      <td>3</td>\n",
              "      <td>11</td>\n",
              "    </tr>\n",
              "  </tbody>\n",
              "</table>\n",
              "</div>\n",
              "      <button class=\"colab-df-convert\" onclick=\"convertToInteractive('df-190b538b-1d15-4066-b6ed-170a581c04ea')\"\n",
              "              title=\"Convert this dataframe to an interactive table.\"\n",
              "              style=\"display:none;\">\n",
              "        \n",
              "  <svg xmlns=\"http://www.w3.org/2000/svg\" height=\"24px\"viewBox=\"0 0 24 24\"\n",
              "       width=\"24px\">\n",
              "    <path d=\"M0 0h24v24H0V0z\" fill=\"none\"/>\n",
              "    <path d=\"M18.56 5.44l.94 2.06.94-2.06 2.06-.94-2.06-.94-.94-2.06-.94 2.06-2.06.94zm-11 1L8.5 8.5l.94-2.06 2.06-.94-2.06-.94L8.5 2.5l-.94 2.06-2.06.94zm10 10l.94 2.06.94-2.06 2.06-.94-2.06-.94-.94-2.06-.94 2.06-2.06.94z\"/><path d=\"M17.41 7.96l-1.37-1.37c-.4-.4-.92-.59-1.43-.59-.52 0-1.04.2-1.43.59L10.3 9.45l-7.72 7.72c-.78.78-.78 2.05 0 2.83L4 21.41c.39.39.9.59 1.41.59.51 0 1.02-.2 1.41-.59l7.78-7.78 2.81-2.81c.8-.78.8-2.07 0-2.86zM5.41 20L4 18.59l7.72-7.72 1.47 1.35L5.41 20z\"/>\n",
              "  </svg>\n",
              "      </button>\n",
              "      \n",
              "  <style>\n",
              "    .colab-df-container {\n",
              "      display:flex;\n",
              "      flex-wrap:wrap;\n",
              "      gap: 12px;\n",
              "    }\n",
              "\n",
              "    .colab-df-convert {\n",
              "      background-color: #E8F0FE;\n",
              "      border: none;\n",
              "      border-radius: 50%;\n",
              "      cursor: pointer;\n",
              "      display: none;\n",
              "      fill: #1967D2;\n",
              "      height: 32px;\n",
              "      padding: 0 0 0 0;\n",
              "      width: 32px;\n",
              "    }\n",
              "\n",
              "    .colab-df-convert:hover {\n",
              "      background-color: #E2EBFA;\n",
              "      box-shadow: 0px 1px 2px rgba(60, 64, 67, 0.3), 0px 1px 3px 1px rgba(60, 64, 67, 0.15);\n",
              "      fill: #174EA6;\n",
              "    }\n",
              "\n",
              "    [theme=dark] .colab-df-convert {\n",
              "      background-color: #3B4455;\n",
              "      fill: #D2E3FC;\n",
              "    }\n",
              "\n",
              "    [theme=dark] .colab-df-convert:hover {\n",
              "      background-color: #434B5C;\n",
              "      box-shadow: 0px 1px 3px 1px rgba(0, 0, 0, 0.15);\n",
              "      filter: drop-shadow(0px 1px 2px rgba(0, 0, 0, 0.3));\n",
              "      fill: #FFFFFF;\n",
              "    }\n",
              "  </style>\n",
              "\n",
              "      <script>\n",
              "        const buttonEl =\n",
              "          document.querySelector('#df-190b538b-1d15-4066-b6ed-170a581c04ea button.colab-df-convert');\n",
              "        buttonEl.style.display =\n",
              "          google.colab.kernel.accessAllowed ? 'block' : 'none';\n",
              "\n",
              "        async function convertToInteractive(key) {\n",
              "          const element = document.querySelector('#df-190b538b-1d15-4066-b6ed-170a581c04ea');\n",
              "          const dataTable =\n",
              "            await google.colab.kernel.invokeFunction('convertToInteractive',\n",
              "                                                     [key], {});\n",
              "          if (!dataTable) return;\n",
              "\n",
              "          const docLinkHtml = 'Like what you see? Visit the ' +\n",
              "            '<a target=\"_blank\" href=https://colab.research.google.com/notebooks/data_table.ipynb>data table notebook</a>'\n",
              "            + ' to learn more about interactive tables.';\n",
              "          element.innerHTML = '';\n",
              "          dataTable['output_type'] = 'display_data';\n",
              "          await google.colab.output.renderOutput(dataTable, element);\n",
              "          const docLink = document.createElement('div');\n",
              "          docLink.innerHTML = docLinkHtml;\n",
              "          element.appendChild(docLink);\n",
              "        }\n",
              "      </script>\n",
              "    </div>\n",
              "  </div>\n",
              "  "
            ]
          },
          "metadata": {},
          "execution_count": 32
        }
      ]
    },
    {
      "cell_type": "code",
      "source": [
        "#Agrego las frecuencias relativas\n",
        "\n",
        "fr=(df.CANT_TARJETAS_CREDITO.value_counts()/len(df.CANT_TARJETAS_CREDITO))*100\n",
        "lis=fr.values\n",
        "tabla_frec_cant_tarjetas[\"fr\"]=lis\n",
        "tabla_frec_cant_tarjetas"
      ],
      "metadata": {
        "id": "9GbhGJVNZPLB",
        "colab": {
          "base_uri": "https://localhost:8080/",
          "height": 175
        },
        "outputId": "87624cc6-f662-407d-e948-f82e316dd356"
      },
      "execution_count": null,
      "outputs": [
        {
          "output_type": "execute_result",
          "data": {
            "text/plain": [
              "   Cantidad de tarjetas    fa         fr\n",
              "0                     1  6014  58.207511\n",
              "1                     0  2906  28.126210\n",
              "2                     2  1401  13.559814\n",
              "3                     3    11   0.106465"
            ],
            "text/html": [
              "\n",
              "  <div id=\"df-9b7ede7a-76ad-46cb-ac73-d0d542f4d40b\">\n",
              "    <div class=\"colab-df-container\">\n",
              "      <div>\n",
              "<style scoped>\n",
              "    .dataframe tbody tr th:only-of-type {\n",
              "        vertical-align: middle;\n",
              "    }\n",
              "\n",
              "    .dataframe tbody tr th {\n",
              "        vertical-align: top;\n",
              "    }\n",
              "\n",
              "    .dataframe thead th {\n",
              "        text-align: right;\n",
              "    }\n",
              "</style>\n",
              "<table border=\"1\" class=\"dataframe\">\n",
              "  <thead>\n",
              "    <tr style=\"text-align: right;\">\n",
              "      <th></th>\n",
              "      <th>Cantidad de tarjetas</th>\n",
              "      <th>fa</th>\n",
              "      <th>fr</th>\n",
              "    </tr>\n",
              "  </thead>\n",
              "  <tbody>\n",
              "    <tr>\n",
              "      <th>0</th>\n",
              "      <td>1</td>\n",
              "      <td>6014</td>\n",
              "      <td>58.207511</td>\n",
              "    </tr>\n",
              "    <tr>\n",
              "      <th>1</th>\n",
              "      <td>0</td>\n",
              "      <td>2906</td>\n",
              "      <td>28.126210</td>\n",
              "    </tr>\n",
              "    <tr>\n",
              "      <th>2</th>\n",
              "      <td>2</td>\n",
              "      <td>1401</td>\n",
              "      <td>13.559814</td>\n",
              "    </tr>\n",
              "    <tr>\n",
              "      <th>3</th>\n",
              "      <td>3</td>\n",
              "      <td>11</td>\n",
              "      <td>0.106465</td>\n",
              "    </tr>\n",
              "  </tbody>\n",
              "</table>\n",
              "</div>\n",
              "      <button class=\"colab-df-convert\" onclick=\"convertToInteractive('df-9b7ede7a-76ad-46cb-ac73-d0d542f4d40b')\"\n",
              "              title=\"Convert this dataframe to an interactive table.\"\n",
              "              style=\"display:none;\">\n",
              "        \n",
              "  <svg xmlns=\"http://www.w3.org/2000/svg\" height=\"24px\"viewBox=\"0 0 24 24\"\n",
              "       width=\"24px\">\n",
              "    <path d=\"M0 0h24v24H0V0z\" fill=\"none\"/>\n",
              "    <path d=\"M18.56 5.44l.94 2.06.94-2.06 2.06-.94-2.06-.94-.94-2.06-.94 2.06-2.06.94zm-11 1L8.5 8.5l.94-2.06 2.06-.94-2.06-.94L8.5 2.5l-.94 2.06-2.06.94zm10 10l.94 2.06.94-2.06 2.06-.94-2.06-.94-.94-2.06-.94 2.06-2.06.94z\"/><path d=\"M17.41 7.96l-1.37-1.37c-.4-.4-.92-.59-1.43-.59-.52 0-1.04.2-1.43.59L10.3 9.45l-7.72 7.72c-.78.78-.78 2.05 0 2.83L4 21.41c.39.39.9.59 1.41.59.51 0 1.02-.2 1.41-.59l7.78-7.78 2.81-2.81c.8-.78.8-2.07 0-2.86zM5.41 20L4 18.59l7.72-7.72 1.47 1.35L5.41 20z\"/>\n",
              "  </svg>\n",
              "      </button>\n",
              "      \n",
              "  <style>\n",
              "    .colab-df-container {\n",
              "      display:flex;\n",
              "      flex-wrap:wrap;\n",
              "      gap: 12px;\n",
              "    }\n",
              "\n",
              "    .colab-df-convert {\n",
              "      background-color: #E8F0FE;\n",
              "      border: none;\n",
              "      border-radius: 50%;\n",
              "      cursor: pointer;\n",
              "      display: none;\n",
              "      fill: #1967D2;\n",
              "      height: 32px;\n",
              "      padding: 0 0 0 0;\n",
              "      width: 32px;\n",
              "    }\n",
              "\n",
              "    .colab-df-convert:hover {\n",
              "      background-color: #E2EBFA;\n",
              "      box-shadow: 0px 1px 2px rgba(60, 64, 67, 0.3), 0px 1px 3px 1px rgba(60, 64, 67, 0.15);\n",
              "      fill: #174EA6;\n",
              "    }\n",
              "\n",
              "    [theme=dark] .colab-df-convert {\n",
              "      background-color: #3B4455;\n",
              "      fill: #D2E3FC;\n",
              "    }\n",
              "\n",
              "    [theme=dark] .colab-df-convert:hover {\n",
              "      background-color: #434B5C;\n",
              "      box-shadow: 0px 1px 3px 1px rgba(0, 0, 0, 0.15);\n",
              "      filter: drop-shadow(0px 1px 2px rgba(0, 0, 0, 0.3));\n",
              "      fill: #FFFFFF;\n",
              "    }\n",
              "  </style>\n",
              "\n",
              "      <script>\n",
              "        const buttonEl =\n",
              "          document.querySelector('#df-9b7ede7a-76ad-46cb-ac73-d0d542f4d40b button.colab-df-convert');\n",
              "        buttonEl.style.display =\n",
              "          google.colab.kernel.accessAllowed ? 'block' : 'none';\n",
              "\n",
              "        async function convertToInteractive(key) {\n",
              "          const element = document.querySelector('#df-9b7ede7a-76ad-46cb-ac73-d0d542f4d40b');\n",
              "          const dataTable =\n",
              "            await google.colab.kernel.invokeFunction('convertToInteractive',\n",
              "                                                     [key], {});\n",
              "          if (!dataTable) return;\n",
              "\n",
              "          const docLinkHtml = 'Like what you see? Visit the ' +\n",
              "            '<a target=\"_blank\" href=https://colab.research.google.com/notebooks/data_table.ipynb>data table notebook</a>'\n",
              "            + ' to learn more about interactive tables.';\n",
              "          element.innerHTML = '';\n",
              "          dataTable['output_type'] = 'display_data';\n",
              "          await google.colab.output.renderOutput(dataTable, element);\n",
              "          const docLink = document.createElement('div');\n",
              "          docLink.innerHTML = docLinkHtml;\n",
              "          element.appendChild(docLink);\n",
              "        }\n",
              "      </script>\n",
              "    </div>\n",
              "  </div>\n",
              "  "
            ]
          },
          "metadata": {},
          "execution_count": 33
        }
      ]
    },
    {
      "cell_type": "code",
      "source": [
        "from pickle import FALSE\n",
        "#obtengo las frecuencias acumuladas\n",
        "# para eso armamos una funcion que me acumule los valores\n",
        "Fa=tabla_frec_cant_tarjetas[\"fa\"].values\n",
        "\n",
        "a=[]\n",
        "b=0\n",
        "for c in Fa:\n",
        "  b=c+b\n",
        "  a.append(b)"
      ],
      "metadata": {
        "id": "fyMdzf8Y1saW"
      },
      "execution_count": null,
      "outputs": []
    },
    {
      "cell_type": "code",
      "source": [
        "tabla_frec_cant_tarjetas[\"Faa\"]=a\n",
        "tabla_frec_cant_tarjetas"
      ],
      "metadata": {
        "id": "imh4sTUa12Po",
        "colab": {
          "base_uri": "https://localhost:8080/",
          "height": 175
        },
        "outputId": "d29fe34e-876e-4176-cd1b-fa6d4f903d29"
      },
      "execution_count": null,
      "outputs": [
        {
          "output_type": "execute_result",
          "data": {
            "text/plain": [
              "   Cantidad de tarjetas    fa         fr    Faa\n",
              "0                     1  6014  58.207511   6014\n",
              "1                     0  2906  28.126210   8920\n",
              "2                     2  1401  13.559814  10321\n",
              "3                     3    11   0.106465  10332"
            ],
            "text/html": [
              "\n",
              "  <div id=\"df-4b95d6c0-ee45-442a-9275-84c9b3591269\">\n",
              "    <div class=\"colab-df-container\">\n",
              "      <div>\n",
              "<style scoped>\n",
              "    .dataframe tbody tr th:only-of-type {\n",
              "        vertical-align: middle;\n",
              "    }\n",
              "\n",
              "    .dataframe tbody tr th {\n",
              "        vertical-align: top;\n",
              "    }\n",
              "\n",
              "    .dataframe thead th {\n",
              "        text-align: right;\n",
              "    }\n",
              "</style>\n",
              "<table border=\"1\" class=\"dataframe\">\n",
              "  <thead>\n",
              "    <tr style=\"text-align: right;\">\n",
              "      <th></th>\n",
              "      <th>Cantidad de tarjetas</th>\n",
              "      <th>fa</th>\n",
              "      <th>fr</th>\n",
              "      <th>Faa</th>\n",
              "    </tr>\n",
              "  </thead>\n",
              "  <tbody>\n",
              "    <tr>\n",
              "      <th>0</th>\n",
              "      <td>1</td>\n",
              "      <td>6014</td>\n",
              "      <td>58.207511</td>\n",
              "      <td>6014</td>\n",
              "    </tr>\n",
              "    <tr>\n",
              "      <th>1</th>\n",
              "      <td>0</td>\n",
              "      <td>2906</td>\n",
              "      <td>28.126210</td>\n",
              "      <td>8920</td>\n",
              "    </tr>\n",
              "    <tr>\n",
              "      <th>2</th>\n",
              "      <td>2</td>\n",
              "      <td>1401</td>\n",
              "      <td>13.559814</td>\n",
              "      <td>10321</td>\n",
              "    </tr>\n",
              "    <tr>\n",
              "      <th>3</th>\n",
              "      <td>3</td>\n",
              "      <td>11</td>\n",
              "      <td>0.106465</td>\n",
              "      <td>10332</td>\n",
              "    </tr>\n",
              "  </tbody>\n",
              "</table>\n",
              "</div>\n",
              "      <button class=\"colab-df-convert\" onclick=\"convertToInteractive('df-4b95d6c0-ee45-442a-9275-84c9b3591269')\"\n",
              "              title=\"Convert this dataframe to an interactive table.\"\n",
              "              style=\"display:none;\">\n",
              "        \n",
              "  <svg xmlns=\"http://www.w3.org/2000/svg\" height=\"24px\"viewBox=\"0 0 24 24\"\n",
              "       width=\"24px\">\n",
              "    <path d=\"M0 0h24v24H0V0z\" fill=\"none\"/>\n",
              "    <path d=\"M18.56 5.44l.94 2.06.94-2.06 2.06-.94-2.06-.94-.94-2.06-.94 2.06-2.06.94zm-11 1L8.5 8.5l.94-2.06 2.06-.94-2.06-.94L8.5 2.5l-.94 2.06-2.06.94zm10 10l.94 2.06.94-2.06 2.06-.94-2.06-.94-.94-2.06-.94 2.06-2.06.94z\"/><path d=\"M17.41 7.96l-1.37-1.37c-.4-.4-.92-.59-1.43-.59-.52 0-1.04.2-1.43.59L10.3 9.45l-7.72 7.72c-.78.78-.78 2.05 0 2.83L4 21.41c.39.39.9.59 1.41.59.51 0 1.02-.2 1.41-.59l7.78-7.78 2.81-2.81c.8-.78.8-2.07 0-2.86zM5.41 20L4 18.59l7.72-7.72 1.47 1.35L5.41 20z\"/>\n",
              "  </svg>\n",
              "      </button>\n",
              "      \n",
              "  <style>\n",
              "    .colab-df-container {\n",
              "      display:flex;\n",
              "      flex-wrap:wrap;\n",
              "      gap: 12px;\n",
              "    }\n",
              "\n",
              "    .colab-df-convert {\n",
              "      background-color: #E8F0FE;\n",
              "      border: none;\n",
              "      border-radius: 50%;\n",
              "      cursor: pointer;\n",
              "      display: none;\n",
              "      fill: #1967D2;\n",
              "      height: 32px;\n",
              "      padding: 0 0 0 0;\n",
              "      width: 32px;\n",
              "    }\n",
              "\n",
              "    .colab-df-convert:hover {\n",
              "      background-color: #E2EBFA;\n",
              "      box-shadow: 0px 1px 2px rgba(60, 64, 67, 0.3), 0px 1px 3px 1px rgba(60, 64, 67, 0.15);\n",
              "      fill: #174EA6;\n",
              "    }\n",
              "\n",
              "    [theme=dark] .colab-df-convert {\n",
              "      background-color: #3B4455;\n",
              "      fill: #D2E3FC;\n",
              "    }\n",
              "\n",
              "    [theme=dark] .colab-df-convert:hover {\n",
              "      background-color: #434B5C;\n",
              "      box-shadow: 0px 1px 3px 1px rgba(0, 0, 0, 0.15);\n",
              "      filter: drop-shadow(0px 1px 2px rgba(0, 0, 0, 0.3));\n",
              "      fill: #FFFFFF;\n",
              "    }\n",
              "  </style>\n",
              "\n",
              "      <script>\n",
              "        const buttonEl =\n",
              "          document.querySelector('#df-4b95d6c0-ee45-442a-9275-84c9b3591269 button.colab-df-convert');\n",
              "        buttonEl.style.display =\n",
              "          google.colab.kernel.accessAllowed ? 'block' : 'none';\n",
              "\n",
              "        async function convertToInteractive(key) {\n",
              "          const element = document.querySelector('#df-4b95d6c0-ee45-442a-9275-84c9b3591269');\n",
              "          const dataTable =\n",
              "            await google.colab.kernel.invokeFunction('convertToInteractive',\n",
              "                                                     [key], {});\n",
              "          if (!dataTable) return;\n",
              "\n",
              "          const docLinkHtml = 'Like what you see? Visit the ' +\n",
              "            '<a target=\"_blank\" href=https://colab.research.google.com/notebooks/data_table.ipynb>data table notebook</a>'\n",
              "            + ' to learn more about interactive tables.';\n",
              "          element.innerHTML = '';\n",
              "          dataTable['output_type'] = 'display_data';\n",
              "          await google.colab.output.renderOutput(dataTable, element);\n",
              "          const docLink = document.createElement('div');\n",
              "          docLink.innerHTML = docLinkHtml;\n",
              "          element.appendChild(docLink);\n",
              "        }\n",
              "      </script>\n",
              "    </div>\n",
              "  </div>\n",
              "  "
            ]
          },
          "metadata": {},
          "execution_count": 35
        }
      ]
    },
    {
      "cell_type": "code",
      "source": [
        "#Hacemos lo mismo con frecuencias relativas acumuladas\n",
        "fra=tabla_frec_cant_tarjetas[\"fr\"].values\n",
        "a=[]\n",
        "b=0\n",
        "for c in fra:\n",
        "  b=c+b\n",
        "  a.append(b)\n",
        "\n",
        "tabla_frec_cant_tarjetas[\"Fra\"]=a\n",
        "tabla_frec_cant_tarjetas"
      ],
      "metadata": {
        "id": "qSPbfnG6aQnA",
        "colab": {
          "base_uri": "https://localhost:8080/",
          "height": 175
        },
        "outputId": "c4477bc5-cece-4cd4-e0cb-5710aebc40aa"
      },
      "execution_count": null,
      "outputs": [
        {
          "output_type": "execute_result",
          "data": {
            "text/plain": [
              "   Cantidad de tarjetas    fa         fr    Faa         Fra\n",
              "0                     1  6014  58.207511   6014   58.207511\n",
              "1                     0  2906  28.126210   8920   86.333720\n",
              "2                     2  1401  13.559814  10321   99.893535\n",
              "3                     3    11   0.106465  10332  100.000000"
            ],
            "text/html": [
              "\n",
              "  <div id=\"df-881e9f4c-3201-467d-a6cc-d319de1f6707\">\n",
              "    <div class=\"colab-df-container\">\n",
              "      <div>\n",
              "<style scoped>\n",
              "    .dataframe tbody tr th:only-of-type {\n",
              "        vertical-align: middle;\n",
              "    }\n",
              "\n",
              "    .dataframe tbody tr th {\n",
              "        vertical-align: top;\n",
              "    }\n",
              "\n",
              "    .dataframe thead th {\n",
              "        text-align: right;\n",
              "    }\n",
              "</style>\n",
              "<table border=\"1\" class=\"dataframe\">\n",
              "  <thead>\n",
              "    <tr style=\"text-align: right;\">\n",
              "      <th></th>\n",
              "      <th>Cantidad de tarjetas</th>\n",
              "      <th>fa</th>\n",
              "      <th>fr</th>\n",
              "      <th>Faa</th>\n",
              "      <th>Fra</th>\n",
              "    </tr>\n",
              "  </thead>\n",
              "  <tbody>\n",
              "    <tr>\n",
              "      <th>0</th>\n",
              "      <td>1</td>\n",
              "      <td>6014</td>\n",
              "      <td>58.207511</td>\n",
              "      <td>6014</td>\n",
              "      <td>58.207511</td>\n",
              "    </tr>\n",
              "    <tr>\n",
              "      <th>1</th>\n",
              "      <td>0</td>\n",
              "      <td>2906</td>\n",
              "      <td>28.126210</td>\n",
              "      <td>8920</td>\n",
              "      <td>86.333720</td>\n",
              "    </tr>\n",
              "    <tr>\n",
              "      <th>2</th>\n",
              "      <td>2</td>\n",
              "      <td>1401</td>\n",
              "      <td>13.559814</td>\n",
              "      <td>10321</td>\n",
              "      <td>99.893535</td>\n",
              "    </tr>\n",
              "    <tr>\n",
              "      <th>3</th>\n",
              "      <td>3</td>\n",
              "      <td>11</td>\n",
              "      <td>0.106465</td>\n",
              "      <td>10332</td>\n",
              "      <td>100.000000</td>\n",
              "    </tr>\n",
              "  </tbody>\n",
              "</table>\n",
              "</div>\n",
              "      <button class=\"colab-df-convert\" onclick=\"convertToInteractive('df-881e9f4c-3201-467d-a6cc-d319de1f6707')\"\n",
              "              title=\"Convert this dataframe to an interactive table.\"\n",
              "              style=\"display:none;\">\n",
              "        \n",
              "  <svg xmlns=\"http://www.w3.org/2000/svg\" height=\"24px\"viewBox=\"0 0 24 24\"\n",
              "       width=\"24px\">\n",
              "    <path d=\"M0 0h24v24H0V0z\" fill=\"none\"/>\n",
              "    <path d=\"M18.56 5.44l.94 2.06.94-2.06 2.06-.94-2.06-.94-.94-2.06-.94 2.06-2.06.94zm-11 1L8.5 8.5l.94-2.06 2.06-.94-2.06-.94L8.5 2.5l-.94 2.06-2.06.94zm10 10l.94 2.06.94-2.06 2.06-.94-2.06-.94-.94-2.06-.94 2.06-2.06.94z\"/><path d=\"M17.41 7.96l-1.37-1.37c-.4-.4-.92-.59-1.43-.59-.52 0-1.04.2-1.43.59L10.3 9.45l-7.72 7.72c-.78.78-.78 2.05 0 2.83L4 21.41c.39.39.9.59 1.41.59.51 0 1.02-.2 1.41-.59l7.78-7.78 2.81-2.81c.8-.78.8-2.07 0-2.86zM5.41 20L4 18.59l7.72-7.72 1.47 1.35L5.41 20z\"/>\n",
              "  </svg>\n",
              "      </button>\n",
              "      \n",
              "  <style>\n",
              "    .colab-df-container {\n",
              "      display:flex;\n",
              "      flex-wrap:wrap;\n",
              "      gap: 12px;\n",
              "    }\n",
              "\n",
              "    .colab-df-convert {\n",
              "      background-color: #E8F0FE;\n",
              "      border: none;\n",
              "      border-radius: 50%;\n",
              "      cursor: pointer;\n",
              "      display: none;\n",
              "      fill: #1967D2;\n",
              "      height: 32px;\n",
              "      padding: 0 0 0 0;\n",
              "      width: 32px;\n",
              "    }\n",
              "\n",
              "    .colab-df-convert:hover {\n",
              "      background-color: #E2EBFA;\n",
              "      box-shadow: 0px 1px 2px rgba(60, 64, 67, 0.3), 0px 1px 3px 1px rgba(60, 64, 67, 0.15);\n",
              "      fill: #174EA6;\n",
              "    }\n",
              "\n",
              "    [theme=dark] .colab-df-convert {\n",
              "      background-color: #3B4455;\n",
              "      fill: #D2E3FC;\n",
              "    }\n",
              "\n",
              "    [theme=dark] .colab-df-convert:hover {\n",
              "      background-color: #434B5C;\n",
              "      box-shadow: 0px 1px 3px 1px rgba(0, 0, 0, 0.15);\n",
              "      filter: drop-shadow(0px 1px 2px rgba(0, 0, 0, 0.3));\n",
              "      fill: #FFFFFF;\n",
              "    }\n",
              "  </style>\n",
              "\n",
              "      <script>\n",
              "        const buttonEl =\n",
              "          document.querySelector('#df-881e9f4c-3201-467d-a6cc-d319de1f6707 button.colab-df-convert');\n",
              "        buttonEl.style.display =\n",
              "          google.colab.kernel.accessAllowed ? 'block' : 'none';\n",
              "\n",
              "        async function convertToInteractive(key) {\n",
              "          const element = document.querySelector('#df-881e9f4c-3201-467d-a6cc-d319de1f6707');\n",
              "          const dataTable =\n",
              "            await google.colab.kernel.invokeFunction('convertToInteractive',\n",
              "                                                     [key], {});\n",
              "          if (!dataTable) return;\n",
              "\n",
              "          const docLinkHtml = 'Like what you see? Visit the ' +\n",
              "            '<a target=\"_blank\" href=https://colab.research.google.com/notebooks/data_table.ipynb>data table notebook</a>'\n",
              "            + ' to learn more about interactive tables.';\n",
              "          element.innerHTML = '';\n",
              "          dataTable['output_type'] = 'display_data';\n",
              "          await google.colab.output.renderOutput(dataTable, element);\n",
              "          const docLink = document.createElement('div');\n",
              "          docLink.innerHTML = docLinkHtml;\n",
              "          element.appendChild(docLink);\n",
              "        }\n",
              "      </script>\n",
              "    </div>\n",
              "  </div>\n",
              "  "
            ]
          },
          "metadata": {},
          "execution_count": 36
        }
      ]
    },
    {
      "cell_type": "code",
      "source": [
        "#Gráfico de bastones\n",
        "plt.figure(figsize=(12,8)) # elijo el tamaño de mi gráfica\n",
        "sn.countplot(data=df, x='CANT_TARJETAS_CREDITO')\n",
        "plt.ylabel('Frec absoluta')\n",
        "plt.xlabel('Años')\n",
        "plt.title('Cantidad de años')\n",
        "#plt.legend()\n",
        "plt.grid(True)  #quiero poner grilla\n"
      ],
      "metadata": {
        "id": "FWlkoiRdYg6n",
        "colab": {
          "base_uri": "https://localhost:8080/",
          "height": 669
        },
        "outputId": "50c16b34-e53e-4c6f-90d0-5baa50284300"
      },
      "execution_count": null,
      "outputs": [
        {
          "output_type": "display_data",
          "data": {
            "text/plain": [
              "<Figure size 1200x800 with 1 Axes>"
            ],
            "image/png": "[encoded data removed]"
          },
          "metadata": {}
        }
      ]
    },
    {
      "cell_type": "markdown",
      "source": [
        "**Variables numéricas continuas**"
      ],
      "metadata": {
        "id": "wf1MQztQeDMB"
      }
    },
    {
      "cell_type": "code",
      "source": [
        "df[\"EDAD\"] = pd.cut(df[\"EDAD\"], bins=6)\n",
        "\n",
        "(df.groupby(\"EDAD\")\n",
        "  .agg(frequency=(\"EDAD\", \"count\")))"
      ],
      "metadata": {
        "id": "rzC2RmDreOVU",
        "colab": {
          "base_uri": "https://localhost:8080/",
          "height": 269
        },
        "outputId": "72e41199-a8fa-48d4-9e37-549094ca162d"
      },
      "execution_count": null,
      "outputs": [
        {
          "output_type": "execute_result",
          "data": {
            "text/plain": [
              "                  frequency\n",
              "EDAD                       \n",
              "(19.923, 32.833]       1026\n",
              "(32.833, 45.667]       2732\n",
              "(45.667, 58.5]         2650\n",
              "(58.5, 71.333]         2605\n",
              "(71.333, 84.167]       1249\n",
              "(84.167, 97.0]           70"
            ],
            "text/html": [
              "\n",
              "  <div id=\"df-c0513918-9cab-4f32-84f3-af83d22ebe8e\">\n",
              "    <div class=\"colab-df-container\">\n",
              "      <div>\n",
              "<style scoped>\n",
              "    .dataframe tbody tr th:only-of-type {\n",
              "        vertical-align: middle;\n",
              "    }\n",
              "\n",
              "    .dataframe tbody tr th {\n",
              "        vertical-align: top;\n",
              "    }\n",
              "\n",
              "    .dataframe thead th {\n",
              "        text-align: right;\n",
              "    }\n",
              "</style>\n",
              "<table border=\"1\" class=\"dataframe\">\n",
              "  <thead>\n",
              "    <tr style=\"text-align: right;\">\n",
              "      <th></th>\n",
              "      <th>frequency</th>\n",
              "    </tr>\n",
              "    <tr>\n",
              "      <th>EDAD</th>\n",
              "      <th></th>\n",
              "    </tr>\n",
              "  </thead>\n",
              "  <tbody>\n",
              "    <tr>\n",
              "      <th>(19.923, 32.833]</th>\n",
              "      <td>1026</td>\n",
              "    </tr>\n",
              "    <tr>\n",
              "      <th>(32.833, 45.667]</th>\n",
              "      <td>2732</td>\n",
              "    </tr>\n",
              "    <tr>\n",
              "      <th>(45.667, 58.5]</th>\n",
              "      <td>2650</td>\n",
              "    </tr>\n",
              "    <tr>\n",
              "      <th>(58.5, 71.333]</th>\n",
              "      <td>2605</td>\n",
              "    </tr>\n",
              "    <tr>\n",
              "      <th>(71.333, 84.167]</th>\n",
              "      <td>1249</td>\n",
              "    </tr>\n",
              "    <tr>\n",
              "      <th>(84.167, 97.0]</th>\n",
              "      <td>70</td>\n",
              "    </tr>\n",
              "  </tbody>\n",
              "</table>\n",
              "</div>\n",
              "      <button class=\"colab-df-convert\" onclick=\"convertToInteractive('df-c0513918-9cab-4f32-84f3-af83d22ebe8e')\"\n",
              "              title=\"Convert this dataframe to an interactive table.\"\n",
              "              style=\"display:none;\">\n",
              "        \n",
              "  <svg xmlns=\"http://www.w3.org/2000/svg\" height=\"24px\"viewBox=\"0 0 24 24\"\n",
              "       width=\"24px\">\n",
              "    <path d=\"M0 0h24v24H0V0z\" fill=\"none\"/>\n",
              "    <path d=\"M18.56 5.44l.94 2.06.94-2.06 2.06-.94-2.06-.94-.94-2.06-.94 2.06-2.06.94zm-11 1L8.5 8.5l.94-2.06 2.06-.94-2.06-.94L8.5 2.5l-.94 2.06-2.06.94zm10 10l.94 2.06.94-2.06 2.06-.94-2.06-.94-.94-2.06-.94 2.06-2.06.94z\"/><path d=\"M17.41 7.96l-1.37-1.37c-.4-.4-.92-.59-1.43-.59-.52 0-1.04.2-1.43.59L10.3 9.45l-7.72 7.72c-.78.78-.78 2.05 0 2.83L4 21.41c.39.39.9.59 1.41.59.51 0 1.02-.2 1.41-.59l7.78-7.78 2.81-2.81c.8-.78.8-2.07 0-2.86zM5.41 20L4 18.59l7.72-7.72 1.47 1.35L5.41 20z\"/>\n",
              "  </svg>\n",
              "      </button>\n",
              "      \n",
              "  <style>\n",
              "    .colab-df-container {\n",
              "      display:flex;\n",
              "      flex-wrap:wrap;\n",
              "      gap: 12px;\n",
              "    }\n",
              "\n",
              "    .colab-df-convert {\n",
              "      background-color: #E8F0FE;\n",
              "      border: none;\n",
              "      border-radius: 50%;\n",
              "      cursor: pointer;\n",
              "      display: none;\n",
              "      fill: #1967D2;\n",
              "      height: 32px;\n",
              "      padding: 0 0 0 0;\n",
              "      width: 32px;\n",
              "    }\n",
              "\n",
              "    .colab-df-convert:hover {\n",
              "      background-color: #E2EBFA;\n",
              "      box-shadow: 0px 1px 2px rgba(60, 64, 67, 0.3), 0px 1px 3px 1px rgba(60, 64, 67, 0.15);\n",
              "      fill: #174EA6;\n",
              "    }\n",
              "\n",
              "    [theme=dark] .colab-df-convert {\n",
              "      background-color: #3B4455;\n",
              "      fill: #D2E3FC;\n",
              "    }\n",
              "\n",
              "    [theme=dark] .colab-df-convert:hover {\n",
              "      background-color: #434B5C;\n",
              "      box-shadow: 0px 1px 3px 1px rgba(0, 0, 0, 0.15);\n",
              "      filter: drop-shadow(0px 1px 2px rgba(0, 0, 0, 0.3));\n",
              "      fill: #FFFFFF;\n",
              "    }\n",
              "  </style>\n",
              "\n",
              "      <script>\n",
              "        const buttonEl =\n",
              "          document.querySelector('#df-c0513918-9cab-4f32-84f3-af83d22ebe8e button.colab-df-convert');\n",
              "        buttonEl.style.display =\n",
              "          google.colab.kernel.accessAllowed ? 'block' : 'none';\n",
              "\n",
              "        async function convertToInteractive(key) {\n",
              "          const element = document.querySelector('#df-c0513918-9cab-4f32-84f3-af83d22ebe8e');\n",
              "          const dataTable =\n",
              "            await google.colab.kernel.invokeFunction('convertToInteractive',\n",
              "                                                     [key], {});\n",
              "          if (!dataTable) return;\n",
              "\n",
              "          const docLinkHtml = 'Like what you see? Visit the ' +\n",
              "            '<a target=\"_blank\" href=https://colab.research.google.com/notebooks/data_table.ipynb>data table notebook</a>'\n",
              "            + ' to learn more about interactive tables.';\n",
              "          element.innerHTML = '';\n",
              "          dataTable['output_type'] = 'display_data';\n",
              "          await google.colab.output.renderOutput(dataTable, element);\n",
              "          const docLink = document.createElement('div');\n",
              "          docLink.innerHTML = docLinkHtml;\n",
              "          element.appendChild(docLink);\n",
              "        }\n",
              "      </script>\n",
              "    </div>\n",
              "  </div>\n",
              "  "
            ]
          },
          "metadata": {},
          "execution_count": 51
        }
      ]
    },
    {
      "cell_type": "code",
      "source": [
        "plt.figure(figsize=(12,8))\n",
        "intervalos = range(min(df.EDAD), max(df.EDAD) + 2)\n",
        "plt.hist(data=df, x='EDAD', bins=15, color='#F2AB6D', rwidth=0.99) #binds es el nro de intervalos\n",
        "plt.title('Histograma de edades - matplotlib - codigopiton.com')\n",
        "plt.xlabel('Edades')\n",
        "plt.ylabel('Frecuencia')\n",
        "plt.xticks()\n",
        "plt.show()"
      ],
      "metadata": {
        "id": "BODhyacNMRdZ",
        "colab": {
          "base_uri": "https://localhost:8080/",
          "height": 666
        },
        "outputId": "eca5ea00-e0ed-40f8-fc66-598b5f316a5e"
      },
      "execution_count": null,
      "outputs": [
        {
          "output_type": "display_data",
          "data": {
            "text/plain": [
              "<Figure size 1200x800 with 1 Axes>"
            ],
            "image/png": "[encoded data removed]"
          },
          "metadata": {}
        }
      ]
    },
    {
      "cell_type": "markdown",
      "source": [
        "**Análisis de dos variables cualitativas**"
      ],
      "metadata": {
        "id": "xfhlO8XleloP"
      }
    },
    {
      "cell_type": "code",
      "source": [
        "#Puedo necesitar segmentarlo por alguna variable de interes\n",
        "#Gráfico Estado civil por Sexo\n",
        "plt.figure(figsize=(12,8)) # elijo el tamaño de mi gráfica\n",
        "sn.countplot(data=df, x='ESTADO_CIVIL', hue='SEXO')\n",
        "plt.ylabel('cantidad',size=15)\n",
        "plt.xlabel('Estado civil',size=15)\n",
        "plt.title('Cantidad de personas segun su estado civil',size=15)\n",
        "plt.legend()\n",
        "plt.grid(True)  #quiero poner grilla"
      ],
      "metadata": {
        "id": "VVP9Ty0IW4z5",
        "colab": {
          "base_uri": "https://localhost:8080/",
          "height": 672
        },
        "outputId": "9c811f8e-32df-4a7b-abf2-29fbc2e6b852"
      },
      "execution_count": null,
      "outputs": [
        {
          "output_type": "display_data",
          "data": {
            "text/plain": [
              "<Figure size 1200x800 with 1 Axes>"
            ],
            "image/png": "[encoded data removed]"
          },
          "metadata": {}
        }
      ]
    },
    {
      "cell_type": "code",
      "source": [
        "#Gráfico de barras apiladas\n",
        "plt.figure(figsize=(12,8)) # elijo el tamaño de mi gráfica\n",
        "pd.crosstab(index=df['ESTADO_CIVIL'],\n",
        "            columns=df['SEXO']\n",
        "                  ).apply(lambda r: r/r.sum()*100,\n",
        "                          axis=1).plot(kind='bar', stacked=True,figsize=(8,5))\n",
        "plt.title(\"Nivel de Satisfacción según Tipo\")\n",
        "plt.xlabel(\"Estado civil\")\n",
        "plt.ylabel(\"Porcentaje por género\")\n",
        "plt.legend\n",
        "plt.grid(True)"
      ],
      "metadata": {
        "id": "A0fp3SyoosTb",
        "colab": {
          "base_uri": "https://localhost:8080/",
          "height": 578
        },
        "outputId": "af5c8164-ea29-40dd-c594-a8f5fca9534b"
      },
      "execution_count": null,
      "outputs": [
        {
          "output_type": "display_data",
          "data": {
            "text/plain": [
              "<Figure size 1200x800 with 0 Axes>"
            ]
          },
          "metadata": {}
        },
        {
          "output_type": "display_data",
          "data": {
            "text/plain": [
              "<Figure size 800x500 with 1 Axes>"
            ],
            "image/png": "[encoded data removed]"
          },
          "metadata": {}
        }
      ]
    },
    {
      "cell_type": "code",
      "source": [
        "# Tabla de contingencia Variables Satisf vs Sexo\n",
        "pd.crosstab(index=df['SEXO'], columns=df['ESTADO_CIVIL'], margins=True)"
      ],
      "metadata": {
        "id": "Qwrzlq-LCCFY",
        "colab": {
          "base_uri": "https://localhost:8080/",
          "height": 175
        },
        "outputId": "e6637f5f-6429-4382-d018-0cc6d3b3e08a"
      },
      "execution_count": null,
      "outputs": [
        {
          "output_type": "execute_result",
          "data": {
            "text/plain": [
              "ESTADO_CIVIL  Casado/a  Conviviente  Divorciado/a  Soltero/a  Union Civil  \\\n",
              "SEXO                                                                        \n",
              "FEMENINO          1377           30           415       3132            1   \n",
              "MASCULINO         1470           42           208       2693            4   \n",
              "All               2847           72           623       5825            5   \n",
              "\n",
              "ESTADO_CIVIL  Viudo/a    All  \n",
              "SEXO                          \n",
              "FEMENINO          809   5764  \n",
              "MASCULINO         151   4568  \n",
              "All               960  10332  "
            ],
            "text/html": [
              "\n",
              "  <div id=\"df-261c4b15-a92d-4659-b7bf-fe815f605d9b\">\n",
              "    <div class=\"colab-df-container\">\n",
              "      <div>\n",
              "<style scoped>\n",
              "    .dataframe tbody tr th:only-of-type {\n",
              "        vertical-align: middle;\n",
              "    }\n",
              "\n",
              "    .dataframe tbody tr th {\n",
              "        vertical-align: top;\n",
              "    }\n",
              "\n",
              "    .dataframe thead th {\n",
              "        text-align: right;\n",
              "    }\n",
              "</style>\n",
              "<table border=\"1\" class=\"dataframe\">\n",
              "  <thead>\n",
              "    <tr style=\"text-align: right;\">\n",
              "      <th>ESTADO_CIVIL</th>\n",
              "      <th>Casado/a</th>\n",
              "      <th>Conviviente</th>\n",
              "      <th>Divorciado/a</th>\n",
              "      <th>Soltero/a</th>\n",
              "      <th>Union Civil</th>\n",
              "      <th>Viudo/a</th>\n",
              "      <th>All</th>\n",
              "    </tr>\n",
              "    <tr>\n",
              "      <th>SEXO</th>\n",
              "      <th></th>\n",
              "      <th></th>\n",
              "      <th></th>\n",
              "      <th></th>\n",
              "      <th></th>\n",
              "      <th></th>\n",
              "      <th></th>\n",
              "    </tr>\n",
              "  </thead>\n",
              "  <tbody>\n",
              "    <tr>\n",
              "      <th>FEMENINO</th>\n",
              "      <td>1377</td>\n",
              "      <td>30</td>\n",
              "      <td>415</td>\n",
              "      <td>3132</td>\n",
              "      <td>1</td>\n",
              "      <td>809</td>\n",
              "      <td>5764</td>\n",
              "    </tr>\n",
              "    <tr>\n",
              "      <th>MASCULINO</th>\n",
              "      <td>1470</td>\n",
              "      <td>42</td>\n",
              "      <td>208</td>\n",
              "      <td>2693</td>\n",
              "      <td>4</td>\n",
              "      <td>151</td>\n",
              "      <td>4568</td>\n",
              "    </tr>\n",
              "    <tr>\n",
              "      <th>All</th>\n",
              "      <td>2847</td>\n",
              "      <td>72</td>\n",
              "      <td>623</td>\n",
              "      <td>5825</td>\n",
              "      <td>5</td>\n",
              "      <td>960</td>\n",
              "      <td>10332</td>\n",
              "    </tr>\n",
              "  </tbody>\n",
              "</table>\n",
              "</div>\n",
              "      <button class=\"colab-df-convert\" onclick=\"convertToInteractive('df-261c4b15-a92d-4659-b7bf-fe815f605d9b')\"\n",
              "              title=\"Convert this dataframe to an interactive table.\"\n",
              "              style=\"display:none;\">\n",
              "        \n",
              "  <svg xmlns=\"http://www.w3.org/2000/svg\" height=\"24px\"viewBox=\"0 0 24 24\"\n",
              "       width=\"24px\">\n",
              "    <path d=\"M0 0h24v24H0V0z\" fill=\"none\"/>\n",
              "    <path d=\"M18.56 5.44l.94 2.06.94-2.06 2.06-.94-2.06-.94-.94-2.06-.94 2.06-2.06.94zm-11 1L8.5 8.5l.94-2.06 2.06-.94-2.06-.94L8.5 2.5l-.94 2.06-2.06.94zm10 10l.94 2.06.94-2.06 2.06-.94-2.06-.94-.94-2.06-.94 2.06-2.06.94z\"/><path d=\"M17.41 7.96l-1.37-1.37c-.4-.4-.92-.59-1.43-.59-.52 0-1.04.2-1.43.59L10.3 9.45l-7.72 7.72c-.78.78-.78 2.05 0 2.83L4 21.41c.39.39.9.59 1.41.59.51 0 1.02-.2 1.41-.59l7.78-7.78 2.81-2.81c.8-.78.8-2.07 0-2.86zM5.41 20L4 18.59l7.72-7.72 1.47 1.35L5.41 20z\"/>\n",
              "  </svg>\n",
              "      </button>\n",
              "      \n",
              "  <style>\n",
              "    .colab-df-container {\n",
              "      display:flex;\n",
              "      flex-wrap:wrap;\n",
              "      gap: 12px;\n",
              "    }\n",
              "\n",
              "    .colab-df-convert {\n",
              "      background-color: #E8F0FE;\n",
              "      border: none;\n",
              "      border-radius: 50%;\n",
              "      cursor: pointer;\n",
              "      display: none;\n",
              "      fill: #1967D2;\n",
              "      height: 32px;\n",
              "      padding: 0 0 0 0;\n",
              "      width: 32px;\n",
              "    }\n",
              "\n",
              "    .colab-df-convert:hover {\n",
              "      background-color: #E2EBFA;\n",
              "      box-shadow: 0px 1px 2px rgba(60, 64, 67, 0.3), 0px 1px 3px 1px rgba(60, 64, 67, 0.15);\n",
              "      fill: #174EA6;\n",
              "    }\n",
              "\n",
              "    [theme=dark] .colab-df-convert {\n",
              "      background-color: #3B4455;\n",
              "      fill: #D2E3FC;\n",
              "    }\n",
              "\n",
              "    [theme=dark] .colab-df-convert:hover {\n",
              "      background-color: #434B5C;\n",
              "      box-shadow: 0px 1px 3px 1px rgba(0, 0, 0, 0.15);\n",
              "      filter: drop-shadow(0px 1px 2px rgba(0, 0, 0, 0.3));\n",
              "      fill: #FFFFFF;\n",
              "    }\n",
              "  </style>\n",
              "\n",
              "      <script>\n",
              "        const buttonEl =\n",
              "          document.querySelector('#df-261c4b15-a92d-4659-b7bf-fe815f605d9b button.colab-df-convert');\n",
              "        buttonEl.style.display =\n",
              "          google.colab.kernel.accessAllowed ? 'block' : 'none';\n",
              "\n",
              "        async function convertToInteractive(key) {\n",
              "          const element = document.querySelector('#df-261c4b15-a92d-4659-b7bf-fe815f605d9b');\n",
              "          const dataTable =\n",
              "            await google.colab.kernel.invokeFunction('convertToInteractive',\n",
              "                                                     [key], {});\n",
              "          if (!dataTable) return;\n",
              "\n",
              "          const docLinkHtml = 'Like what you see? Visit the ' +\n",
              "            '<a target=\"_blank\" href=https://colab.research.google.com/notebooks/data_table.ipynb>data table notebook</a>'\n",
              "            + ' to learn more about interactive tables.';\n",
              "          element.innerHTML = '';\n",
              "          dataTable['output_type'] = 'display_data';\n",
              "          await google.colab.output.renderOutput(dataTable, element);\n",
              "          const docLink = document.createElement('div');\n",
              "          docLink.innerHTML = docLinkHtml;\n",
              "          element.appendChild(docLink);\n",
              "        }\n",
              "      </script>\n",
              "    </div>\n",
              "  </div>\n",
              "  "
            ]
          },
          "metadata": {},
          "execution_count": 54
        }
      ]
    },
    {
      "cell_type": "code",
      "source": [
        "# tabla de contingencia frecuencias relativas (base total de observaciones)\n",
        "pd.crosstab(index=df['SEXO'], columns=df['ESTADO_CIVIL'],\n",
        "            margins=True).apply(lambda r: r/len(df) #*100\n",
        "                                ,axis=1)"
      ],
      "metadata": {
        "id": "eATN_xeMCCLg",
        "colab": {
          "base_uri": "https://localhost:8080/",
          "height": 175
        },
        "outputId": "3786b4fc-4637-44e8-a227-96761bec0d9e"
      },
      "execution_count": null,
      "outputs": [
        {
          "output_type": "execute_result",
          "data": {
            "text/plain": [
              "ESTADO_CIVIL  Casado/a  Conviviente  Divorciado/a  Soltero/a  Union Civil  \\\n",
              "SEXO                                                                        \n",
              "FEMENINO      0.133275     0.002904      0.040166   0.303136     0.000097   \n",
              "MASCULINO     0.142276     0.004065      0.020132   0.260647     0.000387   \n",
              "All           0.275552     0.006969      0.060298   0.563782     0.000484   \n",
              "\n",
              "ESTADO_CIVIL   Viudo/a       All  \n",
              "SEXO                              \n",
              "FEMENINO      0.078300  0.557878  \n",
              "MASCULINO     0.014615  0.442122  \n",
              "All           0.092915  1.000000  "
            ],
            "text/html": [
              "\n",
              "  <div id=\"df-76d82289-e888-4ec1-b89b-c26a5e6640e0\">\n",
              "    <div class=\"colab-df-container\">\n",
              "      <div>\n",
              "<style scoped>\n",
              "    .dataframe tbody tr th:only-of-type {\n",
              "        vertical-align: middle;\n",
              "    }\n",
              "\n",
              "    .dataframe tbody tr th {\n",
              "        vertical-align: top;\n",
              "    }\n",
              "\n",
              "    .dataframe thead th {\n",
              "        text-align: right;\n",
              "    }\n",
              "</style>\n",
              "<table border=\"1\" class=\"dataframe\">\n",
              "  <thead>\n",
              "    <tr style=\"text-align: right;\">\n",
              "      <th>ESTADO_CIVIL</th>\n",
              "      <th>Casado/a</th>\n",
              "      <th>Conviviente</th>\n",
              "      <th>Divorciado/a</th>\n",
              "      <th>Soltero/a</th>\n",
              "      <th>Union Civil</th>\n",
              "      <th>Viudo/a</th>\n",
              "      <th>All</th>\n",
              "    </tr>\n",
              "    <tr>\n",
              "      <th>SEXO</th>\n",
              "      <th></th>\n",
              "      <th></th>\n",
              "      <th></th>\n",
              "      <th></th>\n",
              "      <th></th>\n",
              "      <th></th>\n",
              "      <th></th>\n",
              "    </tr>\n",
              "  </thead>\n",
              "  <tbody>\n",
              "    <tr>\n",
              "      <th>FEMENINO</th>\n",
              "      <td>0.133275</td>\n",
              "      <td>0.002904</td>\n",
              "      <td>0.040166</td>\n",
              "      <td>0.303136</td>\n",
              "      <td>0.000097</td>\n",
              "      <td>0.078300</td>\n",
              "      <td>0.557878</td>\n",
              "    </tr>\n",
              "    <tr>\n",
              "      <th>MASCULINO</th>\n",
              "      <td>0.142276</td>\n",
              "      <td>0.004065</td>\n",
              "      <td>0.020132</td>\n",
              "      <td>0.260647</td>\n",
              "      <td>0.000387</td>\n",
              "      <td>0.014615</td>\n",
              "      <td>0.442122</td>\n",
              "    </tr>\n",
              "    <tr>\n",
              "      <th>All</th>\n",
              "      <td>0.275552</td>\n",
              "      <td>0.006969</td>\n",
              "      <td>0.060298</td>\n",
              "      <td>0.563782</td>\n",
              "      <td>0.000484</td>\n",
              "      <td>0.092915</td>\n",
              "      <td>1.000000</td>\n",
              "    </tr>\n",
              "  </tbody>\n",
              "</table>\n",
              "</div>\n",
              "      <button class=\"colab-df-convert\" onclick=\"convertToInteractive('df-76d82289-e888-4ec1-b89b-c26a5e6640e0')\"\n",
              "              title=\"Convert this dataframe to an interactive table.\"\n",
              "              style=\"display:none;\">\n",
              "        \n",
              "  <svg xmlns=\"http://www.w3.org/2000/svg\" height=\"24px\"viewBox=\"0 0 24 24\"\n",
              "       width=\"24px\">\n",
              "    <path d=\"M0 0h24v24H0V0z\" fill=\"none\"/>\n",
              "    <path d=\"M18.56 5.44l.94 2.06.94-2.06 2.06-.94-2.06-.94-.94-2.06-.94 2.06-2.06.94zm-11 1L8.5 8.5l.94-2.06 2.06-.94-2.06-.94L8.5 2.5l-.94 2.06-2.06.94zm10 10l.94 2.06.94-2.06 2.06-.94-2.06-.94-.94-2.06-.94 2.06-2.06.94z\"/><path d=\"M17.41 7.96l-1.37-1.37c-.4-.4-.92-.59-1.43-.59-.52 0-1.04.2-1.43.59L10.3 9.45l-7.72 7.72c-.78.78-.78 2.05 0 2.83L4 21.41c.39.39.9.59 1.41.59.51 0 1.02-.2 1.41-.59l7.78-7.78 2.81-2.81c.8-.78.8-2.07 0-2.86zM5.41 20L4 18.59l7.72-7.72 1.47 1.35L5.41 20z\"/>\n",
              "  </svg>\n",
              "      </button>\n",
              "      \n",
              "  <style>\n",
              "    .colab-df-container {\n",
              "      display:flex;\n",
              "      flex-wrap:wrap;\n",
              "      gap: 12px;\n",
              "    }\n",
              "\n",
              "    .colab-df-convert {\n",
              "      background-color: #E8F0FE;\n",
              "      border: none;\n",
              "      border-radius: 50%;\n",
              "      cursor: pointer;\n",
              "      display: none;\n",
              "      fill: #1967D2;\n",
              "      height: 32px;\n",
              "      padding: 0 0 0 0;\n",
              "      width: 32px;\n",
              "    }\n",
              "\n",
              "    .colab-df-convert:hover {\n",
              "      background-color: #E2EBFA;\n",
              "      box-shadow: 0px 1px 2px rgba(60, 64, 67, 0.3), 0px 1px 3px 1px rgba(60, 64, 67, 0.15);\n",
              "      fill: #174EA6;\n",
              "    }\n",
              "\n",
              "    [theme=dark] .colab-df-convert {\n",
              "      background-color: #3B4455;\n",
              "      fill: #D2E3FC;\n",
              "    }\n",
              "\n",
              "    [theme=dark] .colab-df-convert:hover {\n",
              "      background-color: #434B5C;\n",
              "      box-shadow: 0px 1px 3px 1px rgba(0, 0, 0, 0.15);\n",
              "      filter: drop-shadow(0px 1px 2px rgba(0, 0, 0, 0.3));\n",
              "      fill: #FFFFFF;\n",
              "    }\n",
              "  </style>\n",
              "\n",
              "      <script>\n",
              "        const buttonEl =\n",
              "          document.querySelector('#df-76d82289-e888-4ec1-b89b-c26a5e6640e0 button.colab-df-convert');\n",
              "        buttonEl.style.display =\n",
              "          google.colab.kernel.accessAllowed ? 'block' : 'none';\n",
              "\n",
              "        async function convertToInteractive(key) {\n",
              "          const element = document.querySelector('#df-76d82289-e888-4ec1-b89b-c26a5e6640e0');\n",
              "          const dataTable =\n",
              "            await google.colab.kernel.invokeFunction('convertToInteractive',\n",
              "                                                     [key], {});\n",
              "          if (!dataTable) return;\n",
              "\n",
              "          const docLinkHtml = 'Like what you see? Visit the ' +\n",
              "            '<a target=\"_blank\" href=https://colab.research.google.com/notebooks/data_table.ipynb>data table notebook</a>'\n",
              "            + ' to learn more about interactive tables.';\n",
              "          element.innerHTML = '';\n",
              "          dataTable['output_type'] = 'display_data';\n",
              "          await google.colab.output.renderOutput(dataTable, element);\n",
              "          const docLink = document.createElement('div');\n",
              "          docLink.innerHTML = docLinkHtml;\n",
              "          element.appendChild(docLink);\n",
              "        }\n",
              "      </script>\n",
              "    </div>\n",
              "  </div>\n",
              "  "
            ]
          },
          "metadata": {},
          "execution_count": 55
        }
      ]
    },
    {
      "cell_type": "code",
      "source": [
        "# tabla de contingencia condicionadas por fila\n",
        "pd.crosstab(index=df['SEXO'], columns=df['ESTADO_CIVIL'],\n",
        "            margins=True, normalize='index')"
      ],
      "metadata": {
        "id": "vH3pkN0lIxV2",
        "colab": {
          "base_uri": "https://localhost:8080/",
          "height": 175
        },
        "outputId": "d48594a5-d0f6-441f-f6e2-cc6394c99a00"
      },
      "execution_count": null,
      "outputs": [
        {
          "output_type": "execute_result",
          "data": {
            "text/plain": [
              "ESTADO_CIVIL  Casado/a  Conviviente  Divorciado/a  Soltero/a  Union Civil  \\\n",
              "SEXO                                                                        \n",
              "FEMENINO      0.238897     0.005205      0.071999   0.543373     0.000173   \n",
              "MASCULINO     0.321804     0.009194      0.045534   0.589536     0.000876   \n",
              "All           0.275552     0.006969      0.060298   0.563782     0.000484   \n",
              "\n",
              "ESTADO_CIVIL   Viudo/a  \n",
              "SEXO                    \n",
              "FEMENINO      0.140354  \n",
              "MASCULINO     0.033056  \n",
              "All           0.092915  "
            ],
            "text/html": [
              "\n",
              "  <div id=\"df-3c9661b8-94db-4d19-9c2f-c0f937abb024\">\n",
              "    <div class=\"colab-df-container\">\n",
              "      <div>\n",
              "<style scoped>\n",
              "    .dataframe tbody tr th:only-of-type {\n",
              "        vertical-align: middle;\n",
              "    }\n",
              "\n",
              "    .dataframe tbody tr th {\n",
              "        vertical-align: top;\n",
              "    }\n",
              "\n",
              "    .dataframe thead th {\n",
              "        text-align: right;\n",
              "    }\n",
              "</style>\n",
              "<table border=\"1\" class=\"dataframe\">\n",
              "  <thead>\n",
              "    <tr style=\"text-align: right;\">\n",
              "      <th>ESTADO_CIVIL</th>\n",
              "      <th>Casado/a</th>\n",
              "      <th>Conviviente</th>\n",
              "      <th>Divorciado/a</th>\n",
              "      <th>Soltero/a</th>\n",
              "      <th>Union Civil</th>\n",
              "      <th>Viudo/a</th>\n",
              "    </tr>\n",
              "    <tr>\n",
              "      <th>SEXO</th>\n",
              "      <th></th>\n",
              "      <th></th>\n",
              "      <th></th>\n",
              "      <th></th>\n",
              "      <th></th>\n",
              "      <th></th>\n",
              "    </tr>\n",
              "  </thead>\n",
              "  <tbody>\n",
              "    <tr>\n",
              "      <th>FEMENINO</th>\n",
              "      <td>0.238897</td>\n",
              "      <td>0.005205</td>\n",
              "      <td>0.071999</td>\n",
              "      <td>0.543373</td>\n",
              "      <td>0.000173</td>\n",
              "      <td>0.140354</td>\n",
              "    </tr>\n",
              "    <tr>\n",
              "      <th>MASCULINO</th>\n",
              "      <td>0.321804</td>\n",
              "      <td>0.009194</td>\n",
              "      <td>0.045534</td>\n",
              "      <td>0.589536</td>\n",
              "      <td>0.000876</td>\n",
              "      <td>0.033056</td>\n",
              "    </tr>\n",
              "    <tr>\n",
              "      <th>All</th>\n",
              "      <td>0.275552</td>\n",
              "      <td>0.006969</td>\n",
              "      <td>0.060298</td>\n",
              "      <td>0.563782</td>\n",
              "      <td>0.000484</td>\n",
              "      <td>0.092915</td>\n",
              "    </tr>\n",
              "  </tbody>\n",
              "</table>\n",
              "</div>\n",
              "      <button class=\"colab-df-convert\" onclick=\"convertToInteractive('df-3c9661b8-94db-4d19-9c2f-c0f937abb024')\"\n",
              "              title=\"Convert this dataframe to an interactive table.\"\n",
              "              style=\"display:none;\">\n",
              "        \n",
              "  <svg xmlns=\"http://www.w3.org/2000/svg\" height=\"24px\"viewBox=\"0 0 24 24\"\n",
              "       width=\"24px\">\n",
              "    <path d=\"M0 0h24v24H0V0z\" fill=\"none\"/>\n",
              "    <path d=\"M18.56 5.44l.94 2.06.94-2.06 2.06-.94-2.06-.94-.94-2.06-.94 2.06-2.06.94zm-11 1L8.5 8.5l.94-2.06 2.06-.94-2.06-.94L8.5 2.5l-.94 2.06-2.06.94zm10 10l.94 2.06.94-2.06 2.06-.94-2.06-.94-.94-2.06-.94 2.06-2.06.94z\"/><path d=\"M17.41 7.96l-1.37-1.37c-.4-.4-.92-.59-1.43-.59-.52 0-1.04.2-1.43.59L10.3 9.45l-7.72 7.72c-.78.78-.78 2.05 0 2.83L4 21.41c.39.39.9.59 1.41.59.51 0 1.02-.2 1.41-.59l7.78-7.78 2.81-2.81c.8-.78.8-2.07 0-2.86zM5.41 20L4 18.59l7.72-7.72 1.47 1.35L5.41 20z\"/>\n",
              "  </svg>\n",
              "      </button>\n",
              "      \n",
              "  <style>\n",
              "    .colab-df-container {\n",
              "      display:flex;\n",
              "      flex-wrap:wrap;\n",
              "      gap: 12px;\n",
              "    }\n",
              "\n",
              "    .colab-df-convert {\n",
              "      background-color: #E8F0FE;\n",
              "      border: none;\n",
              "      border-radius: 50%;\n",
              "      cursor: pointer;\n",
              "      display: none;\n",
              "      fill: #1967D2;\n",
              "      height: 32px;\n",
              "      padding: 0 0 0 0;\n",
              "      width: 32px;\n",
              "    }\n",
              "\n",
              "    .colab-df-convert:hover {\n",
              "      background-color: #E2EBFA;\n",
              "      box-shadow: 0px 1px 2px rgba(60, 64, 67, 0.3), 0px 1px 3px 1px rgba(60, 64, 67, 0.15);\n",
              "      fill: #174EA6;\n",
              "    }\n",
              "\n",
              "    [theme=dark] .colab-df-convert {\n",
              "      background-color: #3B4455;\n",
              "      fill: #D2E3FC;\n",
              "    }\n",
              "\n",
              "    [theme=dark] .colab-df-convert:hover {\n",
              "      background-color: #434B5C;\n",
              "      box-shadow: 0px 1px 3px 1px rgba(0, 0, 0, 0.15);\n",
              "      filter: drop-shadow(0px 1px 2px rgba(0, 0, 0, 0.3));\n",
              "      fill: #FFFFFF;\n",
              "    }\n",
              "  </style>\n",
              "\n",
              "      <script>\n",
              "        const buttonEl =\n",
              "          document.querySelector('#df-3c9661b8-94db-4d19-9c2f-c0f937abb024 button.colab-df-convert');\n",
              "        buttonEl.style.display =\n",
              "          google.colab.kernel.accessAllowed ? 'block' : 'none';\n",
              "\n",
              "        async function convertToInteractive(key) {\n",
              "          const element = document.querySelector('#df-3c9661b8-94db-4d19-9c2f-c0f937abb024');\n",
              "          const dataTable =\n",
              "            await google.colab.kernel.invokeFunction('convertToInteractive',\n",
              "                                                     [key], {});\n",
              "          if (!dataTable) return;\n",
              "\n",
              "          const docLinkHtml = 'Like what you see? Visit the ' +\n",
              "            '<a target=\"_blank\" href=https://colab.research.google.com/notebooks/data_table.ipynb>data table notebook</a>'\n",
              "            + ' to learn more about interactive tables.';\n",
              "          element.innerHTML = '';\n",
              "          dataTable['output_type'] = 'display_data';\n",
              "          await google.colab.output.renderOutput(dataTable, element);\n",
              "          const docLink = document.createElement('div');\n",
              "          docLink.innerHTML = docLinkHtml;\n",
              "          element.appendChild(docLink);\n",
              "        }\n",
              "      </script>\n",
              "    </div>\n",
              "  </div>\n",
              "  "
            ]
          },
          "metadata": {},
          "execution_count": 56
        }
      ]
    },
    {
      "cell_type": "code",
      "source": [
        "# tabla de contingencia condicionadas por columna\n",
        "pd.crosstab(index=df['SEXO'], columns=df['ESTADO_CIVIL'],\n",
        "            margins=True, normalize='columns')"
      ],
      "metadata": {
        "id": "eSeuIDctIqtP",
        "colab": {
          "base_uri": "https://localhost:8080/",
          "height": 143
        },
        "outputId": "1cdf3059-d530-4a0f-d3cd-4c030f39ee0c"
      },
      "execution_count": null,
      "outputs": [
        {
          "output_type": "execute_result",
          "data": {
            "text/plain": [
              "ESTADO_CIVIL  Casado/a  Conviviente  Divorciado/a  Soltero/a  Union Civil  \\\n",
              "SEXO                                                                        \n",
              "FEMENINO      0.483667     0.416667      0.666132   0.537682          0.2   \n",
              "MASCULINO     0.516333     0.583333      0.333868   0.462318          0.8   \n",
              "\n",
              "ESTADO_CIVIL   Viudo/a       All  \n",
              "SEXO                              \n",
              "FEMENINO      0.842708  0.557878  \n",
              "MASCULINO     0.157292  0.442122  "
            ],
            "text/html": [
              "\n",
              "  <div id=\"df-3a748f48-16b7-4e37-8bdb-06f482723205\">\n",
              "    <div class=\"colab-df-container\">\n",
              "      <div>\n",
              "<style scoped>\n",
              "    .dataframe tbody tr th:only-of-type {\n",
              "        vertical-align: middle;\n",
              "    }\n",
              "\n",
              "    .dataframe tbody tr th {\n",
              "        vertical-align: top;\n",
              "    }\n",
              "\n",
              "    .dataframe thead th {\n",
              "        text-align: right;\n",
              "    }\n",
              "</style>\n",
              "<table border=\"1\" class=\"dataframe\">\n",
              "  <thead>\n",
              "    <tr style=\"text-align: right;\">\n",
              "      <th>ESTADO_CIVIL</th>\n",
              "      <th>Casado/a</th>\n",
              "      <th>Conviviente</th>\n",
              "      <th>Divorciado/a</th>\n",
              "      <th>Soltero/a</th>\n",
              "      <th>Union Civil</th>\n",
              "      <th>Viudo/a</th>\n",
              "      <th>All</th>\n",
              "    </tr>\n",
              "    <tr>\n",
              "      <th>SEXO</th>\n",
              "      <th></th>\n",
              "      <th></th>\n",
              "      <th></th>\n",
              "      <th></th>\n",
              "      <th></th>\n",
              "      <th></th>\n",
              "      <th></th>\n",
              "    </tr>\n",
              "  </thead>\n",
              "  <tbody>\n",
              "    <tr>\n",
              "      <th>FEMENINO</th>\n",
              "      <td>0.483667</td>\n",
              "      <td>0.416667</td>\n",
              "      <td>0.666132</td>\n",
              "      <td>0.537682</td>\n",
              "      <td>0.2</td>\n",
              "      <td>0.842708</td>\n",
              "      <td>0.557878</td>\n",
              "    </tr>\n",
              "    <tr>\n",
              "      <th>MASCULINO</th>\n",
              "      <td>0.516333</td>\n",
              "      <td>0.583333</td>\n",
              "      <td>0.333868</td>\n",
              "      <td>0.462318</td>\n",
              "      <td>0.8</td>\n",
              "      <td>0.157292</td>\n",
              "      <td>0.442122</td>\n",
              "    </tr>\n",
              "  </tbody>\n",
              "</table>\n",
              "</div>\n",
              "      <button class=\"colab-df-convert\" onclick=\"convertToInteractive('df-3a748f48-16b7-4e37-8bdb-06f482723205')\"\n",
              "              title=\"Convert this dataframe to an interactive table.\"\n",
              "              style=\"display:none;\">\n",
              "        \n",
              "  <svg xmlns=\"http://www.w3.org/2000/svg\" height=\"24px\"viewBox=\"0 0 24 24\"\n",
              "       width=\"24px\">\n",
              "    <path d=\"M0 0h24v24H0V0z\" fill=\"none\"/>\n",
              "    <path d=\"M18.56 5.44l.94 2.06.94-2.06 2.06-.94-2.06-.94-.94-2.06-.94 2.06-2.06.94zm-11 1L8.5 8.5l.94-2.06 2.06-.94-2.06-.94L8.5 2.5l-.94 2.06-2.06.94zm10 10l.94 2.06.94-2.06 2.06-.94-2.06-.94-.94-2.06-.94 2.06-2.06.94z\"/><path d=\"M17.41 7.96l-1.37-1.37c-.4-.4-.92-.59-1.43-.59-.52 0-1.04.2-1.43.59L10.3 9.45l-7.72 7.72c-.78.78-.78 2.05 0 2.83L4 21.41c.39.39.9.59 1.41.59.51 0 1.02-.2 1.41-.59l7.78-7.78 2.81-2.81c.8-.78.8-2.07 0-2.86zM5.41 20L4 18.59l7.72-7.72 1.47 1.35L5.41 20z\"/>\n",
              "  </svg>\n",
              "      </button>\n",
              "      \n",
              "  <style>\n",
              "    .colab-df-container {\n",
              "      display:flex;\n",
              "      flex-wrap:wrap;\n",
              "      gap: 12px;\n",
              "    }\n",
              "\n",
              "    .colab-df-convert {\n",
              "      background-color: #E8F0FE;\n",
              "      border: none;\n",
              "      border-radius: 50%;\n",
              "      cursor: pointer;\n",
              "      display: none;\n",
              "      fill: #1967D2;\n",
              "      height: 32px;\n",
              "      padding: 0 0 0 0;\n",
              "      width: 32px;\n",
              "    }\n",
              "\n",
              "    .colab-df-convert:hover {\n",
              "      background-color: #E2EBFA;\n",
              "      box-shadow: 0px 1px 2px rgba(60, 64, 67, 0.3), 0px 1px 3px 1px rgba(60, 64, 67, 0.15);\n",
              "      fill: #174EA6;\n",
              "    }\n",
              "\n",
              "    [theme=dark] .colab-df-convert {\n",
              "      background-color: #3B4455;\n",
              "      fill: #D2E3FC;\n",
              "    }\n",
              "\n",
              "    [theme=dark] .colab-df-convert:hover {\n",
              "      background-color: #434B5C;\n",
              "      box-shadow: 0px 1px 3px 1px rgba(0, 0, 0, 0.15);\n",
              "      filter: drop-shadow(0px 1px 2px rgba(0, 0, 0, 0.3));\n",
              "      fill: #FFFFFF;\n",
              "    }\n",
              "  </style>\n",
              "\n",
              "      <script>\n",
              "        const buttonEl =\n",
              "          document.querySelector('#df-3a748f48-16b7-4e37-8bdb-06f482723205 button.colab-df-convert');\n",
              "        buttonEl.style.display =\n",
              "          google.colab.kernel.accessAllowed ? 'block' : 'none';\n",
              "\n",
              "        async function convertToInteractive(key) {\n",
              "          const element = document.querySelector('#df-3a748f48-16b7-4e37-8bdb-06f482723205');\n",
              "          const dataTable =\n",
              "            await google.colab.kernel.invokeFunction('convertToInteractive',\n",
              "                                                     [key], {});\n",
              "          if (!dataTable) return;\n",
              "\n",
              "          const docLinkHtml = 'Like what you see? Visit the ' +\n",
              "            '<a target=\"_blank\" href=https://colab.research.google.com/notebooks/data_table.ipynb>data table notebook</a>'\n",
              "            + ' to learn more about interactive tables.';\n",
              "          element.innerHTML = '';\n",
              "          dataTable['output_type'] = 'display_data';\n",
              "          await google.colab.output.renderOutput(dataTable, element);\n",
              "          const docLink = document.createElement('div');\n",
              "          docLink.innerHTML = docLinkHtml;\n",
              "          element.appendChild(docLink);\n",
              "        }\n",
              "      </script>\n",
              "    </div>\n",
              "  </div>\n",
              "  "
            ]
          },
          "metadata": {},
          "execution_count": 57
        }
      ]
    },
    {
      "cell_type": "markdown",
      "source": [
        "# Cálculo e interpretación de medidas descriptivas."
      ],
      "metadata": {
        "id": "nQuk2-psWQG5"
      }
    },
    {
      "cell_type": "markdown",
      "source": [
        "**Medidas descriptivas básicas**"
      ],
      "metadata": {
        "id": "B5EeaGoPcoQy"
      }
    },
    {
      "cell_type": "code",
      "source": [
        "df.describe()"
      ],
      "metadata": {
        "id": "duCJZ8MpPeax",
        "colab": {
          "base_uri": "https://localhost:8080/",
          "height": 394
        },
        "outputId": "013dda7e-448e-4090-9383-3f21066a9b11"
      },
      "execution_count": null,
      "outputs": [
        {
          "output_type": "execute_result",
          "data": {
            "text/plain": [
              "             idFacu  TIENE_TARJETA_VISA  ANTIGUEDAD_CORDOBESA  \\\n",
              "count  10332.000000        10332.000000          10332.000000   \n",
              "mean    8037.107433            0.300813             63.303620   \n",
              "std     5605.763230            0.458634             40.828192   \n",
              "min        1.000000            0.000000              0.000000   \n",
              "25%     3386.750000            0.000000             26.000000   \n",
              "50%     6585.000000            0.000000             61.000000   \n",
              "75%    11931.750000            1.000000            104.000000   \n",
              "max    19998.000000            1.000000            115.000000   \n",
              "\n",
              "       CORDOBESA_MONTO_SALDO_TOTAL  CORDOBESA_MONTO_SALDO_RESUMEN  \\\n",
              "count                 10332.000000                   10332.000000   \n",
              "mean                  18072.723232                    6326.510933   \n",
              "std                   27136.811598                   10949.726554   \n",
              "min                       0.000000                       0.000000   \n",
              "25%                       0.000000                       0.000000   \n",
              "50%                    7465.086195                    2521.084958   \n",
              "75%                   26979.747394                    8479.591258   \n",
              "max                  440168.612690                  300739.894240   \n",
              "\n",
              "       TIENE_TARJETA_CORDOBESA  SUM_CONSUMOS_TC_ULT_6M  \\\n",
              "count             10332.000000            10332.000000   \n",
              "mean                  0.909021            32041.214531   \n",
              "std                   0.287594            51618.540548   \n",
              "min                   0.000000                0.000000   \n",
              "25%                   1.000000                0.000000   \n",
              "50%                   1.000000            12531.468738   \n",
              "75%                   1.000000            44214.186671   \n",
              "max                   1.000000           804021.381040   \n",
              "\n",
              "       MOB_TARJETAS_DE_CREDITO  CANT_TARJETAS_CREDITO  \\\n",
              "count             10332.000000           10332.000000   \n",
              "mean                 67.532811               0.856465   \n",
              "std                  39.776096               0.632894   \n",
              "min                   0.000000               0.000000   \n",
              "25%                  33.000000               0.000000   \n",
              "50%                  66.000000               1.000000   \n",
              "75%                 105.000000               1.000000   \n",
              "max                 399.000000               3.000000   \n",
              "\n",
              "       ANTIGUEDAD_PRESTAMOS_PERSONALES  ...  sin_productos_activos_6meses  \\\n",
              "count                     10332.000000  ...                  10332.000000   \n",
              "mean                         11.562718  ...                      0.057104   \n",
              "std                          12.961050  ...                      0.232053   \n",
              "min                           0.000000  ...                      0.000000   \n",
              "25%                           0.000000  ...                      0.000000   \n",
              "50%                           8.000000  ...                      0.000000   \n",
              "75%                          21.000000  ...                      0.000000   \n",
              "max                          86.000000  ...                      1.000000   \n",
              "\n",
              "       peor_sit_no_bancor_6meses   max_mora_pp  max_mora_visa  \\\n",
              "count               10332.000000  10332.000000   10332.000000   \n",
              "mean                    1.016357      1.750678       0.307685   \n",
              "std                     1.137112     18.322601       7.814523   \n",
              "min                     0.000000      0.000000       0.000000   \n",
              "25%                     0.000000      0.000000       0.000000   \n",
              "50%                     1.000000      0.000000       0.000000   \n",
              "75%                     1.000000      0.000000       0.000000   \n",
              "max                     5.000000    606.000000     600.000000   \n",
              "\n",
              "       max_mora_cordobesa  max_mora_prod_activos  SITUACION_BANCOR2  \\\n",
              "count        10332.000000           10332.000000       10332.000000   \n",
              "mean             2.058556               3.019938           0.968641   \n",
              "std             17.062780              22.645005           0.481970   \n",
              "min              0.000000               0.000000           0.000000   \n",
              "25%              0.000000               0.000000           1.000000   \n",
              "50%              0.000000               0.000000           1.000000   \n",
              "75%              0.000000               0.000000           1.000000   \n",
              "max            416.000000             606.000000           5.000000   \n",
              "\n",
              "       SITUACION_NO_BANCOR2        target         dirty  \n",
              "count          10332.000000  10332.000000  10332.000000  \n",
              "mean               0.896825      0.043167      0.098626  \n",
              "std                1.078383      0.203242      0.298173  \n",
              "min                0.000000      0.000000      0.000000  \n",
              "25%                0.000000      0.000000      0.000000  \n",
              "50%                1.000000      0.000000      0.000000  \n",
              "75%                1.000000      0.000000      0.000000  \n",
              "max                5.000000      1.000000      1.000000  \n",
              "\n",
              "[8 rows x 37 columns]"
            ],
            "text/html": [
              "\n",
              "  <div id=\"df-d296d3ce-67c9-41dd-b21a-05623c2f6b65\">\n",
              "    <div class=\"colab-df-container\">\n",
              "      <div>\n",
              "<style scoped>\n",
              "    .dataframe tbody tr th:only-of-type {\n",
              "        vertical-align: middle;\n",
              "    }\n",
              "\n",
              "    .dataframe tbody tr th {\n",
              "        vertical-align: top;\n",
              "    }\n",
              "\n",
              "    .dataframe thead th {\n",
              "        text-align: right;\n",
              "    }\n",
              "</style>\n",
              "<table border=\"1\" class=\"dataframe\">\n",
              "  <thead>\n",
              "    <tr style=\"text-align: right;\">\n",
              "      <th></th>\n",
              "      <th>idFacu</th>\n",
              "      <th>TIENE_TARJETA_VISA</th>\n",
              "      <th>ANTIGUEDAD_CORDOBESA</th>\n",
              "      <th>CORDOBESA_MONTO_SALDO_TOTAL</th>\n",
              "      <th>CORDOBESA_MONTO_SALDO_RESUMEN</th>\n",
              "      <th>TIENE_TARJETA_CORDOBESA</th>\n",
              "      <th>SUM_CONSUMOS_TC_ULT_6M</th>\n",
              "      <th>MOB_TARJETAS_DE_CREDITO</th>\n",
              "      <th>CANT_TARJETAS_CREDITO</th>\n",
              "      <th>ANTIGUEDAD_PRESTAMOS_PERSONALES</th>\n",
              "      <th>...</th>\n",
              "      <th>sin_productos_activos_6meses</th>\n",
              "      <th>peor_sit_no_bancor_6meses</th>\n",
              "      <th>max_mora_pp</th>\n",
              "      <th>max_mora_visa</th>\n",
              "      <th>max_mora_cordobesa</th>\n",
              "      <th>max_mora_prod_activos</th>\n",
              "      <th>SITUACION_BANCOR2</th>\n",
              "      <th>SITUACION_NO_BANCOR2</th>\n",
              "      <th>target</th>\n",
              "      <th>dirty</th>\n",
              "    </tr>\n",
              "  </thead>\n",
              "  <tbody>\n",
              "    <tr>\n",
              "      <th>count</th>\n",
              "      <td>10332.000000</td>\n",
              "      <td>10332.000000</td>\n",
              "      <td>10332.000000</td>\n",
              "      <td>10332.000000</td>\n",
              "      <td>10332.000000</td>\n",
              "      <td>10332.000000</td>\n",
              "      <td>10332.000000</td>\n",
              "      <td>10332.000000</td>\n",
              "      <td>10332.000000</td>\n",
              "      <td>10332.000000</td>\n",
              "      <td>...</td>\n",
              "      <td>10332.000000</td>\n",
              "      <td>10332.000000</td>\n",
              "      <td>10332.000000</td>\n",
              "      <td>10332.000000</td>\n",
              "      <td>10332.000000</td>\n",
              "      <td>10332.000000</td>\n",
              "      <td>10332.000000</td>\n",
              "      <td>10332.000000</td>\n",
              "      <td>10332.000000</td>\n",
              "      <td>10332.000000</td>\n",
              "    </tr>\n",
              "    <tr>\n",
              "      <th>mean</th>\n",
              "      <td>8037.107433</td>\n",
              "      <td>0.300813</td>\n",
              "      <td>63.303620</td>\n",
              "      <td>18072.723232</td>\n",
              "      <td>6326.510933</td>\n",
              "      <td>0.909021</td>\n",
              "      <td>32041.214531</td>\n",
              "      <td>67.532811</td>\n",
              "      <td>0.856465</td>\n",
              "      <td>11.562718</td>\n",
              "      <td>...</td>\n",
              "      <td>0.057104</td>\n",
              "      <td>1.016357</td>\n",
              "      <td>1.750678</td>\n",
              "      <td>0.307685</td>\n",
              "      <td>2.058556</td>\n",
              "      <td>3.019938</td>\n",
              "      <td>0.968641</td>\n",
              "      <td>0.896825</td>\n",
              "      <td>0.043167</td>\n",
              "      <td>0.098626</td>\n",
              "    </tr>\n",
              "    <tr>\n",
              "      <th>std</th>\n",
              "      <td>5605.763230</td>\n",
              "      <td>0.458634</td>\n",
              "      <td>40.828192</td>\n",
              "      <td>27136.811598</td>\n",
              "      <td>10949.726554</td>\n",
              "      <td>0.287594</td>\n",
              "      <td>51618.540548</td>\n",
              "      <td>39.776096</td>\n",
              "      <td>0.632894</td>\n",
              "      <td>12.961050</td>\n",
              "      <td>...</td>\n",
              "      <td>0.232053</td>\n",
              "      <td>1.137112</td>\n",
              "      <td>18.322601</td>\n",
              "      <td>7.814523</td>\n",
              "      <td>17.062780</td>\n",
              "      <td>22.645005</td>\n",
              "      <td>0.481970</td>\n",
              "      <td>1.078383</td>\n",
              "      <td>0.203242</td>\n",
              "      <td>0.298173</td>\n",
              "    </tr>\n",
              "    <tr>\n",
              "      <th>min</th>\n",
              "      <td>1.000000</td>\n",
              "      <td>0.000000</td>\n",
              "      <td>0.000000</td>\n",
              "      <td>0.000000</td>\n",
              "      <td>0.000000</td>\n",
              "      <td>0.000000</td>\n",
              "      <td>0.000000</td>\n",
              "      <td>0.000000</td>\n",
              "      <td>0.000000</td>\n",
              "      <td>0.000000</td>\n",
              "      <td>...</td>\n",
              "      <td>0.000000</td>\n",
              "      <td>0.000000</td>\n",
              "      <td>0.000000</td>\n",
              "      <td>0.000000</td>\n",
              "      <td>0.000000</td>\n",
              "      <td>0.000000</td>\n",
              "      <td>0.000000</td>\n",
              "      <td>0.000000</td>\n",
              "      <td>0.000000</td>\n",
              "      <td>0.000000</td>\n",
              "    </tr>\n",
              "    <tr>\n",
              "      <th>25%</th>\n",
              "      <td>3386.750000</td>\n",
              "      <td>0.000000</td>\n",
              "      <td>26.000000</td>\n",
              "      <td>0.000000</td>\n",
              "      <td>0.000000</td>\n",
              "      <td>1.000000</td>\n",
              "      <td>0.000000</td>\n",
              "      <td>33.000000</td>\n",
              "      <td>0.000000</td>\n",
              "      <td>0.000000</td>\n",
              "      <td>...</td>\n",
              "      <td>0.000000</td>\n",
              "      <td>0.000000</td>\n",
              "      <td>0.000000</td>\n",
              "      <td>0.000000</td>\n",
              "      <td>0.000000</td>\n",
              "      <td>0.000000</td>\n",
              "      <td>1.000000</td>\n",
              "      <td>0.000000</td>\n",
              "      <td>0.000000</td>\n",
              "      <td>0.000000</td>\n",
              "    </tr>\n",
              "    <tr>\n",
              "      <th>50%</th>\n",
              "      <td>6585.000000</td>\n",
              "      <td>0.000000</td>\n",
              "      <td>61.000000</td>\n",
              "      <td>7465.086195</td>\n",
              "      <td>2521.084958</td>\n",
              "      <td>1.000000</td>\n",
              "      <td>12531.468738</td>\n",
              "      <td>66.000000</td>\n",
              "      <td>1.000000</td>\n",
              "      <td>8.000000</td>\n",
              "      <td>...</td>\n",
              "      <td>0.000000</td>\n",
              "      <td>1.000000</td>\n",
              "      <td>0.000000</td>\n",
              "      <td>0.000000</td>\n",
              "      <td>0.000000</td>\n",
              "      <td>0.000000</td>\n",
              "      <td>1.000000</td>\n",
              "      <td>1.000000</td>\n",
              "      <td>0.000000</td>\n",
              "      <td>0.000000</td>\n",
              "    </tr>\n",
              "    <tr>\n",
              "      <th>75%</th>\n",
              "      <td>11931.750000</td>\n",
              "      <td>1.000000</td>\n",
              "      <td>104.000000</td>\n",
              "      <td>26979.747394</td>\n",
              "      <td>8479.591258</td>\n",
              "      <td>1.000000</td>\n",
              "      <td>44214.186671</td>\n",
              "      <td>105.000000</td>\n",
              "      <td>1.000000</td>\n",
              "      <td>21.000000</td>\n",
              "      <td>...</td>\n",
              "      <td>0.000000</td>\n",
              "      <td>1.000000</td>\n",
              "      <td>0.000000</td>\n",
              "      <td>0.000000</td>\n",
              "      <td>0.000000</td>\n",
              "      <td>0.000000</td>\n",
              "      <td>1.000000</td>\n",
              "      <td>1.000000</td>\n",
              "      <td>0.000000</td>\n",
              "      <td>0.000000</td>\n",
              "    </tr>\n",
              "    <tr>\n",
              "      <th>max</th>\n",
              "      <td>19998.000000</td>\n",
              "      <td>1.000000</td>\n",
              "      <td>115.000000</td>\n",
              "      <td>440168.612690</td>\n",
              "      <td>300739.894240</td>\n",
              "      <td>1.000000</td>\n",
              "      <td>804021.381040</td>\n",
              "      <td>399.000000</td>\n",
              "      <td>3.000000</td>\n",
              "      <td>86.000000</td>\n",
              "      <td>...</td>\n",
              "      <td>1.000000</td>\n",
              "      <td>5.000000</td>\n",
              "      <td>606.000000</td>\n",
              "      <td>600.000000</td>\n",
              "      <td>416.000000</td>\n",
              "      <td>606.000000</td>\n",
              "      <td>5.000000</td>\n",
              "      <td>5.000000</td>\n",
              "      <td>1.000000</td>\n",
              "      <td>1.000000</td>\n",
              "    </tr>\n",
              "  </tbody>\n",
              "</table>\n",
              "<p>8 rows × 37 columns</p>\n",
              "</div>\n",
              "      <button class=\"colab-df-convert\" onclick=\"convertToInteractive('df-d296d3ce-67c9-41dd-b21a-05623c2f6b65')\"\n",
              "              title=\"Convert this dataframe to an interactive table.\"\n",
              "              style=\"display:none;\">\n",
              "        \n",
              "  <svg xmlns=\"http://www.w3.org/2000/svg\" height=\"24px\"viewBox=\"0 0 24 24\"\n",
              "       width=\"24px\">\n",
              "    <path d=\"M0 0h24v24H0V0z\" fill=\"none\"/>\n",
              "    <path d=\"M18.56 5.44l.94 2.06.94-2.06 2.06-.94-2.06-.94-.94-2.06-.94 2.06-2.06.94zm-11 1L8.5 8.5l.94-2.06 2.06-.94-2.06-.94L8.5 2.5l-.94 2.06-2.06.94zm10 10l.94 2.06.94-2.06 2.06-.94-2.06-.94-.94-2.06-.94 2.06-2.06.94z\"/><path d=\"M17.41 7.96l-1.37-1.37c-.4-.4-.92-.59-1.43-.59-.52 0-1.04.2-1.43.59L10.3 9.45l-7.72 7.72c-.78.78-.78 2.05 0 2.83L4 21.41c.39.39.9.59 1.41.59.51 0 1.02-.2 1.41-.59l7.78-7.78 2.81-2.81c.8-.78.8-2.07 0-2.86zM5.41 20L4 18.59l7.72-7.72 1.47 1.35L5.41 20z\"/>\n",
              "  </svg>\n",
              "      </button>\n",
              "      \n",
              "  <style>\n",
              "    .colab-df-container {\n",
              "      display:flex;\n",
              "      flex-wrap:wrap;\n",
              "      gap: 12px;\n",
              "    }\n",
              "\n",
              "    .colab-df-convert {\n",
              "      background-color: #E8F0FE;\n",
              "      border: none;\n",
              "      border-radius: 50%;\n",
              "      cursor: pointer;\n",
              "      display: none;\n",
              "      fill: #1967D2;\n",
              "      height: 32px;\n",
              "      padding: 0 0 0 0;\n",
              "      width: 32px;\n",
              "    }\n",
              "\n",
              "    .colab-df-convert:hover {\n",
              "      background-color: #E2EBFA;\n",
              "      box-shadow: 0px 1px 2px rgba(60, 64, 67, 0.3), 0px 1px 3px 1px rgba(60, 64, 67, 0.15);\n",
              "      fill: #174EA6;\n",
              "    }\n",
              "\n",
              "    [theme=dark] .colab-df-convert {\n",
              "      background-color: #3B4455;\n",
              "      fill: #D2E3FC;\n",
              "    }\n",
              "\n",
              "    [theme=dark] .colab-df-convert:hover {\n",
              "      background-color: #434B5C;\n",
              "      box-shadow: 0px 1px 3px 1px rgba(0, 0, 0, 0.15);\n",
              "      filter: drop-shadow(0px 1px 2px rgba(0, 0, 0, 0.3));\n",
              "      fill: #FFFFFF;\n",
              "    }\n",
              "  </style>\n",
              "\n",
              "      <script>\n",
              "        const buttonEl =\n",
              "          document.querySelector('#df-d296d3ce-67c9-41dd-b21a-05623c2f6b65 button.colab-df-convert');\n",
              "        buttonEl.style.display =\n",
              "          google.colab.kernel.accessAllowed ? 'block' : 'none';\n",
              "\n",
              "        async function convertToInteractive(key) {\n",
              "          const element = document.querySelector('#df-d296d3ce-67c9-41dd-b21a-05623c2f6b65');\n",
              "          const dataTable =\n",
              "            await google.colab.kernel.invokeFunction('convertToInteractive',\n",
              "                                                     [key], {});\n",
              "          if (!dataTable) return;\n",
              "\n",
              "          const docLinkHtml = 'Like what you see? Visit the ' +\n",
              "            '<a target=\"_blank\" href=https://colab.research.google.com/notebooks/data_table.ipynb>data table notebook</a>'\n",
              "            + ' to learn more about interactive tables.';\n",
              "          element.innerHTML = '';\n",
              "          dataTable['output_type'] = 'display_data';\n",
              "          await google.colab.output.renderOutput(dataTable, element);\n",
              "          const docLink = document.createElement('div');\n",
              "          docLink.innerHTML = docLinkHtml;\n",
              "          element.appendChild(docLink);\n",
              "        }\n",
              "      </script>\n",
              "    </div>\n",
              "  </div>\n",
              "  "
            ]
          },
          "metadata": {},
          "execution_count": 58
        }
      ]
    },
    {
      "cell_type": "markdown",
      "source": [
        "**Medida de posición: Media aritmética**"
      ],
      "metadata": {
        "id": "wFPi0XjPg3Sy"
      }
    },
    {
      "cell_type": "code",
      "source": [
        "#calculo de la media aritmetica para una variable particular utilizando pandas\n",
        "df['ANTIGUEDAD_CORDOBESA'].mean()"
      ],
      "metadata": {
        "id": "ElzrLBTDSew5",
        "colab": {
          "base_uri": "https://localhost:8080/"
        },
        "outputId": "c3de4232-ac5f-4e79-dcca-77e1472aa757"
      },
      "execution_count": null,
      "outputs": [
        {
          "output_type": "execute_result",
          "data": {
            "text/plain": [
              "63.303619821912505"
            ]
          },
          "metadata": {},
          "execution_count": 59
        }
      ]
    },
    {
      "cell_type": "code",
      "source": [
        "#calculo de la media aritmetica para una variable particular utilizando numpy\n",
        "np.mean(df['ANTIGUEDAD_CORDOBESA'])"
      ],
      "metadata": {
        "id": "tm587AO2Y_TB",
        "colab": {
          "base_uri": "https://localhost:8080/"
        },
        "outputId": "084e0da3-adef-4282-8e33-c317254043c2"
      },
      "execution_count": null,
      "outputs": [
        {
          "output_type": "execute_result",
          "data": {
            "text/plain": [
              "63.303619821912505"
            ]
          },
          "metadata": {},
          "execution_count": 60
        }
      ]
    },
    {
      "cell_type": "code",
      "source": [
        "#Puedo querer calcular medidas descriptivas segun algun variable de segmentacion\n",
        "\n",
        "df[df.SEXO == 'FEMENINO'].ANTIGUEDAD_CORDOBESA.mean()"
      ],
      "metadata": {
        "id": "G6sxCNKoH3hw",
        "colab": {
          "base_uri": "https://localhost:8080/"
        },
        "outputId": "b8cdf4bb-5b4a-4faa-af0b-f88e51a12000"
      },
      "execution_count": null,
      "outputs": [
        {
          "output_type": "execute_result",
          "data": {
            "text/plain": [
              "63.69465648854962"
            ]
          },
          "metadata": {},
          "execution_count": 61
        }
      ]
    },
    {
      "cell_type": "code",
      "source": [
        "plt.figure(figsize=(12,8))\n",
        "sn.barplot(data=df, x='SEXO', y='CORDOBESA_MONTO_SALDO_RESUMEN', ci=False)\n",
        "plt.ylabel('Promedio del saldo de la tarjeta cordobeza')\n",
        "plt.xlabel('Género')\n",
        "plt.title('Promedio del resumen de la tarjeta cordobesa por genero')\n",
        "sn.despine(left=True)"
      ],
      "metadata": {
        "id": "UVP8eNsErd0-",
        "colab": {
          "base_uri": "https://localhost:8080/",
          "height": 756
        },
        "outputId": "03b1a5af-f015-4316-e385-107150225717"
      },
      "execution_count": null,
      "outputs": [
        {
          "output_type": "stream",
          "name": "stderr",
          "text": [
            "<ipython-input-62-6a842087a6b2>:2: FutureWarning: \n",
            "\n",
            "The `ci` parameter is deprecated. Use `errorbar=('ci', False)` for the same effect.\n",
            "\n",
            "  sn.barplot(data=df, x='SEXO', y='CORDOBESA_MONTO_SALDO_RESUMEN', ci=False)\n"
          ]
        },
        {
          "output_type": "display_data",
          "data": {
            "text/plain": [
              "<Figure size 1200x800 with 1 Axes>"
            ],
            "image/png": "[encoded data removed]"
          },
          "metadata": {}
        }
      ]
    },
    {
      "cell_type": "code",
      "source": [
        "#visualizar el promedio de los ingresos\n",
        "plt.figure(figsize=(12,8))\n",
        "sn.barplot(data=df, x='ESTADO_CIVIL', y='CORDOBESA_MONTO_SALDO_RESUMEN', hue='SEXO', ci=False)\n",
        "plt.ylabel('Promedio del saldo de la tarjeta cordobesa')\n",
        "plt.xlabel('Género')\n",
        "plt.title('Promedio del resumen de la tarjeta cordobesa por género y estado civil', size=15)\n",
        "sn.despine(left=True)"
      ],
      "metadata": {
        "id": "HSUsWa9udBGx",
        "colab": {
          "base_uri": "https://localhost:8080/",
          "height": 754
        },
        "outputId": "80414b90-a942-4fe9-8ded-2e3b0e529ada"
      },
      "execution_count": null,
      "outputs": [
        {
          "output_type": "stream",
          "name": "stderr",
          "text": [
            "<ipython-input-63-0c7a38c4629c>:3: FutureWarning: \n",
            "\n",
            "The `ci` parameter is deprecated. Use `errorbar=('ci', False)` for the same effect.\n",
            "\n",
            "  sn.barplot(data=df, x='ESTADO_CIVIL', y='CORDOBESA_MONTO_SALDO_RESUMEN', hue='SEXO', ci=False)\n"
          ]
        },
        {
          "output_type": "display_data",
          "data": {
            "text/plain": [
              "<Figure size 1200x800 with 1 Axes>"
            ],
            "image/png": "[encoded data removed]"
          },
          "metadata": {}
        }
      ]
    },
    {
      "cell_type": "markdown",
      "source": [
        "**Medidas de posición:**\n",
        "**Mediana**"
      ],
      "metadata": {
        "id": "fhWNtLS1boXx"
      }
    },
    {
      "cell_type": "code",
      "source": [
        "df.median() # para todas las variables"
      ],
      "metadata": {
        "id": "rUVfV2ILQ0NX",
        "colab": {
          "base_uri": "https://localhost:8080/"
        },
        "outputId": "073f02cc-800e-4666-e6e6-cd879fb94c58"
      },
      "execution_count": null,
      "outputs": [
        {
          "output_type": "stream",
          "name": "stderr",
          "text": [
            "<ipython-input-64-e86cb81d5db6>:1: FutureWarning: The default value of numeric_only in DataFrame.median is deprecated. In a future version, it will default to False. In addition, specifying 'numeric_only=None' is deprecated. Select only valid columns or specify the value of numeric_only to silence this warning.\n",
            "  df.median() # para todas las variables\n"
          ]
        },
        {
          "output_type": "execute_result",
          "data": {
            "text/plain": [
              "idFacu                              6585.000000\n",
              "TIENE_TARJETA_VISA                     0.000000\n",
              "ANTIGUEDAD_CORDOBESA                  61.000000\n",
              "CORDOBESA_MONTO_SALDO_TOTAL         7465.086195\n",
              "CORDOBESA_MONTO_SALDO_RESUMEN       2521.084958\n",
              "TIENE_TARJETA_CORDOBESA                1.000000\n",
              "SUM_CONSUMOS_TC_ULT_6M             12531.468738\n",
              "MOB_TARJETAS_DE_CREDITO               66.000000\n",
              "CANT_TARJETAS_CREDITO                  1.000000\n",
              "ANTIGUEDAD_PRESTAMOS_PERSONALES        8.000000\n",
              "CANT_PMOS_PERSONALES                   1.000000\n",
              "CANT_PMOS_HIPOTECARIOS                 0.000000\n",
              "CANT_ACREDITACION_HABER_ULT90D         2.000000\n",
              "TIENE_CUENTA_BASICA                    0.000000\n",
              "INGRESOS_NETOS                     29804.426896\n",
              "TIENE_HOME_BANKING_ULT3M               0.000000\n",
              "CANT_TARJ_DEBITO_TRANSACCIONES         4.000000\n",
              "CORDOBESA_MAXIMA_MORA_ULT12M           0.000000\n",
              "ENDEUDAMIENTO                          0.159241\n",
              "SALDO_ACTUAL_REFINAN_VIGENTE       23996.911202\n",
              "CANT_SIT_BANCOR_MAYOR1                 0.000000\n",
              "CANT_SIT_NO_BANCOR_MAYOR1              0.000000\n",
              "CONSUMO_6M_CORDOBESA                   1.000000\n",
              "ALTA_6M_CORDOBESA                      0.000000\n",
              "CONSUMO_6M_VISA                        0.000000\n",
              "ALTA_6M_VISA                           0.000000\n",
              "peor_sit_bancor_6meses                 1.000000\n",
              "sin_productos_activos_6meses           0.000000\n",
              "peor_sit_no_bancor_6meses              1.000000\n",
              "max_mora_pp                            0.000000\n",
              "max_mora_visa                          0.000000\n",
              "max_mora_cordobesa                     0.000000\n",
              "max_mora_prod_activos                  0.000000\n",
              "SITUACION_BANCOR2                      1.000000\n",
              "SITUACION_NO_BANCOR2                   1.000000\n",
              "target                                 0.000000\n",
              "dirty                                  0.000000\n",
              "dtype: float64"
            ]
          },
          "metadata": {},
          "execution_count": 64
        }
      ]
    },
    {
      "cell_type": "code",
      "source": [
        "np.percentile(df.ANTIGUEDAD_CORDOBESA, 50) # tambien podemos buscar la mediana como el percentil 50"
      ],
      "metadata": {
        "id": "MatfM0TZPlNA",
        "colab": {
          "base_uri": "https://localhost:8080/"
        },
        "outputId": "3ab4c3c3-8706-4931-929a-b69649df24e1"
      },
      "execution_count": null,
      "outputs": [
        {
          "output_type": "execute_result",
          "data": {
            "text/plain": [
              "61.0"
            ]
          },
          "metadata": {},
          "execution_count": 65
        }
      ]
    },
    {
      "cell_type": "markdown",
      "source": [
        "**Medidas de posición: Moda**"
      ],
      "metadata": {
        "id": "SxMrFwM9hDaA"
      }
    },
    {
      "cell_type": "code",
      "source": [
        "stat.mode(df['EDAD'])\n"
      ],
      "metadata": {
        "id": "j5wcSlsuSjkw",
        "colab": {
          "base_uri": "https://localhost:8080/"
        },
        "outputId": "dd172198-d8d4-43ea-c4bb-d57bebe17770"
      },
      "execution_count": null,
      "outputs": [
        {
          "output_type": "execute_result",
          "data": {
            "text/plain": [
              "Interval(32.833, 45.667, closed='right')"
            ]
          },
          "metadata": {},
          "execution_count": 66
        }
      ]
    },
    {
      "cell_type": "code",
      "source": [
        "stat.mode(df['ESTADO_CIVIL'])"
      ],
      "metadata": {
        "id": "q6BvkkhYmEBf",
        "colab": {
          "base_uri": "https://localhost:8080/",
          "height": 35
        },
        "outputId": "7bbd05d2-d13d-48b3-d8d6-9469611a432b"
      },
      "execution_count": null,
      "outputs": [
        {
          "output_type": "execute_result",
          "data": {
            "text/plain": [
              "'Soltero/a'"
            ],
            "application/vnd.google.colaboratory.intrinsic+json": {
              "type": "string"
            }
          },
          "metadata": {},
          "execution_count": 67
        }
      ]
    },
    {
      "cell_type": "markdown",
      "source": [
        "\n",
        "\n",
        "**Medidas de posición no centrales:**\n",
        "**Cuartiles**"
      ],
      "metadata": {
        "id": "aPghRIRAnvhG"
      }
    },
    {
      "cell_type": "code",
      "source": [
        "#si quiero pedir los cuantiles con numpy para una variable\n",
        "print( \"q1:\", np.quantile(df.ANTIGUEDAD_CORDOBESA, 0.25))\n",
        "print( \"q2:\", np.quantile(df.ANTIGUEDAD_CORDOBESA, 0.50))\n",
        "print( \"q3:\", np.quantile(df.ANTIGUEDAD_CORDOBESA, 0.75))\n",
        "print( \"q4:\", np.quantile(df.ANTIGUEDAD_CORDOBESA, 1))"
      ],
      "metadata": {
        "id": "H5MNVPfuoGFO",
        "colab": {
          "base_uri": "https://localhost:8080/"
        },
        "outputId": "dbbd34ad-00b1-44ba-a2be-edfc6a3f5604"
      },
      "execution_count": null,
      "outputs": [
        {
          "output_type": "stream",
          "name": "stdout",
          "text": [
            "q1: 26.0\n",
            "q2: 61.0\n",
            "q3: 104.0\n",
            "q4: 115\n"
          ]
        }
      ]
    },
    {
      "cell_type": "code",
      "source": [
        "#usando pandas\n",
        "df['ANTIGUEDAD_CORDOBESA'].quantile(0.25)"
      ],
      "metadata": {
        "id": "q3GnijHCsj2G",
        "colab": {
          "base_uri": "https://localhost:8080/"
        },
        "outputId": "58682793-c1ed-4fcb-f7e1-c6be8acf31fe"
      },
      "execution_count": null,
      "outputs": [
        {
          "output_type": "execute_result",
          "data": {
            "text/plain": [
              "26.0"
            ]
          },
          "metadata": {},
          "execution_count": 69
        }
      ]
    },
    {
      "cell_type": "code",
      "source": [
        "#Medidas descriptivas básicas para Antigüedad\n",
        "df['ANTIGUEDAD_CORDOBESA'].describe()"
      ],
      "metadata": {
        "id": "7EOfpiVxrRlu",
        "colab": {
          "base_uri": "https://localhost:8080/"
        },
        "outputId": "a9bf9b07-0c73-44d2-b51c-5727d19bc7db"
      },
      "execution_count": null,
      "outputs": [
        {
          "output_type": "execute_result",
          "data": {
            "text/plain": [
              "count    10332.000000\n",
              "mean        63.303620\n",
              "std         40.828192\n",
              "min          0.000000\n",
              "25%         26.000000\n",
              "50%         61.000000\n",
              "75%        104.000000\n",
              "max        115.000000\n",
              "Name: ANTIGUEDAD_CORDOBESA, dtype: float64"
            ]
          },
          "metadata": {},
          "execution_count": 70
        }
      ]
    },
    {
      "cell_type": "markdown",
      "source": [
        "\n",
        "\n",
        "**Medidas de posición no centrales:**\n",
        "**Percentiles**"
      ],
      "metadata": {
        "id": "xR54_AI0n6it"
      }
    },
    {
      "cell_type": "code",
      "source": [
        "np.percentile(df.ANTIGUEDAD_CORDOBESA, 50)\n",
        "\n",
        "#si quiero pedir los cuantiles con numpy para una variable\n",
        "print( \"perc1:\", np.percentile(df.ANTIGUEDAD_CORDOBESA, 10))\n",
        "print( \"perc2:\", np.percentile(df.ANTIGUEDAD_CORDOBESA, 20))\n",
        "print( \"perc3:\", np.percentile(df.ANTIGUEDAD_CORDOBESA, 30))\n",
        "print( \"perc4:\", np.percentile(df.ANTIGUEDAD_CORDOBESA, 40))\n",
        "print( \"perc5:\", np.percentile(df.ANTIGUEDAD_CORDOBESA, 50))\n",
        "print( \"perc6:\", np.percentile(df.ANTIGUEDAD_CORDOBESA, 60))\n",
        "print( \"perc7:\", np.percentile(df.ANTIGUEDAD_CORDOBESA, 70))\n",
        "print( \"perc8:\", np.percentile(df.ANTIGUEDAD_CORDOBESA, 80))\n",
        "print( \"perc9:\", np.percentile(df.ANTIGUEDAD_CORDOBESA, 90))\n",
        "print( \"perc10:\", np.percentile(df.ANTIGUEDAD_CORDOBESA, 100))\n",
        "\n"
      ],
      "metadata": {
        "id": "Dw0rVoFyZHE_",
        "colab": {
          "base_uri": "https://localhost:8080/"
        },
        "outputId": "edb9774f-8399-4b91-e84b-8556f8dbcfea"
      },
      "execution_count": null,
      "outputs": [
        {
          "output_type": "stream",
          "name": "stdout",
          "text": [
            "perc1: 5.0\n",
            "perc2: 18.0\n",
            "perc3: 35.0\n",
            "perc4: 46.0\n",
            "perc5: 61.0\n",
            "perc6: 84.0\n",
            "perc7: 104.0\n",
            "perc8: 110.0\n",
            "perc9: 114.0\n",
            "perc10: 115.0\n"
          ]
        }
      ]
    },
    {
      "cell_type": "markdown",
      "source": [
        "**Medidas de dispersión: Varianza, desv. estándar, coef de variación y rango`**"
      ],
      "metadata": {
        "id": "l2dNO0vMRHk6"
      }
    },
    {
      "cell_type": "code",
      "source": [
        "print( \"La varianza es\", df['ANTIGUEDAD_CORDOBESA'].var())\n",
        "print( \"La desv. estandar es\" ,df['ANTIGUEDAD_CORDOBESA'].std())\n",
        "print(\"El coef. de variación es\", df['ANTIGUEDAD_CORDOBESA'].std()/df['ANTIGUEDAD_CORDOBESA'].mean())"
      ],
      "metadata": {
        "id": "NkeSLYlXTWoJ",
        "colab": {
          "base_uri": "https://localhost:8080/"
        },
        "outputId": "1a4e71b0-e7e7-496f-ba22-e3b339e3ac1f"
      },
      "execution_count": null,
      "outputs": [
        {
          "output_type": "stream",
          "name": "stdout",
          "text": [
            "La varianza es 1666.9412975141477\n",
            "La desv. estandar es 40.82819243505825\n",
            "El coef. de variación es 0.6449582590998311\n"
          ]
        }
      ]
    },
    {
      "cell_type": "markdown",
      "source": [
        "**Medidas de dispersión: Rango y Rango Intercuartilico`**"
      ],
      "metadata": {
        "id": "d2lTgAGmb9p4"
      }
    },
    {
      "cell_type": "code",
      "source": [
        "print(\"El Rango es\", df['ANTIGUEDAD_CORDOBESA'].max()-df['ANTIGUEDAD_CORDOBESA'].min())\n",
        "print(\"El Rango Intercuartilico es\", np.quantile(df.ANTIGUEDAD_CORDOBESA, 0.75)-np.quantile(df.ANTIGUEDAD_CORDOBESA, 0.25))"
      ],
      "metadata": {
        "id": "Rg11HvXqcCqX",
        "colab": {
          "base_uri": "https://localhost:8080/"
        },
        "outputId": "b13251f3-103f-4868-f1b8-4275c3e56051"
      },
      "execution_count": null,
      "outputs": [
        {
          "output_type": "stream",
          "name": "stdout",
          "text": [
            "El Rango es 115\n",
            "El Rango Intercuartilico es 78.0\n"
          ]
        }
      ]
    },
    {
      "cell_type": "markdown",
      "source": [
        "**Gráfico de Caja y Brazos Boxplot`**"
      ],
      "metadata": {
        "id": "3quHQsggS_16"
      }
    },
    {
      "cell_type": "code",
      "source": [
        "plt.figure(figsize=(12,8))\n",
        "plt.subplot(2, 1, 1)\n",
        "plt.boxplot(data=df, x='CORDOBESA_MONTO_SALDO_TOTAL')\n",
        "plt.ylabel('Pesos')\n",
        "plt.title('Distribución de la variable Monto saldo total',size='15')\n",
        "plt.grid(True)\n",
        "\n",
        "plt.subplot(2, 1, 2)\n",
        "plt.boxplot(data=df, x='EDAD')\n",
        "plt.ylabel('Años')\n",
        "plt.title('Distribución de la variable años',size='15')\n",
        "plt.ticklabel_format(style='plain', axis='y')\n",
        "plt.grid(True)\n",
        "plt.show()\n",
        "\n"
      ],
      "metadata": {
        "id": "xiXQ1FG-qpKw",
        "colab": {
          "base_uri": "https://localhost:8080/",
          "height": 643
        },
        "outputId": "4c27c02c-966b-4fb9-e537-844dff57a162"
      },
      "execution_count": null,
      "outputs": [
        {
          "output_type": "display_data",
          "data": {
            "text/plain": [
              "<Figure size 1200x800 with 2 Axes>"
            ],
            "image/png": "[encoded data removed]"
          },
          "metadata": {}
        }
      ]
    },
    {
      "cell_type": "code",
      "source": [
        "# Se puede observar como es la distribucion de la edad para una variable categorica\n",
        "\n",
        "plt.figure(figsize=(12,8))\n",
        "sn.boxplot(x='EDAD', y='ESTADO_CIVIL', data=df)\n",
        "plt.title(\"Distribución de la edad por estado civil\",size='15')\n",
        "plt.xlabel(\"Cantidad\")\n",
        "plt.ylabel(\"Estado civil\")\n",
        "plt.grid(True)\n",
        "plt.show()\n",
        "\n"
      ],
      "metadata": {
        "id": "GiVza8OFJjA8",
        "colab": {
          "base_uri": "https://localhost:8080/",
          "height": 638
        },
        "outputId": "0215dddc-9d0a-4fbb-f2e8-990fd6c59441"
      },
      "execution_count": null,
      "outputs": [
        {
          "output_type": "display_data",
          "data": {
            "text/plain": [
              "<Figure size 1200x800 with 1 Axes>"
            ],
            "image/png": "[encoded data removed]"
          },
          "metadata": {}
        }
      ]
    },
    {
      "cell_type": "code",
      "source": [
        "\n",
        "\n",
        "plt.figure(figsize=(12,8))\n",
        "sn.boxplot(y='ESTADO_CIVIL', x='EDAD', hue='SEXO', data=df)\n",
        "plt.title(\"Distribución de la edad por estado civil y por sexo\", size='15')\n",
        "plt.xlabel(\"Edad\",size='15')\n",
        "plt.ylabel(\"Estado civil\",size='15')\n",
        "plt.legend(bbox_to_anchor=(1.01, 1), loc=2, borderaxespad=0., title=\"Sexo\")\n",
        "plt.show()"
      ],
      "metadata": {
        "id": "xAX-D0agJntj",
        "colab": {
          "base_uri": "https://localhost:8080/",
          "height": 569
        },
        "outputId": "26909ab2-0409-4918-d780-8e8aa2d0befa"
      },
      "execution_count": null,
      "outputs": [
        {
          "output_type": "display_data",
          "data": {
            "text/plain": [
              "<Figure size 1200x800 with 1 Axes>"
            ],
            "image/png": "[encoded data removed]"
          },
          "metadata": {}
        }
      ]
    },
    {
      "cell_type": "markdown",
      "source": [
        "#Intervalos de confianza"
      ],
      "metadata": {
        "id": "kDWmB8ZmasyJ"
      }
    },
    {
      "cell_type": "markdown",
      "source": [
        " **Intervalo de confianza para la media Antigüedad en Cordobesa del dataset con varianza poblacional conocida**"
      ],
      "metadata": {
        "id": "eJ1VPVPheW-F"
      }
    },
    {
      "cell_type": "code",
      "source": [
        "#Supuesto de varianza poblacional conocida = 50\n",
        "media=np.mean(df['ANTIGUEDAD_CORDOBESA'])\n",
        "desv_estandar=np.sqrt(np.var(df['ANTIGUEDAD_CORDOBESA']))\n",
        "# ver como hacer cuando la variable no es normal\n",
        "desv_estandar"
      ],
      "metadata": {
        "id": "5kSXJEyHf45F",
        "colab": {
          "base_uri": "https://localhost:8080/"
        },
        "outputId": "42149ceb-091e-4285-92af-13d6773453f7"
      },
      "execution_count": null,
      "outputs": [
        {
          "output_type": "execute_result",
          "data": {
            "text/plain": [
              "40.82621657460581"
            ]
          },
          "metadata": {},
          "execution_count": 80
        }
      ]
    },
    {
      "cell_type": "code",
      "source": [
        "# Nivel de confianza\n",
        "nivel_conf=0.95\n",
        "# Varianza poblacional\n",
        "var=50\n",
        "# Datos muestrales\n",
        "data=df['ANTIGUEDAD_CORDOBESA']\n",
        "\n",
        "def ic(data,var,nivel_conf):\n",
        "    n = len(data)\n",
        "    z1 = st.norm.ppf((1-nivel_conf)/2)\n",
        "    z2 = st.norm.ppf(nivel_conf+(1-nivel_conf)/2)\n",
        "    data_mean = np.mean(data)\n",
        "    data_sd =  stdev( data, data_mean)\n",
        "    sigma=np.sqrt(var)\n",
        "    lim_inf=data_mean+z1*sigma/n**0.5\n",
        "    lim_sup=data_mean+z2*sigma/n**0.5\n",
        "    return lim_inf,lim_sup,z1, z2, data_mean,data_sd,n\n",
        "\n",
        "lim_inf,lim_sup,z1, z2, data_mean,data_sd,n = ic(data,var,nivel_conf)\n",
        "print(\"Media Muestral =\",data_mean)\n",
        "print(\"S Muestral =\",data_sd)\n",
        "print(\"n muestral =\",n)\n",
        "print(\"z1 =\", z1)\n",
        "print(\"z2=\", z2)\n",
        "print(\"Intervalo de confianza: \",\"[\",lim_inf,\";\",lim_sup,\"]\")"
      ],
      "metadata": {
        "id": "QAGn-zgiiyea",
        "colab": {
          "base_uri": "https://localhost:8080/"
        },
        "outputId": "e1863018-802d-4ba7-e68b-f3f7bfbd4791"
      },
      "execution_count": null,
      "outputs": [
        {
          "output_type": "stream",
          "name": "stdout",
          "text": [
            "Media Muestral = 63.303619821912505\n",
            "S Muestral = 40.82819243505825\n",
            "n muestral = 10332\n",
            "z1 = -1.959963984540054\n",
            "z2= 1.959963984540054\n",
            "Intervalo de confianza:  [ 63.16727429505508 ; 63.43996534876993 ]\n"
          ]
        }
      ]
    },
    {
      "cell_type": "markdown",
      "source": [
        "**Intervalo de confianza para la media Antigüedad en Cordobesa del dataset con varianza poblacional desconocida**"
      ],
      "metadata": {
        "id": "W_eBmdMumFwA"
      }
    },
    {
      "cell_type": "code",
      "source": [
        "# Nivel de confianza\n",
        "nivel_conf=0.95\n",
        "# Datos muestrales\n",
        "data=df['ANTIGUEDAD_CORDOBESA']\n",
        "from scipy.stats import t\n",
        "\n",
        "def ic(data,nivel_conf):\n",
        "    n = len(data)\n",
        "    t1 = t.ppf((1-nivel_conf)/2, n-1)\n",
        "    t2 = t.ppf(nivel_conf+(1-nivel_conf)/2, n-1)\n",
        "    data_mean = np.mean(data)\n",
        "    sigma = stdev( data, data_mean)\n",
        "    lim_inf=data_mean+t1*sigma/n**0.5\n",
        "    lim_sup=data_mean+t2*sigma/n**0.5\n",
        "    return lim_inf,lim_sup,t1,t2,data_mean,sigma,n\n",
        "\n",
        "lim_inf,lim_sup,t1,t2,data_mean,sigma,n = ic(data,nivel_conf)\n",
        "print(\"Media Muestral =\",data_mean)\n",
        "print(\"S Muestral =\",sigma)\n",
        "print(\"n muestral =\",n)\n",
        "print(\"t1 =\", t1)\n",
        "print(\"t2 =\", t2)\n",
        "print(\"Intervalo de confianza: \",\"[\",lim_inf,\";\",lim_sup,\"]\")"
      ],
      "metadata": {
        "id": "iPg38rd0mA9N",
        "colab": {
          "base_uri": "https://localhost:8080/"
        },
        "outputId": "22bbbd52-2b47-4f5f-8fe9-15185b849bd5"
      },
      "execution_count": null,
      "outputs": [
        {
          "output_type": "stream",
          "name": "stdout",
          "text": [
            "Media Muestral = 63.303619821912505\n",
            "S Muestral = 40.82819243505825\n",
            "n muestral = 10332\n",
            "t1 = -1.9601936374740356\n",
            "t2 = 1.9601936374740356\n",
            "Intervalo de confianza:  [ 62.51627145775555 ; 64.09096818606946 ]\n"
          ]
        }
      ]
    },
    {
      "cell_type": "markdown",
      "source": [
        " **Intervalo de confianza para la varianza de la variable Antigüedad en Cordobesa de nuestro dataset**"
      ],
      "metadata": {
        "id": "1VkYr2fil20p"
      }
    },
    {
      "cell_type": "code",
      "source": [
        "# Nivel de confianza\n",
        "nivel_conf=0.95\n",
        "# Datos muestrales\n",
        "data=df['ANTIGUEDAD_CORDOBESA']\n",
        "\n",
        "def ic(data,nivel_conf):\n",
        "    n = len(data)\n",
        "    chi_1 = st.chi2.ppf(nivel_conf+(1-nivel_conf)/2,n-1)\n",
        "    chi_2 = st.chi2.ppf(1-(nivel_conf+(1-nivel_conf)/2),n-1)\n",
        "    data_mean = np.mean(data)\n",
        "    data_sd = stdev( data, data_mean )\n",
        "    var=data_sd**2\n",
        "    lim_inf=(n-1)*var/chi_1\n",
        "    lim_sup=(n-1)*var/chi_2\n",
        "    return lim_inf,lim_sup,data_mean,var,n\n",
        "\n",
        "lim_inf,lim_sup,data_mean,var,n = ic(data,nivel_conf)\n",
        "print(\"Media Muestral =\",data_mean)\n",
        "print(\"Varianza Muestral =\",var)\n",
        "print(\"n Muestral\")\n",
        "print(\"Intervalo de confianza: \",\"[\",lim_inf,\";\",lim_sup,\"]\")\n"
      ],
      "metadata": {
        "id": "ohFvWQyeomvd",
        "colab": {
          "base_uri": "https://localhost:8080/"
        },
        "outputId": "cf3dd89d-ef60-4672-ef94-eaf2da4c291d"
      },
      "execution_count": null,
      "outputs": [
        {
          "output_type": "stream",
          "name": "stdout",
          "text": [
            "Media Muestral = 63.303619821912505\n",
            "Varianza Muestral = 1666.9412975141477\n",
            "n Muestral\n",
            "Intervalo de confianza:  [ 1622.4010024740685 ; 1713.3501326272938 ]\n"
          ]
        }
      ]
    },
    {
      "cell_type": "code",
      "source": [
        "print(\"Intervalo de confianza para la desviaciòn estandar es:\",\"[\", np.sqrt(lim_inf),\";\",np.sqrt(lim_sup),\"]\")"
      ],
      "metadata": {
        "id": "Ey1AonBkGDF6",
        "colab": {
          "base_uri": "https://localhost:8080/"
        },
        "outputId": "ca4c0ce8-f697-424c-b7ee-7df2fe6804f1"
      },
      "execution_count": null,
      "outputs": [
        {
          "output_type": "stream",
          "name": "stdout",
          "text": [
            "Intervalo de confianza para la desviaciòn estandar es: [ 40.279039244675 ; 41.39263379669496 ]\n"
          ]
        }
      ]
    },
    {
      "cell_type": "markdown",
      "source": [
        " **Intervalo de confianza para la proporción de clientes que tiene tarjeta visa en nuestro dataset**"
      ],
      "metadata": {
        "id": "pL8xbwBGmZsD"
      }
    },
    {
      "cell_type": "code",
      "source": [
        "data_p = df[df.TIENE_TARJETA_VISA == 1].TIENE_TARJETA_VISA.count()/len(df['TIENE_TARJETA_VISA'])\n",
        "n = len(data)\n",
        "sigma =((data_p*(1-data_p))/n)**0.5\n",
        "sigma"
      ],
      "metadata": {
        "id": "grjIJTPnnu-h",
        "colab": {
          "base_uri": "https://localhost:8080/"
        },
        "outputId": "489a2d74-4161-4fdf-cd37-89e80a796616"
      },
      "execution_count": null,
      "outputs": [
        {
          "output_type": "execute_result",
          "data": {
            "text/plain": [
              "0.0045118305178215605"
            ]
          },
          "metadata": {},
          "execution_count": 85
        }
      ]
    },
    {
      "cell_type": "code",
      "source": [
        "\n",
        "# Nivel de confianza\n",
        "nivel_conf=0.95\n",
        "# proporcion\n",
        "p=df[df.TIENE_TARJETA_VISA == 1].TIENE_TARJETA_VISA.count()/len(df['TIENE_TARJETA_VISA'])\n",
        "# Datos muestrales\n",
        "data=df['TIENE_TARJETA_VISA']\n",
        "\n",
        "def ic(data,p,nivel_conf):\n",
        "    n = len(data)\n",
        "    z1 = st.norm.ppf((1-nivel_conf)/2)\n",
        "    z2 = st.norm.ppf(nivel_conf+(1-nivel_conf)/2)\n",
        "    data_p = df[df.TIENE_TARJETA_VISA == 1].TIENE_TARJETA_VISA.count()/len(df['TIENE_TARJETA_VISA'])\n",
        "    sigma =((data_p*(1-data_p))/n)**0.5\n",
        "    lim_inf=p+(z1*sigma)\n",
        "    lim_sup=p+(z2*sigma)\n",
        "    return lim_inf,lim_sup,z1, z2, data_p,n\n",
        "\n",
        "lim_inf,lim_sup,z1,z2,data_p,n = ic(data,p,nivel_conf)\n",
        "print(\"Prop Muestral =\",data_p)\n",
        "print(\"n muestral =\",n)\n",
        "print(\"z1 =\", z1)\n",
        "print(\"z2 =\", z2)\n",
        "print(\"proporcion\", data_p)\n",
        "print(\"Intervalo de confianza: \",\"[\",lim_inf,\";\",lim_sup,\"]\")"
      ],
      "metadata": {
        "id": "_W4rybwmooh_",
        "colab": {
          "base_uri": "https://localhost:8080/"
        },
        "outputId": "9a2b8159-b1f7-490b-c06f-2203f7b96d95"
      },
      "execution_count": null,
      "outputs": [
        {
          "output_type": "stream",
          "name": "stdout",
          "text": [
            "Prop Muestral = 0.3008130081300813\n",
            "n muestral = 10332\n",
            "z1 = -1.959963984540054\n",
            "z2 = 1.959963984540054\n",
            "proporcion 0.3008130081300813\n",
            "Intervalo de confianza:  [ 0.2919699828108024 ; 0.30965603344936027 ]\n"
          ]
        }
      ]
    }
  ],
  "metadata": {
    "kernelspec": {
      "display_name": "Python 3",
      "language": "python",
      "name": "python3"
    },
    "language_info": {
      "codemirror_mode": {
        "name": "ipython",
        "version": 3
      },
      "file_extension": ".py",
      "mimetype": "text/x-python",
      "name": "python",
      "nbconvert_exporter": "python",
      "pygments_lexer": "ipython3",
      "version": "3.8.5"
    },
    "colab": {
      "provenance": [],
      "collapsed_sections": [
        "k8RrLYh90jsM",
        "S1l1ut_T0pQM"
      ]
    }
  },
  "nbformat": 4,
  "nbformat_minor": 0
}